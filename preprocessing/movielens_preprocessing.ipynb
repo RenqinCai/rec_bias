{
 "cells": [
  {
   "cell_type": "code",
   "execution_count": 1,
   "metadata": {},
   "outputs": [],
   "source": [
    "import os\n",
    "import time\n",
    "import numpy as np\n",
    "import matplotlib.pyplot as plt\n",
    "from scipy.sparse import csr_matrix\n",
    "import pandas as pd\n",
    "import torch\n",
    "import json\n",
    "import random"
   ]
  },
  {
   "cell_type": "code",
   "execution_count": 39,
   "metadata": {},
   "outputs": [
    {
     "name": "stdout",
     "output_type": "stream",
     "text": [
      "dimension: (25000095, 4)\n"
     ]
    },
    {
     "data": {
      "text/html": [
       "<div>\n",
       "<style scoped>\n",
       "    .dataframe tbody tr th:only-of-type {\n",
       "        vertical-align: middle;\n",
       "    }\n",
       "\n",
       "    .dataframe tbody tr th {\n",
       "        vertical-align: top;\n",
       "    }\n",
       "\n",
       "    .dataframe thead th {\n",
       "        text-align: right;\n",
       "    }\n",
       "</style>\n",
       "<table border=\"1\" class=\"dataframe\">\n",
       "  <thead>\n",
       "    <tr style=\"text-align: right;\">\n",
       "      <th></th>\n",
       "      <th>userId</th>\n",
       "      <th>movieId</th>\n",
       "      <th>rating</th>\n",
       "      <th>timestamp</th>\n",
       "    </tr>\n",
       "  </thead>\n",
       "  <tbody>\n",
       "    <tr>\n",
       "      <th>0</th>\n",
       "      <td>1</td>\n",
       "      <td>296</td>\n",
       "      <td>5.0</td>\n",
       "      <td>1147880044</td>\n",
       "    </tr>\n",
       "    <tr>\n",
       "      <th>1</th>\n",
       "      <td>1</td>\n",
       "      <td>306</td>\n",
       "      <td>3.5</td>\n",
       "      <td>1147868817</td>\n",
       "    </tr>\n",
       "    <tr>\n",
       "      <th>2</th>\n",
       "      <td>1</td>\n",
       "      <td>307</td>\n",
       "      <td>5.0</td>\n",
       "      <td>1147868828</td>\n",
       "    </tr>\n",
       "    <tr>\n",
       "      <th>3</th>\n",
       "      <td>1</td>\n",
       "      <td>665</td>\n",
       "      <td>5.0</td>\n",
       "      <td>1147878820</td>\n",
       "    </tr>\n",
       "    <tr>\n",
       "      <th>4</th>\n",
       "      <td>1</td>\n",
       "      <td>899</td>\n",
       "      <td>3.5</td>\n",
       "      <td>1147868510</td>\n",
       "    </tr>\n",
       "  </tbody>\n",
       "</table>\n",
       "</div>"
      ],
      "text/plain": [
       "   userId  movieId  rating   timestamp\n",
       "0       1      296     5.0  1147880044\n",
       "1       1      306     3.5  1147868817\n",
       "2       1      307     5.0  1147868828\n",
       "3       1      665     5.0  1147878820\n",
       "4       1      899     3.5  1147868510"
      ]
     },
     "execution_count": 39,
     "metadata": {},
     "output_type": "execute_result"
    }
   ],
   "source": [
    "data_dir = \"./data/ml-25m\"\n",
    "\n",
    "user_col = \"userId\"\n",
    "item_col = \"movieId\"\n",
    "value_col = \"rating\"\n",
    "time_col = \"timestamp\"\n",
    "\n",
    "rating_path = os.path.join(data_dir, \"ratings.csv\")\n",
    "df_raw = pd.read_csv(rating_path)\n",
    "print(\"dimension:\", df_raw.shape)\n",
    "df_raw.head()  "
   ]
  },
  {
   "cell_type": "code",
   "execution_count": 40,
   "metadata": {},
   "outputs": [
    {
     "name": "stdout",
     "output_type": "stream",
     "text": [
      "dimension:  (57361, 3)\n"
     ]
    },
    {
     "data": {
      "text/html": [
       "<div>\n",
       "<style scoped>\n",
       "    .dataframe tbody tr th:only-of-type {\n",
       "        vertical-align: middle;\n",
       "    }\n",
       "\n",
       "    .dataframe tbody tr th {\n",
       "        vertical-align: top;\n",
       "    }\n",
       "\n",
       "    .dataframe thead th {\n",
       "        text-align: right;\n",
       "    }\n",
       "</style>\n",
       "<table border=\"1\" class=\"dataframe\">\n",
       "  <thead>\n",
       "    <tr style=\"text-align: right;\">\n",
       "      <th></th>\n",
       "      <th>movieId</th>\n",
       "      <th>title</th>\n",
       "      <th>genres</th>\n",
       "    </tr>\n",
       "  </thead>\n",
       "  <tbody>\n",
       "    <tr>\n",
       "      <th>0</th>\n",
       "      <td>1</td>\n",
       "      <td>Toy Story (1995)</td>\n",
       "      <td>Adventure|Animation|Children|Comedy|Fantasy</td>\n",
       "    </tr>\n",
       "    <tr>\n",
       "      <th>1</th>\n",
       "      <td>2</td>\n",
       "      <td>Jumanji (1995)</td>\n",
       "      <td>Adventure|Children|Fantasy</td>\n",
       "    </tr>\n",
       "    <tr>\n",
       "      <th>2</th>\n",
       "      <td>3</td>\n",
       "      <td>Grumpier Old Men (1995)</td>\n",
       "      <td>Comedy|Romance</td>\n",
       "    </tr>\n",
       "    <tr>\n",
       "      <th>3</th>\n",
       "      <td>4</td>\n",
       "      <td>Waiting to Exhale (1995)</td>\n",
       "      <td>Comedy|Drama|Romance</td>\n",
       "    </tr>\n",
       "    <tr>\n",
       "      <th>4</th>\n",
       "      <td>5</td>\n",
       "      <td>Father of the Bride Part II (1995)</td>\n",
       "      <td>Comedy</td>\n",
       "    </tr>\n",
       "  </tbody>\n",
       "</table>\n",
       "</div>"
      ],
      "text/plain": [
       "   movieId                               title  \\\n",
       "0        1                    Toy Story (1995)   \n",
       "1        2                      Jumanji (1995)   \n",
       "2        3             Grumpier Old Men (1995)   \n",
       "3        4            Waiting to Exhale (1995)   \n",
       "4        5  Father of the Bride Part II (1995)   \n",
       "\n",
       "                                        genres  \n",
       "0  Adventure|Animation|Children|Comedy|Fantasy  \n",
       "1                   Adventure|Children|Fantasy  \n",
       "2                               Comedy|Romance  \n",
       "3                         Comedy|Drama|Romance  \n",
       "4                                       Comedy  "
      ]
     },
     "execution_count": 40,
     "metadata": {},
     "output_type": "execute_result"
    }
   ],
   "source": [
    "title_col = \"title\"\n",
    "genre_col = \"genres\"\n",
    "\n",
    "item_info_path = os.path.join(data_dir, \"movies.csv\")\n",
    "df_item = pd.read_csv(item_info_path)\n",
    "df_item = df_item[df_item[genre_col]!=\"(no genres listed)\"]\n",
    "print(\"dimension: \", df_item.shape)\n",
    "df_item.head()"
   ]
  },
  {
   "cell_type": "code",
   "execution_count": 41,
   "metadata": {},
   "outputs": [],
   "source": [
    "df_rating = df_raw[df_raw[value_col] >= 4.0].copy()\n",
    "df_rating = df_rating.merge(df_item, on=item_col)"
   ]
  },
  {
   "cell_type": "markdown",
   "metadata": {},
   "source": [
    "### remove unpopular items and unpopular users"
   ]
  },
  {
   "cell_type": "code",
   "execution_count": 42,
   "metadata": {},
   "outputs": [],
   "source": [
    "def threshold_user_item(df, uid_min, iid_min):\n",
    "    n_users = df[user_col].unique().shape[0]\n",
    "    n_items = df[item_col].unique().shape[0]\n",
    "    sparsity = float(df.shape[0])/float(n_users*n_items)*100\n",
    "    print(\"info\")\n",
    "    print(\"number of users: {}\".format(n_users))\n",
    "    print(\"number of items: {}\".format(n_items))\n",
    "    print(\"sparsity:{:4.4f}%\".format(sparsity))\n",
    "    \n",
    "    done = False\n",
    "    while not done:\n",
    "        starting_shape = df.shape[0]\n",
    "        item_counts = df.groupby(user_col)[item_col].count()\n",
    "        df = df[~df[user_col].isin(item_counts[item_counts < iid_min].index.tolist())]\n",
    "        user_counts = df.groupby(item_col)[user_col].count()\n",
    "        df = df[~df[item_col].isin(user_counts[user_counts < uid_min].index.tolist())]\n",
    "        ending_shape = df.shape[0]\n",
    "        if starting_shape == ending_shape:\n",
    "            done = True\n",
    "            \n",
    "    n_users = df[user_col].unique().shape[0]\n",
    "    n_items = df[item_col].unique().shape[0]\n",
    "    sparsity = float(df.shape[0])/float(n_users*n_items)*100\n",
    "    print(\"number of users: {}\".format(n_users))\n",
    "    print(\"number of items: {}\".format(n_items))\n",
    "    print(\"sparsity:{:4.4f}%\".format(sparsity))\n",
    "    \n",
    "    return df"
   ]
  },
  {
   "cell_type": "code",
   "execution_count": 43,
   "metadata": {},
   "outputs": [
    {
     "name": "stdout",
     "output_type": "stream",
     "text": [
      "info\n",
      "number of users: 162342\n",
      "number of items: 38715\n",
      "sparsity:0.1980%\n",
      "number of users: 154051\n",
      "number of items: 15306\n",
      "sparsity:0.5227%\n"
     ]
    }
   ],
   "source": [
    "user_min_num = 10\n",
    "item_min_num = 10\n",
    "new_df_rating = threshold_user_item(df_rating, user_min_num, item_min_num)"
   ]
  },
  {
   "cell_type": "code",
   "execution_count": 44,
   "metadata": {},
   "outputs": [],
   "source": [
    "movieId_to_iid = {}\n",
    "movieId_to_iid[\"<pad>\"] = 0\n",
    "iid_to_movieId = {}\n",
    "iid_to_movieId[0] = \"<pad>\"\n",
    "\n",
    "for (idx, movieId) in enumerate(new_df_rating.movieId.unique().tolist()):\n",
    "    movieId_to_iid[movieId] = idx+1\n",
    "    iid_to_movieId[idx+1] = movieId\n",
    "    \n",
    "userId_to_uid = {}\n",
    "userId_to_uid[\"<pad>\"] = 0\n",
    "uid_to_userId = {}\n",
    "uid_to_userId[0] = \"<pad>\"\n",
    "\n",
    "for (idx, userId) in enumerate(new_df_rating.userId.unique().tolist()):\n",
    "    userId_to_uid[userId] = idx+1\n",
    "    uid_to_userId[idx+1] = userId "
   ]
  },
  {
   "cell_type": "code",
   "execution_count": 45,
   "metadata": {},
   "outputs": [
    {
     "name": "stdout",
     "output_type": "stream",
     "text": [
      "user_num: 154052\n",
      "item_num: 15307\n"
     ]
    }
   ],
   "source": [
    "user_num = len(uid_to_userId)\n",
    "item_num = len(iid_to_movieId)\n",
    "print(\"user_num:\", user_num)\n",
    "print(\"item_num:\", item_num)"
   ]
  },
  {
   "cell_type": "code",
   "execution_count": 46,
   "metadata": {},
   "outputs": [],
   "source": [
    "new_df_rating[\"userId\"] = new_df_rating.userId.apply(lambda x: userId_to_uid[x])\n",
    "new_df_rating[\"movieId\"] = new_df_rating.movieId.apply(lambda x: movieId_to_iid[x])"
   ]
  },
  {
   "cell_type": "code",
   "execution_count": 47,
   "metadata": {},
   "outputs": [],
   "source": [
    "user_itemlist_dict = new_df_rating.groupby([\"userId\"]).movieId.apply(list)\n",
    "user_itemlist_dict = dict(user_itemlist_dict)"
   ]
  },
  {
   "cell_type": "code",
   "execution_count": 48,
   "metadata": {},
   "outputs": [],
   "source": [
    "train_itemlist = list(new_df_rating.movieId.unique())"
   ]
  },
  {
   "cell_type": "code",
   "execution_count": 12,
   "metadata": {},
   "outputs": [
    {
     "name": "stdout",
     "output_type": "stream",
     "text": [
      "[95, 66, 7, 41, 44, 65, 99, 12, 94, 42]\n",
      "10\n"
     ]
    }
   ],
   "source": [
    "tmp = [i for i in range(100)]\n",
    "a = random.sample(tmp, k=10)\n",
    "print(a)\n",
    "print(len(set(a)))"
   ]
  },
  {
   "cell_type": "code",
   "execution_count": null,
   "metadata": {},
   "outputs": [],
   "source": []
  },
  {
   "cell_type": "code",
   "execution_count": 54,
   "metadata": {},
   "outputs": [],
   "source": [
    "def split_train_test(user_data):\n",
    "    neg_sample = 500\n",
    "    train = []\n",
    "    valid = []\n",
    "    test = []\n",
    "    \n",
    "    train_ratio = 0.7\n",
    "    valid_ratio = 0.8\n",
    "#     test_ratio = 0.1\n",
    "    \n",
    "    userlist = list(user_data.keys())\n",
    "    usernum = len(userlist)\n",
    "        \n",
    "    for i in range(user_num):\n",
    "        user_i = userlist[i]\n",
    "        \n",
    "        itemlist_i = user_data[user_i]\n",
    "        random.shuffle(itemlist_i)\n",
    "        itemnum_i = len(itemlist_i)\n",
    "        \n",
    "        valid_threshold = int(itemnum_i*train_ratio)\n",
    "        test_threshold = int(itemnum_i*valid_ratio)\n",
    "        \n",
    "        train_itemlist_i = itemlist_i[:valid_threshold]\n",
    "        valid_itemlist_i = itemlist_i[valid_threshold:test_threshold]\n",
    "        test_itemlist_i = itemlist_i[test_threshold:]\n",
    "        \n",
    "        train_negitemlist_i = set(train_itemlist_i)^set(train_itemlist)\n",
    "        train_negitemlist_i = list(train_negitemlist_i)\n",
    "        \n",
    "        for item_j in train_itemlist_i:\n",
    "            sampled_negitemlist_i = random.sample(train_negitemlist_i, k=neg_sample)\n",
    "            train.append([user_i, item_j, sampled_negitemlist_i])\n",
    "        \n",
    "        for item_j in valid_itemlist_i:\n",
    "            valid.append([user_i, item_j])\n",
    "            \n",
    "        for item_j in test_itemlist_i:\n",
    "            test.append([user_i, item_j])\n",
    "            \n",
    "    print(\"train_num\", len(train))\n",
    "    print(\"valid num\", len(valid))\n",
    "    print(\"test num\", len(test))\n",
    "    \n",
    "    return train, valid, test"
   ]
  },
  {
   "cell_type": "code",
   "execution_count": null,
   "metadata": {},
   "outputs": [],
   "source": [
    "train_data, valid_data, test_data = split_train_test(user_itemlist_dict)"
   ]
  },
  {
   "cell_type": "code",
   "execution_count": null,
   "metadata": {},
   "outputs": [],
   "source": [
    "train_df = pd.DataFrame(train_data)\n",
    "train_df.columns=[\"userid\", \"pos_itemid\", \"neg_itemid\"]\n",
    "valid_df = pd.DataFrame(valid_data)\n",
    "valid_df.columns=[\"userid\", \"itemid\"]\n",
    "test_df = pd.DataFrame(test_data)\n",
    "test_df.columns=[\"userid\", \"itemid\"]\n",
    "print(\"train num\", len(train_df))\n",
    "print(\"valid num\", len(valid_df))\n",
    "print(\"test num\", len(test_df))"
   ]
  },
  {
   "cell_type": "code",
   "execution_count": 34,
   "metadata": {},
   "outputs": [
    {
     "data": {
      "text/html": [
       "<div>\n",
       "<style scoped>\n",
       "    .dataframe tbody tr th:only-of-type {\n",
       "        vertical-align: middle;\n",
       "    }\n",
       "\n",
       "    .dataframe tbody tr th {\n",
       "        vertical-align: top;\n",
       "    }\n",
       "\n",
       "    .dataframe thead th {\n",
       "        text-align: right;\n",
       "    }\n",
       "</style>\n",
       "<table border=\"1\" class=\"dataframe\">\n",
       "  <thead>\n",
       "    <tr style=\"text-align: right;\">\n",
       "      <th></th>\n",
       "      <th>userid</th>\n",
       "      <th>itemid</th>\n",
       "    </tr>\n",
       "  </thead>\n",
       "  <tbody>\n",
       "    <tr>\n",
       "      <th>0</th>\n",
       "      <td>1</td>\n",
       "      <td>37</td>\n",
       "    </tr>\n",
       "    <tr>\n",
       "      <th>1</th>\n",
       "      <td>1</td>\n",
       "      <td>27</td>\n",
       "    </tr>\n",
       "    <tr>\n",
       "      <th>2</th>\n",
       "      <td>1</td>\n",
       "      <td>17</td>\n",
       "    </tr>\n",
       "    <tr>\n",
       "      <th>3</th>\n",
       "      <td>1</td>\n",
       "      <td>15</td>\n",
       "    </tr>\n",
       "    <tr>\n",
       "      <th>4</th>\n",
       "      <td>1</td>\n",
       "      <td>31</td>\n",
       "    </tr>\n",
       "  </tbody>\n",
       "</table>\n",
       "</div>"
      ],
      "text/plain": [
       "   userid  itemid\n",
       "0       1      37\n",
       "1       1      27\n",
       "2       1      17\n",
       "3       1      15\n",
       "4       1      31"
      ]
     },
     "execution_count": 34,
     "metadata": {},
     "output_type": "execute_result"
    }
   ],
   "source": [
    "train_df.head()"
   ]
  },
  {
   "cell_type": "code",
   "execution_count": 35,
   "metadata": {},
   "outputs": [],
   "source": [
    "train_data_file = \"train_data.pickle\"\n",
    "train_data_abs_file = os.path.join(data_dir, train_data_file)\n",
    "train_df.to_pickle(train_data_abs_file)\n",
    "\n",
    "valid_data_file = \"valid_data.pickle\"\n",
    "valid_data_abs_file = os.path.join(data_dir, valid_data_file)\n",
    "valid_df.to_pickle(valid_data_abs_file)\n",
    "\n",
    "test_data_file = \"test_data.pickle\"\n",
    "test_data_abs_file = os.path.join(data_dir, test_data_file)\n",
    "test_df.to_pickle(test_data_abs_file)"
   ]
  },
  {
   "cell_type": "code",
   "execution_count": 36,
   "metadata": {},
   "outputs": [],
   "source": [
    "userId_to_uid = {str(k):str(userId_to_uid[k]) for k in userId_to_uid}\n",
    "movieId_to_iid = {str(k):str(movieId_to_iid[k]) for k in movieId_to_iid}\n",
    "\n",
    "uid_to_userId = {str(k):str(uid_to_userId[k]) for k in uid_to_userId}\n",
    "iid_to_movieId = {str(k):str(iid_to_movieId[k]) for k in iid_to_movieId}\n",
    "\n",
    "vocab = {\"userindex2uid\": userId_to_uid, \"uid2userindex\":uid_to_userId, \"itemindex2iid\": movieId_to_iid, \"iid2itemindex\":iid_to_movieId}\n",
    "vocab_file = \"vocab.json\"\n",
    "\n",
    "with open(os.path.join(data_dir, vocab_file), \"w\", encoding=\"utf8\") as f:\n",
    "    json.dump(vocab, f)"
   ]
  },
  {
   "cell_type": "code",
   "execution_count": null,
   "metadata": {},
   "outputs": [],
   "source": []
  },
  {
   "cell_type": "code",
   "execution_count": 49,
   "metadata": {},
   "outputs": [],
   "source": [
    "a = torch.randn((3, 4))"
   ]
  },
  {
   "cell_type": "code",
   "execution_count": 50,
   "metadata": {},
   "outputs": [
    {
     "data": {
      "text/plain": [
       "tensor([[ 0.2862, -1.0019,  0.0103,  0.0317],\n",
       "        [ 0.7306,  0.9805,  1.1846, -1.0710],\n",
       "        [-1.0851, -0.9494,  0.0846, -1.1893]])"
      ]
     },
     "execution_count": 50,
     "metadata": {},
     "output_type": "execute_result"
    }
   ],
   "source": [
    "a"
   ]
  },
  {
   "cell_type": "code",
   "execution_count": 51,
   "metadata": {},
   "outputs": [
    {
     "data": {
      "text/plain": [
       "tensor([[   -inf,    -inf,  0.0103,  0.0317],\n",
       "        [ 0.7306,    -inf,    -inf,    -inf],\n",
       "        [-1.0851,    -inf,    -inf,    -inf]])"
      ]
     },
     "execution_count": 51,
     "metadata": {},
     "output_type": "execute_result"
    }
   ],
   "source": [
    "b = torch.tensor([[1, 0, 0], [2, 1, 3], [1, 2, 3]])\n",
    "a.scatter_(1, b, float(\"-inf\"))"
   ]
  },
  {
   "cell_type": "code",
   "execution_count": 52,
   "metadata": {},
   "outputs": [
    {
     "data": {
      "text/plain": [
       "tensor([[   -inf,    -inf,  0.0103,  0.0317],\n",
       "        [ 0.7306,    -inf,    -inf,    -inf],\n",
       "        [-1.0851,    -inf,    -inf,    -inf]])"
      ]
     },
     "execution_count": 52,
     "metadata": {},
     "output_type": "execute_result"
    }
   ],
   "source": [
    "a"
   ]
  },
  {
   "cell_type": "code",
   "execution_count": 54,
   "metadata": {},
   "outputs": [
    {
     "data": {
      "text/plain": [
       "torch.return_types.topk(\n",
       "values=tensor([[ 0.0317],\n",
       "        [ 0.7306],\n",
       "        [-1.0851]]),\n",
       "indices=tensor([[3],\n",
       "        [0],\n",
       "        [0]]))"
      ]
     },
     "execution_count": 54,
     "metadata": {},
     "output_type": "execute_result"
    }
   ],
   "source": [
    "torch.topk(a, 1, -1)"
   ]
  },
  {
   "cell_type": "code",
   "execution_count": 55,
   "metadata": {},
   "outputs": [],
   "source": [
    "a[:, 0] = float(\"-inf\")"
   ]
  },
  {
   "cell_type": "code",
   "execution_count": 56,
   "metadata": {},
   "outputs": [
    {
     "data": {
      "text/plain": [
       "tensor([[  -inf,   -inf, 0.0103, 0.0317],\n",
       "        [  -inf,   -inf,   -inf,   -inf],\n",
       "        [  -inf,   -inf,   -inf,   -inf]])"
      ]
     },
     "execution_count": 56,
     "metadata": {},
     "output_type": "execute_result"
    }
   ],
   "source": [
    "a"
   ]
  },
  {
   "cell_type": "code",
   "execution_count": 58,
   "metadata": {},
   "outputs": [
    {
     "data": {
      "text/plain": [
       "[False, False, False, False]"
      ]
     },
     "execution_count": 58,
     "metadata": {},
     "output_type": "execute_result"
    }
   ],
   "source": [
    "list(a[0].numpy() == 0)"
   ]
  },
  {
   "cell_type": "code",
   "execution_count": 20,
   "metadata": {},
   "outputs": [
    {
     "data": {
      "text/plain": [
       "6"
      ]
     },
     "execution_count": 20,
     "metadata": {},
     "output_type": "execute_result"
    }
   ],
   "source": [
    "np.random.randint(10)"
   ]
  },
  {
   "cell_type": "code",
   "execution_count": null,
   "metadata": {},
   "outputs": [],
   "source": []
  }
 ],
 "metadata": {
  "kernelspec": {
   "display_name": "Python 3",
   "language": "python",
   "name": "python3"
  },
  "language_info": {
   "codemirror_mode": {
    "name": "ipython",
    "version": 3
   },
   "file_extension": ".py",
   "mimetype": "text/x-python",
   "name": "python",
   "nbconvert_exporter": "python",
   "pygments_lexer": "ipython3",
   "version": "3.7.3"
  }
 },
 "nbformat": 4,
 "nbformat_minor": 2
}

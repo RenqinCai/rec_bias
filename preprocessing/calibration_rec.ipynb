{
 "cells": [
  {
   "cell_type": "code",
   "execution_count": 126,
   "metadata": {},
   "outputs": [],
   "source": [
    "import os\n",
    "import time\n",
    "import numpy as np\n",
    "import matplotlib.pyplot as plt\n",
    "from scipy.sparse import csr_matrix\n",
    "import pandas as pd\n",
    "import torch\n",
    "import json"
   ]
  },
  {
   "cell_type": "code",
   "execution_count": 2,
   "metadata": {},
   "outputs": [],
   "source": [
    "# path = os.getcwd()\n",
    "# os.chdir(os.path.join(\"..\", \"..\", \"notebook_format\"))"
   ]
  },
  {
   "cell_type": "code",
   "execution_count": 131,
   "metadata": {},
   "outputs": [
    {
     "name": "stdout",
     "output_type": "stream",
     "text": [
      "dimension: (25000095, 4)\n"
     ]
    },
    {
     "data": {
      "text/html": [
       "<div>\n",
       "<style scoped>\n",
       "    .dataframe tbody tr th:only-of-type {\n",
       "        vertical-align: middle;\n",
       "    }\n",
       "\n",
       "    .dataframe tbody tr th {\n",
       "        vertical-align: top;\n",
       "    }\n",
       "\n",
       "    .dataframe thead th {\n",
       "        text-align: right;\n",
       "    }\n",
       "</style>\n",
       "<table border=\"1\" class=\"dataframe\">\n",
       "  <thead>\n",
       "    <tr style=\"text-align: right;\">\n",
       "      <th></th>\n",
       "      <th>userId</th>\n",
       "      <th>movieId</th>\n",
       "      <th>rating</th>\n",
       "      <th>timestamp</th>\n",
       "    </tr>\n",
       "  </thead>\n",
       "  <tbody>\n",
       "    <tr>\n",
       "      <th>0</th>\n",
       "      <td>1</td>\n",
       "      <td>296</td>\n",
       "      <td>5.0</td>\n",
       "      <td>1147880044</td>\n",
       "    </tr>\n",
       "    <tr>\n",
       "      <th>1</th>\n",
       "      <td>1</td>\n",
       "      <td>306</td>\n",
       "      <td>3.5</td>\n",
       "      <td>1147868817</td>\n",
       "    </tr>\n",
       "    <tr>\n",
       "      <th>2</th>\n",
       "      <td>1</td>\n",
       "      <td>307</td>\n",
       "      <td>5.0</td>\n",
       "      <td>1147868828</td>\n",
       "    </tr>\n",
       "    <tr>\n",
       "      <th>3</th>\n",
       "      <td>1</td>\n",
       "      <td>665</td>\n",
       "      <td>5.0</td>\n",
       "      <td>1147878820</td>\n",
       "    </tr>\n",
       "    <tr>\n",
       "      <th>4</th>\n",
       "      <td>1</td>\n",
       "      <td>899</td>\n",
       "      <td>3.5</td>\n",
       "      <td>1147868510</td>\n",
       "    </tr>\n",
       "  </tbody>\n",
       "</table>\n",
       "</div>"
      ],
      "text/plain": [
       "   userId  movieId  rating   timestamp\n",
       "0       1      296     5.0  1147880044\n",
       "1       1      306     3.5  1147868817\n",
       "2       1      307     5.0  1147868828\n",
       "3       1      665     5.0  1147878820\n",
       "4       1      899     3.5  1147868510"
      ]
     },
     "execution_count": 131,
     "metadata": {},
     "output_type": "execute_result"
    }
   ],
   "source": [
    "data_dir = \"./data/ml-25m\"\n",
    "\n",
    "user_col = \"userId\"\n",
    "item_col = \"movieId\"\n",
    "value_col = \"rating\"\n",
    "time_col = \"timestamp\"\n",
    "\n",
    "rating_path = os.path.join(data_dir, \"ratings.csv\")\n",
    "df_raw = pd.read_csv(rating_path)\n",
    "print(\"dimension:\", df_raw.shape)\n",
    "df_raw.head()"
   ]
  },
  {
   "cell_type": "code",
   "execution_count": 132,
   "metadata": {},
   "outputs": [
    {
     "name": "stdout",
     "output_type": "stream",
     "text": [
      "dimension:  (57361, 3)\n"
     ]
    },
    {
     "data": {
      "text/html": [
       "<div>\n",
       "<style scoped>\n",
       "    .dataframe tbody tr th:only-of-type {\n",
       "        vertical-align: middle;\n",
       "    }\n",
       "\n",
       "    .dataframe tbody tr th {\n",
       "        vertical-align: top;\n",
       "    }\n",
       "\n",
       "    .dataframe thead th {\n",
       "        text-align: right;\n",
       "    }\n",
       "</style>\n",
       "<table border=\"1\" class=\"dataframe\">\n",
       "  <thead>\n",
       "    <tr style=\"text-align: right;\">\n",
       "      <th></th>\n",
       "      <th>movieId</th>\n",
       "      <th>title</th>\n",
       "      <th>genres</th>\n",
       "    </tr>\n",
       "  </thead>\n",
       "  <tbody>\n",
       "    <tr>\n",
       "      <th>0</th>\n",
       "      <td>1</td>\n",
       "      <td>Toy Story (1995)</td>\n",
       "      <td>Adventure|Animation|Children|Comedy|Fantasy</td>\n",
       "    </tr>\n",
       "    <tr>\n",
       "      <th>1</th>\n",
       "      <td>2</td>\n",
       "      <td>Jumanji (1995)</td>\n",
       "      <td>Adventure|Children|Fantasy</td>\n",
       "    </tr>\n",
       "    <tr>\n",
       "      <th>2</th>\n",
       "      <td>3</td>\n",
       "      <td>Grumpier Old Men (1995)</td>\n",
       "      <td>Comedy|Romance</td>\n",
       "    </tr>\n",
       "    <tr>\n",
       "      <th>3</th>\n",
       "      <td>4</td>\n",
       "      <td>Waiting to Exhale (1995)</td>\n",
       "      <td>Comedy|Drama|Romance</td>\n",
       "    </tr>\n",
       "    <tr>\n",
       "      <th>4</th>\n",
       "      <td>5</td>\n",
       "      <td>Father of the Bride Part II (1995)</td>\n",
       "      <td>Comedy</td>\n",
       "    </tr>\n",
       "  </tbody>\n",
       "</table>\n",
       "</div>"
      ],
      "text/plain": [
       "   movieId                               title  \\\n",
       "0        1                    Toy Story (1995)   \n",
       "1        2                      Jumanji (1995)   \n",
       "2        3             Grumpier Old Men (1995)   \n",
       "3        4            Waiting to Exhale (1995)   \n",
       "4        5  Father of the Bride Part II (1995)   \n",
       "\n",
       "                                        genres  \n",
       "0  Adventure|Animation|Children|Comedy|Fantasy  \n",
       "1                   Adventure|Children|Fantasy  \n",
       "2                               Comedy|Romance  \n",
       "3                         Comedy|Drama|Romance  \n",
       "4                                       Comedy  "
      ]
     },
     "execution_count": 132,
     "metadata": {},
     "output_type": "execute_result"
    }
   ],
   "source": [
    "title_col = \"title\"\n",
    "genre_col = \"genres\"\n",
    "\n",
    "item_info_path = os.path.join(data_dir, \"movies.csv\")\n",
    "df_item = pd.read_csv(item_info_path)\n",
    "df_item = df_item[df_item[genre_col]!=\"(no genres listed)\"]\n",
    "print(\"dimension: \", df_item.shape)\n",
    "df_item.head()"
   ]
  },
  {
   "cell_type": "code",
   "execution_count": 133,
   "metadata": {},
   "outputs": [
    {
     "name": "stdout",
     "output_type": "stream",
     "text": [
      "Toy Story (1995)\n"
     ]
    }
   ],
   "source": [
    "class Item:\n",
    "    \n",
    "    def __init__(self, _id, title, genres, score=None):\n",
    "        self.id = _id\n",
    "        self.title = title\n",
    "        self.score = score\n",
    "        self.genres = genres\n",
    "        \n",
    "    def __repr__(self):\n",
    "        return self.title\n",
    "    \n",
    "def create_item_mapping(df_item, item_col, title_col, genre_col):\n",
    "    item_mapping = {}\n",
    "    for row in df_item.itertuples():\n",
    "        item_id = getattr(row, item_col)\n",
    "        item_title = getattr(row, title_col)\n",
    "        item_genre = getattr(row, genre_col)\n",
    "        \n",
    "        splitted = item_genre.split(\"|\")\n",
    "        genre_ratio = 1./len(splitted)\n",
    "        \n",
    "        item_genre = {genre: genre_ratio for genre in splitted}\n",
    "        item = Item(item_id, item_title, item_genre)\n",
    "        item_mapping[item_id] = item\n",
    "        \n",
    "    return item_mapping\n",
    "\n",
    "item_mapping = create_item_mapping(df_item, item_col, title_col, genre_col)\n",
    "print(item_mapping[1])"
   ]
  },
  {
   "cell_type": "code",
   "execution_count": 134,
   "metadata": {},
   "outputs": [
    {
     "name": "stdout",
     "output_type": "stream",
     "text": [
      "12442311 12442311 162341 0\n",
      "12442311 12442311 38714 0\n",
      "dimension (12442311, 6)\n",
      "  userId movieId  rating   timestamp                title  \\\n",
      "0      1     296     5.0  1147880044  Pulp Fiction (1994)   \n",
      "1      3     296     5.0  1439474476  Pulp Fiction (1994)   \n",
      "2      4     296     4.0  1573938898  Pulp Fiction (1994)   \n",
      "3      5     296     4.0   830786155  Pulp Fiction (1994)   \n",
      "4      7     296     4.0   835444730  Pulp Fiction (1994)   \n",
      "\n",
      "                        genres  \n",
      "0  Comedy|Crime|Drama|Thriller  \n",
      "1  Comedy|Crime|Drama|Thriller  \n",
      "2  Comedy|Crime|Drama|Thriller  \n",
      "3  Comedy|Crime|Drama|Thriller  \n",
      "4  Comedy|Crime|Drama|Thriller  \n"
     ]
    }
   ],
   "source": [
    "df_rating = df_raw[df_raw[value_col] >= 4.0].copy()\n",
    "df_rating = df_rating.merge(df_item, on=item_col)\n",
    "\n",
    "for col in (user_col, item_col):\n",
    "    df_rating[col] = df_rating[col].astype('category')\n",
    "\n",
    "userindex = df_rating.userId.tolist()\n",
    "uid = df_rating[user_col].cat.codes\n",
    "itemindex = df_rating.movieId.tolist()\n",
    "iid = df_rating[item_col].cat.codes\n",
    "\n",
    "print(len(userindex), len(uid), max(uid), min(uid))\n",
    "print(len(itemindex), len(iid), max(iid), min(iid))\n",
    "\n",
    "print(\"dimension\", df_rating.shape)\n",
    "print(df_rating.head())"
   ]
  },
  {
   "cell_type": "code",
   "execution_count": 148,
   "metadata": {},
   "outputs": [
    {
     "data": {
      "text/plain": [
       "'0'"
      ]
     },
     "execution_count": 148,
     "metadata": {},
     "output_type": "execute_result"
    }
   ],
   "source": [
    "itemIndex2iid_dict[\"1\"]"
   ]
  },
  {
   "cell_type": "code",
   "execution_count": 135,
   "metadata": {},
   "outputs": [
    {
     "name": "stdout",
     "output_type": "stream",
     "text": [
      "user num 162342 item num 38715\n"
     ]
    }
   ],
   "source": [
    "userIndex2uid_dict = {userindex_i:uid[i] for i, userindex_i in enumerate(userindex)}\n",
    "itemIndex2iid_dict = {itemindex_i:iid[i] for i, itemindex_i in enumerate(itemindex)}\n",
    "print(\"user num\", len(userIndex2uid_dict), \"item num\", len(itemIndex2iid_dict))"
   ]
  },
  {
   "cell_type": "code",
   "execution_count": 136,
   "metadata": {},
   "outputs": [],
   "source": [
    "df_rating[\"userId\"] = df_rating.userId.apply(lambda x: userIndex2uid_dict[x])\n",
    "df_rating[\"movieId\"] = df_rating.movieId.apply(lambda x: itemIndex2iid_dict[x])"
   ]
  },
  {
   "cell_type": "code",
   "execution_count": null,
   "metadata": {},
   "outputs": [],
   "source": []
  },
  {
   "cell_type": "code",
   "execution_count": 137,
   "metadata": {},
   "outputs": [],
   "source": [
    "user_itemlist_dict = df_rating.groupby([\"userId\"]).movieId.apply(list)\n",
    "user_itemlist_dict = dict(user_itemlist_dict)"
   ]
  },
  {
   "cell_type": "code",
   "execution_count": null,
   "metadata": {},
   "outputs": [],
   "source": []
  },
  {
   "cell_type": "code",
   "execution_count": 138,
   "metadata": {},
   "outputs": [],
   "source": [
    "def split_train_test(user_data):\n",
    "    sample_threshold_per_user = 10\n",
    "    train = []\n",
    "    valid = []\n",
    "    test = []\n",
    "    \n",
    "    train_ratio = 0.8\n",
    "    valid_ratio = 0.9\n",
    "#     test_ratio = 0.1\n",
    "    \n",
    "    userlist = list(user_data.keys())\n",
    "    usernum = len(userlist)\n",
    "        \n",
    "    for i in range(usernum):\n",
    "        user_i = userlist[i]\n",
    "        \n",
    "        itemlist_i = user_data[user_i]\n",
    "        \n",
    "        itemnum_i = len(itemlist_i)\n",
    "        if itemnum_i < sample_threshold_per_user:\n",
    "            continue\n",
    "        \n",
    "        valid_threshold = int(itemnum_i*train_ratio)\n",
    "        test_threshold = int(itemnum_i*valid_ratio)\n",
    "        \n",
    "        train_itemlist_i = itemlist_i[:valid_threshold]\n",
    "        valid_itemlist_i = itemlist_i[valid_threshold:test_threshold]\n",
    "        test_itemlist_i = itemlist_i[test_threshold:]\n",
    "        \n",
    "#         print(user_i)\n",
    "#         print(train_itemlist_i)\n",
    "        \n",
    "        for item_j in train_itemlist_i:\n",
    "            train.append([user_i, item_j])\n",
    "        \n",
    "        for item_j in valid_itemlist_i:\n",
    "            valid.append([user_i, item_j])\n",
    "            \n",
    "        for item_j in test_itemlist_i:\n",
    "            test.append([user_i, item_j])\n",
    "            \n",
    "    print(\"train_num\", len(train))\n",
    "    print(\"valid num\", len(valid))\n",
    "    print(\"test num\", len(test))\n",
    "    \n",
    "    return train, valid, test"
   ]
  },
  {
   "cell_type": "code",
   "execution_count": 139,
   "metadata": {},
   "outputs": [
    {
     "name": "stdout",
     "output_type": "stream",
     "text": [
      "train_num 9849079\n",
      "valid num 1230185\n",
      "test num 1309174\n"
     ]
    }
   ],
   "source": [
    "train_data, valid_data, test_data = split_train_test(user_itemlist_dict)"
   ]
  },
  {
   "cell_type": "code",
   "execution_count": 140,
   "metadata": {},
   "outputs": [
    {
     "name": "stdout",
     "output_type": "stream",
     "text": [
      "train num 9849079\n",
      "valid num 1230185\n",
      "test num 1309174\n"
     ]
    }
   ],
   "source": [
    "train_df = pd.DataFrame(train_data)\n",
    "train_df.columns=[\"userid\", \"itemid\"]\n",
    "valid_df = pd.DataFrame(valid_data)\n",
    "valid_df.columns=[\"userid\", \"itemid\"]\n",
    "test_df = pd.DataFrame(test_data)\n",
    "test_df.columns=[\"userid\", \"itemid\"]\n",
    "print(\"train num\", len(train_df))\n",
    "print(\"valid num\", len(valid_df))\n",
    "print(\"test num\", len(test_df))"
   ]
  },
  {
   "cell_type": "code",
   "execution_count": 141,
   "metadata": {},
   "outputs": [],
   "source": [
    "train_data_file = \"train_data.pickle\"\n",
    "train_data_abs_file = os.path.join(data_dir, train_data_file)\n",
    "train_df.to_pickle(train_data_abs_file)\n",
    "\n",
    "valid_data_file = \"valid_data.pickle\"\n",
    "valid_data_abs_file = os.path.join(data_dir, valid_data_file)\n",
    "valid_df.to_pickle(valid_data_abs_file)\n",
    "\n",
    "test_data_file = \"test_data.pickle\"\n",
    "test_data_abs_file = os.path.join(data_dir, test_data_file)\n",
    "test_df.to_pickle(test_data_abs_file)"
   ]
  },
  {
   "cell_type": "code",
   "execution_count": 142,
   "metadata": {},
   "outputs": [],
   "source": [
    "userIndex2uid_dict = {str(k):str(userIndex2uid_dict[k]) for k in userIndex2uid_dict}\n",
    "itemIndex2iid_dict = {str(k):str(itemIndex2iid_dict[k]) for k in itemIndex2iid_dict}\n",
    "\n",
    "vocab = {\"userindex2uid\": userIndex2uid_dict, \"itemindex2iid\": itemIndex2iid_dict}\n",
    "vocab_file = \"vocab.json\"\n",
    "\n",
    "with open(os.path.join(data_dir, vocab_file), \"w\", encoding=\"utf8\") as f:\n",
    "    json.dump(vocab, f)"
   ]
  },
  {
   "cell_type": "code",
   "execution_count": null,
   "metadata": {},
   "outputs": [],
   "source": []
  },
  {
   "cell_type": "code",
   "execution_count": null,
   "metadata": {},
   "outputs": [],
   "source": []
  },
  {
   "cell_type": "code",
   "execution_count": 143,
   "metadata": {},
   "outputs": [
    {
     "name": "stdout",
     "output_type": "stream",
     "text": [
      "user num 154108\n",
      "item num 17775\n"
     ]
    }
   ],
   "source": [
    "user_num = train_df.userid.nunique()\n",
    "item_num = train_df.itemid.nunique()\n",
    "print(\"user num\", user_num)\n",
    "print(\"item num\", item_num)"
   ]
  },
  {
   "cell_type": "code",
   "execution_count": 122,
   "metadata": {},
   "outputs": [],
   "source": [
    "class MF(torch.nn.Module):\n",
    "    def __init__(self, n_users, n_items, n_factors=20):\n",
    "        super().__init__()\n",
    "        self.user_factors = torch.nn.Embedding(n_users, n_factors)\n",
    "        self.item_factors = torch.nn.Embedding(n_items, n_factors)\n",
    "    \n",
    "    def forward(self, user, item):\n",
    "        return (self.user_factors(user)*self.item_factors(item)).sum(1)\n",
    "    \n",
    "loss_func = torch.nn.CrossEntropyLoss()\n",
    "model = MF(user_num, item_num)"
   ]
  },
  {
   "cell_type": "code",
   "execution_count": 123,
   "metadata": {},
   "outputs": [],
   "source": [
    "optimizer = torch.optim.Adam(model.parameters(), lr=1e-3)"
   ]
  },
  {
   "cell_type": "code",
   "execution_count": null,
   "metadata": {},
   "outputs": [],
   "source": [
    "epoch_num = 10\n",
    "for epoch_index in range(epoch_num):\n",
    "    \n"
   ]
  },
  {
   "cell_type": "code",
   "execution_count": null,
   "metadata": {},
   "outputs": [],
   "source": []
  },
  {
   "cell_type": "code",
   "execution_count": 19,
   "metadata": {},
   "outputs": [
    {
     "name": "stdout",
     "output_type": "stream",
     "text": [
      "(162342, 38715)\n"
     ]
    }
   ],
   "source": [
    "# def create_user_item_csr_matrix(data, user_col, item_col, value_col):\n",
    "#     rows = data[user_col].cat.codes\n",
    "#     cols = data[item_col].cat.codes\n",
    "#     values = data[value_col].astype(np.float32)\n",
    "    \n",
    "#     return csr_matrix((values, (rows, cols)))\n",
    "\n",
    "# user_item = create_user_item_csr_matrix(df_rating, user_col, item_col, value_col)\n",
    "# print(user_item.shape)"
   ]
  },
  {
   "cell_type": "code",
   "execution_count": null,
   "metadata": {},
   "outputs": [],
   "source": []
  },
  {
   "cell_type": "code",
   "execution_count": 58,
   "metadata": {},
   "outputs": [],
   "source": [
    "# df = pd.DataFrame({'vertebrates': ['Bird', 'Bird', 'Mammal', 'Fish',\\\n",
    "#                                      'Amphibian', 'Reptile', 'Mammal']})\n",
    "# print(df.vertebrates.astype(\"category\").cat.codes)\n",
    "# print(df.vertebrates.astype(\"category\").cat.categories)"
   ]
  },
  {
   "cell_type": "code",
   "execution_count": 59,
   "metadata": {},
   "outputs": [],
   "source": [
    "# np.random.seed(1234)\n",
    "# user_item_train, user_item_test = train_test_split(user_item, train_percentage=0.8)\n",
    "# print(user_item_train.shape)"
   ]
  },
  {
   "cell_type": "code",
   "execution_count": null,
   "metadata": {},
   "outputs": [],
   "source": []
  },
  {
   "cell_type": "code",
   "execution_count": null,
   "metadata": {},
   "outputs": [],
   "source": []
  },
  {
   "cell_type": "code",
   "execution_count": null,
   "metadata": {},
   "outputs": [],
   "source": []
  },
  {
   "cell_type": "code",
   "execution_count": null,
   "metadata": {},
   "outputs": [],
   "source": []
  }
 ],
 "metadata": {
  "kernelspec": {
   "display_name": "Python 3",
   "language": "python",
   "name": "python3"
  },
  "language_info": {
   "codemirror_mode": {
    "name": "ipython",
    "version": 3
   },
   "file_extension": ".py",
   "mimetype": "text/x-python",
   "name": "python",
   "nbconvert_exporter": "python",
   "pygments_lexer": "ipython3",
   "version": "3.7.3"
  }
 },
 "nbformat": 4,
 "nbformat_minor": 2
}

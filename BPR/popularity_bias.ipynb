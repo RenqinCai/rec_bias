{
 "cells": [
  {
   "cell_type": "code",
   "execution_count": 39,
   "metadata": {},
   "outputs": [],
   "source": [
    "from datetime import datetime\n",
    "import numpy as np\n",
    "import torch\n",
    "import random\n",
    "import torch.nn as nn\n",
    "\n",
    "import pickle\n",
    "import argparse\n",
    "from data import DATA\n",
    "import json\n",
    "import os\n",
    "from optimizer import OPTIM\n",
    "from logger import LOGGER\n",
    "from collections import Counter\n",
    "\n",
    "import time\n",
    "from train import TRAINER\n",
    "from model import MF\n",
    "from eval import EVAL\n",
    "from metric import get_recall\n",
    "import matplotlib.pyplot as plt"
   ]
  },
  {
   "cell_type": "code",
   "execution_count": 3,
   "metadata": {},
   "outputs": [],
   "source": [
    "parser = argparse.ArgumentParser()\n",
    "\n",
    "### data\n",
    "parser.add_argument('--data_dir', type=str, default='data')\n",
    "parser.add_argument('--data_name', type=str, default='movielens')\n",
    "parser.add_argument('--data_file', type=str, default='data.pickle')\n",
    "\n",
    "parser.add_argument('--vocab_file', type=str, default='vocab.json')\n",
    "parser.add_argument('--model_file', type=str, default=\"model_best.pt\")\n",
    "parser.add_argument('--model_name', type=str, default=\"MF\")\n",
    "parser.add_argument('--model_path', type=str, default=\"../checkpoint/\")\n",
    "\n",
    "### model\n",
    "parser.add_argument('--user_emb_size', type=int, default=300)\n",
    "parser.add_argument('--item_emb_size', type=int, default=300)\n",
    "\n",
    "parser.add_argument('--output_hidden_size', type=int, default=300)\n",
    "\n",
    "### train\n",
    "parser.add_argument('--batch_size', type=int, default=128)\n",
    "parser.add_argument('--optimizer', type=str, default='Adam')\n",
    "parser.add_argument('--weight_decay', type=float, default=0.0)\n",
    "parser.add_argument('--l2_reg', type=float, default=0.0)\n",
    "\n",
    "parser.add_argument('--learning_rate', type=float, default=0.0001)\n",
    "parser.add_argument('--momentum', type=float, default=0.99)\n",
    "parser.add_argument('--epoch_num', type=int, default=10)\n",
    "parser.add_argument('--print_interval', type=int, default=200)\n",
    "parser.add_argument('--hcdmg1', action=\"store_true\", default=False)\n",
    "\n",
    "### hyper-param\n",
    "# parser.add_argument('--init_mult', type=float, default=1.0)\n",
    "# parser.add_argument('--variance', type=float, default=0.995)\n",
    "# parser.add_argument('--max_seq_length', type=int, default=100)\n",
    "\n",
    "### others\n",
    "parser.add_argument('--train', action='store_true', default=False)\n",
    "parser.add_argument('--test', action='store_true', default=False)\n",
    "parser.add_argument('--eval', action='store_true', default=False)\n",
    "parser.add_argument('--parallel', action=\"store_true\", default=False)\n",
    "parser.add_argument('--local_rank', type=int, default=0)\n",
    "\n",
    "args = parser.parse_args([])\n"
   ]
  },
  {
   "cell_type": "code",
   "execution_count": 4,
   "metadata": {},
   "outputs": [],
   "source": [
    "# CUDA_VISIBLE_DEVICES=1 python main.py --data_dir \"../data/ml-25m\" \\\n",
    "# --data_name \"movie\" --model_file \"movie_MF/model_best_2_16_16_28.pt\" \\\n",
    "# --vocab_file \"vocab.json\" --eval --batch_size 8 --user_emb_size 16 --item_emb_size 16"
   ]
  },
  {
   "cell_type": "code",
   "execution_count": 18,
   "metadata": {},
   "outputs": [],
   "source": [
    "args.data_dir = \"../data/ml-1m\"\n",
    "args.data_name = \"movie\"\n",
    "args.model_file = \"movie_MF/model_best_2_17_10_45.pt\"\n",
    "args.vocab_file = \"vocab.json\"\n",
    "args.epoch_num = 50\n",
    "args.batch_size = 32\n",
    "args.learning_rate = 0.0001\n",
    "args.user_emb_size = 128\n",
    "args.item_emb_size = 128\n",
    "args.weight_decay = 0.0"
   ]
  },
  {
   "cell_type": "code",
   "execution_count": 19,
   "metadata": {},
   "outputs": [],
   "source": [
    "def set_seed(seed):\n",
    "    random.seed(seed)\n",
    "    np.random.seed(seed)\n",
    "    torch.manual_seed(seed)\n",
    "    torch.backends.cudnn.deterministic = True\n",
    "    torch.backends.cudnn.benchmark = False"
   ]
  },
  {
   "cell_type": "code",
   "execution_count": null,
   "metadata": {},
   "outputs": [],
   "source": []
  },
  {
   "cell_type": "code",
   "execution_count": 20,
   "metadata": {},
   "outputs": [
    {
     "name": "stdout",
     "output_type": "stream",
     "text": [
      "device cuda\n"
     ]
    }
   ],
   "source": [
    "ts = time.strftime('%Y-%b-%d-%H:%M:%S', time.gmtime())\n",
    "seed = 1234\n",
    "set_seed(seed)\n",
    "\n",
    "device = torch.device('cuda' if torch.cuda.is_available() else 'cpu')\n",
    "print('device', device)"
   ]
  },
  {
   "cell_type": "code",
   "execution_count": 21,
   "metadata": {},
   "outputs": [
    {
     "name": "stdout",
     "output_type": "stream",
     "text": [
      "data\n",
      "data_name movie\n",
      "train user num 5949\n",
      "train item num 2810\n",
      "sample num 454860\n",
      "batch num 14214\n",
      "... load train data ... 454860 454860\n",
      "sample num 56864\n",
      "batch num 1777\n",
      "unique_user_num 5949\n",
      "user num unique in df 5949\n",
      "... load train data ... 5949 5949\n",
      "sample num 59807\n",
      "batch num 1868\n",
      "unique_user_num 5949\n",
      "user num unique in df 5949\n",
      "... load train data ... 5949 5949\n"
     ]
    }
   ],
   "source": [
    "# local_rank = None\n",
    "# if args.parallel:\n",
    "#     local_rank = args.local_rank\n",
    "#     torch.distributed.init_process_group(backend=\"nccl\")\n",
    "#     device = torch.device('cuda:{}'.format(local_rank))\n",
    "\n",
    "data_obj = DATA()\n",
    "\n",
    "if \"movie\" in args.data_name:\n",
    "    print(\"data_name\", args.data_name)\n",
    "    train_data, valid_data, test_data, vocab_obj = data_obj.f_load_movie(args)\n"
   ]
  },
  {
   "cell_type": "code",
   "execution_count": 22,
   "metadata": {},
   "outputs": [
    {
     "name": "stdout",
     "output_type": "stream",
     "text": [
      "user num 5950\n",
      "item num 2811\n"
     ]
    }
   ],
   "source": [
    "\n",
    "\n",
    "# print(\"vocab_size\", vocab_obj.vocab_size)\n",
    "print(\"user num\", vocab_obj.user_num)\n",
    "print(\"item num\", vocab_obj.item_num)\n",
    "\n",
    "network = MF(vocab_obj, args, device)"
   ]
  },
  {
   "cell_type": "code",
   "execution_count": 23,
   "metadata": {},
   "outputs": [
    {
     "name": "stdout",
     "output_type": "stream",
     "text": [
      "m_user_embed.weight \t 761600\n",
      "m_item_embed.weight \t 359808\n",
      "total parameters num 1121408\n"
     ]
    }
   ],
   "source": [
    "total_param_num = 0\n",
    "for name, param in network.named_parameters():\n",
    "    if param.requires_grad:\n",
    "        param_num = param.numel()\n",
    "        total_param_num += param_num\n",
    "        print(name, \"\\t\", param_num)\n",
    "\n",
    "print(\"total parameters num\", total_param_num)\n"
   ]
  },
  {
   "cell_type": "code",
   "execution_count": 24,
   "metadata": {},
   "outputs": [],
   "source": [
    "eval_obj = EVAL(vocab_obj, args, device)\n",
    "network = network.to(device)"
   ]
  },
  {
   "cell_type": "code",
   "execution_count": 27,
   "metadata": {},
   "outputs": [],
   "source": [
    "def f_init_eval(network, model_file=None, reload_model=False):\n",
    "    if reload_model:\n",
    "        print(\"reload model\")\n",
    "        if not model_file:\n",
    "            model_file = \"model_best.pt\"\n",
    "        model_name = os.path.join(model_path, model_file)\n",
    "        print(\"model name\", model_name)\n",
    "        check_point = torch.load(model_name)\n",
    "        network.load_state_dict(check_point['model'])\n",
    "\n",
    "    return network"
   ]
  },
  {
   "cell_type": "code",
   "execution_count": 28,
   "metadata": {},
   "outputs": [
    {
     "name": "stdout",
     "output_type": "stream",
     "text": [
      "model_path ../checkpoint/\n",
      "reload model\n",
      "model name ../checkpoint/movie_MF/model_best_2_17_10_45.pt\n"
     ]
    }
   ],
   "source": [
    "model_path = args.model_path\n",
    "print(\"model_path\", model_path)\n",
    "network = f_init_eval(network, model_file=args.model_file, reload_model=True)"
   ]
  },
  {
   "cell_type": "code",
   "execution_count": 122,
   "metadata": {},
   "outputs": [],
   "source": [
    "def f_eval_new(eval_data):\n",
    "\n",
    "    recall_list = []\n",
    "\n",
    "    print('--'*10)\n",
    "\n",
    "    topk = 20\n",
    "    network.eval()\n",
    "    with torch.no_grad():\n",
    "\n",
    "        for user_batch, item_batch, mask_item_batch, \\\n",
    "            itemnum_batch in eval_data:\n",
    "\n",
    "            user_gpu = user_batch.to(device)\n",
    "\n",
    "            logits = network.f_eval_forward(user_gpu)\n",
    "\n",
    "            recall = get_recall(logits.cpu(), item_batch, mask_item_batch, \\\n",
    "                                itemnum_batch, k=topk)\n",
    "\n",
    "            recall_list.append(recall)\n",
    "\n",
    "    mean_recall = np.mean(recall_list)\n",
    "    print(\"recall@%d:%.4f\"%(topk, mean_recall))"
   ]
  },
  {
   "cell_type": "code",
   "execution_count": 323,
   "metadata": {},
   "outputs": [
    {
     "name": "stdout",
     "output_type": "stream",
     "text": [
      "--------------------\n",
      "recall@20:0.2635\n"
     ]
    }
   ],
   "source": [
    "f_eval_new(valid_data)"
   ]
  },
  {
   "cell_type": "code",
   "execution_count": 324,
   "metadata": {},
   "outputs": [
    {
     "name": "stdout",
     "output_type": "stream",
     "text": [
      "--------------------\n",
      "recall@20:0.2569\n"
     ]
    }
   ],
   "source": [
    "f_eval_new(test_data)"
   ]
  },
  {
   "cell_type": "code",
   "execution_count": 138,
   "metadata": {},
   "outputs": [
    {
     "name": "stdout",
     "output_type": "stream",
     "text": [
      "item num 2810\n",
      "min freq: 5, max freq: 2245\n"
     ]
    },
    {
     "data": {
      "image/png": "[encoded data removed]",
      "text/plain": [
       "<Figure size 432x288 with 1 Axes>"
      ]
     },
     "metadata": {
      "needs_background": "light"
     },
     "output_type": "display_data"
    }
   ],
   "source": [
    "def visualize_item_freq(data):\n",
    "    item_freq_dict = dict(Counter(data.dataset.m_pos_item_batch_list))\n",
    "    item_num = len(item_freq_dict)\n",
    "    print(\"item num\", item_num)\n",
    "    freq_list = list(item_freq_dict.values())\n",
    "    print(\"min freq: %d, max freq: %d\"%(min(freq_list), max(freq_list)))\n",
    "    \n",
    "    x = [i for i in range(item_num)]\n",
    "    y = sorted(freq_list)\n",
    "    \n",
    "#     plt.xscale(\"log\")\n",
    "#     plt.yscale(\"log\")\n",
    "    plt.plot(x, y)\n",
    "\n",
    "    plt.xlim([-100, 3000])\n",
    "    plt.ylim([-100, 2500])\n",
    "    plt.show()\n",
    "\n",
    "visualize_item_freq(train_data)"
   ]
  },
  {
   "cell_type": "code",
   "execution_count": 75,
   "metadata": {},
   "outputs": [
    {
     "name": "stdout",
     "output_type": "stream",
     "text": [
      "75810.0\n",
      "[0, 1, 2, 3, 4, 5, 6, 7, 8, 9]\n"
     ]
    }
   ],
   "source": [
    "print(454860/6)\n",
    "print([i for i in range(0, 10, 1)])"
   ]
  },
  {
   "cell_type": "code",
   "execution_count": 91,
   "metadata": {},
   "outputs": [
    {
     "name": "stdout",
     "output_type": "stream",
     "text": [
      "75810.0\n"
     ]
    }
   ],
   "source": []
  },
  {
   "cell_type": "code",
   "execution_count": 139,
   "metadata": {},
   "outputs": [
    {
     "name": "stdout",
     "output_type": "stream",
     "text": [
      "item num 2810\n",
      "min freq: 5, max freq: 2245\n",
      "cumsum_y [     5     10     15 ... 450551 452615 454860]\n"
     ]
    },
    {
     "data": {
      "image/png": "[encoded data removed]",
      "text/plain": [
       "<Figure size 432x288 with 1 Axes>"
      ]
     },
     "metadata": {
      "needs_background": "light"
     },
     "output_type": "display_data"
    }
   ],
   "source": [
    "def visualize_item_freq(data):\n",
    "    item_freq_dict = dict(Counter(data.dataset.m_pos_item_batch_list))\n",
    "    item_num = len(item_freq_dict)\n",
    "    print(\"item num\", item_num)\n",
    "    freq_list = list(item_freq_dict.values())\n",
    "    print(\"min freq: %d, max freq: %d\"%(min(freq_list), max(freq_list)))\n",
    "    \n",
    "    x = [i for i in range(item_num)]\n",
    "    y = sorted(freq_list)\n",
    "    cumsum_y = np.cumsum(y)\n",
    "    print(\"cumsum_y\", cumsum_y)\n",
    "    \n",
    "    p = 1.0*np.arange(len(y))/(len(y)-1)\n",
    "    \n",
    "    for i in range(item_num):\n",
    "        p_i = p[i]\n",
    "        y_i = y[i]\n",
    "        cumsum_y_i = cumsum_y[i]\n",
    "        \n",
    "#         if cumsum_y_i > 379050:\n",
    "#             print(i, y_i)\n",
    "#         elif cumsum_y_i > 303240:\n",
    "#             print(i, y_i)\n",
    "#         elif cumsum_y_i > 227430:\n",
    "#             print(i, y_i)\n",
    "#         elif cumsum_y_i > 151620:\n",
    "#             print(i, y_i)\n",
    "#         elif cumsum_y_i > 75810:\n",
    "#             print(i, y_i)\n",
    "        \n",
    "#     plt.plot(x, y)\n",
    "    plt.xticks([i for i in range(0, 2250, 200)])\n",
    "    plt.plot(y, p)\n",
    "    \n",
    "\n",
    "#     plt.xlim([-100, 3000])\n",
    "#     plt.ylim([-100, 2500])\n",
    "    plt.show()\n",
    "\n",
    "visualize_item_freq(train_data)"
   ]
  },
  {
   "cell_type": "code",
   "execution_count": 140,
   "metadata": {},
   "outputs": [
    {
     "name": "stdout",
     "output_type": "stream",
     "text": [
      "75810\n",
      "[0, 75810, 151620, 227430, 303240, 379050]\n",
      "6\n"
     ]
    }
   ],
   "source": [
    "gap = 454860//6\n",
    "print(gap)\n",
    "cumsum_freq_threshold_list = [int(i) for i in range(0, 454860, gap)]\n",
    "print(cumsum_freq_threshold_list)\n",
    "print(len(cumsum_freq_threshold_list))"
   ]
  },
  {
   "cell_type": "code",
   "execution_count": 162,
   "metadata": {},
   "outputs": [],
   "source": [
    "def set_bucket4item(data):\n",
    "    item_freq_dict = dict(Counter(data.dataset.m_pos_item_batch_list))\n",
    "    print(\"item num\", len(item_freq_dict))\n",
    "    freq_list = list(item_freq_dict.values())\n",
    "    print(\"min freq: %d, max freq: %d\"%(min(freq_list), max(freq_list)))\n",
    "#     freq_threshold_list = [0, 20, 80, 150, 200, 250, 300, 350]\n",
    "#     freq_threshold_list = [0, 100, 200, 400, 600, 1000]\n",
    "#     cumsum_freq_threshold_list = []\n",
    "\n",
    "    itemid_bucketid_dict = {}\n",
    "    bucketid_itemidlist_dict = {}\n",
    "    \n",
    "    sorted_item_freq_dict = {k:v for k, v in sorted(item_freq_dict.items(), key=lambda x: x[1])}\n",
    "    \n",
    "    cumsum_i = 0\n",
    "    for itemid in sorted_item_freq_dict:\n",
    "        i = item_freq_dict[itemid]\n",
    "        cumsum_i += i\n",
    "        \n",
    "        bucketid = 0\n",
    "        if cumsum_i <= cumsum_freq_threshold_list[1]:\n",
    "            bucketid = 1\n",
    "        elif cumsum_i <= cumsum_freq_threshold_list[2]:\n",
    "            bucketid = 2\n",
    "        elif cumsum_i <= cumsum_freq_threshold_list[3]:\n",
    "            bucketid = 3\n",
    "        elif cumsum_i <= cumsum_freq_threshold_list[4]:\n",
    "            bucketid = 4\n",
    "        elif cumsum_i <= cumsum_freq_threshold_list[5]:\n",
    "            bucketid = 5\n",
    "#         elif i <= freq_threshold_list[6]:\n",
    "#             bucketid = 6\n",
    "#         elif i <= freq_threshold_list[7]:\n",
    "#             bucketid = 7\n",
    "        else:\n",
    "            bucketid = 6\n",
    "        itemid_bucketid_dict[itemid] = bucketid\n",
    "        if bucketid not in bucketid_itemidlist_dict:\n",
    "            bucketid_itemidlist_dict[bucketid] = []\n",
    "        bucketid_itemidlist_dict[bucketid].append(itemid)\n",
    "\n",
    "    print(\"bucket\", len(bucketid_itemidlist_dict), bucketid_itemidlist_dict.keys())\n",
    "#     for bucketid in bucketid_itemidlist_dict:\n",
    "    for bucketid in range(1, len(bucketid_itemidlist_dict)+1):\n",
    "        itemid_list_bucket = bucketid_itemidlist_dict[bucketid]\n",
    "        freq_bucket = 0\n",
    "        freq_list_bucket = []\n",
    "        for itemid in itemid_list_bucket:\n",
    "            itemfreq_i = item_freq_dict[itemid]\n",
    "            freq_list_bucket.append(itemfreq_i)\n",
    "            freq_bucket += itemfreq_i\n",
    "        print(\"bucket %d, freq: %d, item num: %d\"%(bucketid, freq_bucket, len(itemid_list_bucket)))\n",
    "        print(\"[min, max]: [%d, %d]\"%(min(freq_list_bucket), max(freq_list_bucket)))\n",
    "    return item_freq_dict, itemid_bucketid_dict, bucketid_itemidlist_dict\n"
   ]
  },
  {
   "cell_type": "code",
   "execution_count": 163,
   "metadata": {},
   "outputs": [
    {
     "name": "stdout",
     "output_type": "stream",
     "text": [
      "item num 2810\n",
      "min freq: 5, max freq: 2245\n",
      "bucket 6 dict_keys([1, 2, 3, 4, 5, 6])\n",
      "bucket 1, freq: 75754, item num: 1798\n",
      "[min, max]: [5, 121]\n",
      "bucket 2, freq: 75809, item num: 441\n",
      "[min, max]: [122, 239]\n",
      "bucket 3, freq: 75578, item num: 248\n",
      "[min, max]: [241, 387]\n",
      "bucket 4, freq: 75762, item num: 161\n",
      "[min, max]: [388, 575]\n",
      "bucket 5, freq: 75970, item num: 105\n",
      "[min, max]: [582, 918]\n",
      "bucket 6, freq: 75987, item num: 57\n",
      "[min, max]: [924, 2245]\n"
     ]
    }
   ],
   "source": [
    "train_item_freq_dict, train_itemid_bucketid_dict, train_bucketid_itemidlist_dict = \\\n",
    "    set_bucket4item(train_data)"
   ]
  },
  {
   "cell_type": "code",
   "execution_count": null,
   "metadata": {},
   "outputs": [],
   "source": []
  },
  {
   "cell_type": "code",
   "execution_count": 143,
   "metadata": {},
   "outputs": [],
   "source": [
    "def bias_eval(eval_data, itemid_bucketid_dict):\n",
    "    network.eval()\n",
    "\n",
    "    losses = []\n",
    "    recalls = []\n",
    "    mrrs = []\n",
    "    weights = []\n",
    "\n",
    "    dataloader = eval_data\n",
    "    topk = 20\n",
    "    \n",
    "    item_recall_dict = {}\n",
    "    item_mrr_dict = {}\n",
    "#     # ### load \n",
    "    # item_freq_dict = {}\n",
    "\n",
    "    with torch.no_grad():\n",
    "        total_test_num = []\n",
    "\n",
    "        for user_batch, item_batch, mask_item_batch, itemnum_batch in eval_data:\n",
    "            \n",
    "            user_batch_gpu = user_batch.to(device)\n",
    "            loss = 0.0\n",
    "\n",
    "            logits = network.f_eval_forward(user_batch_gpu)\n",
    "                \n",
    "            preds = logits.cpu()\n",
    "            preds.scatter_(1, mask_item_batch, float(\"-inf\"))\n",
    "            preds[:, 0] = float(\"-inf\")\n",
    "            \n",
    "            _, preds = torch.topk(preds, topk, -1)\n",
    "            \n",
    "#             print(user_batch.size())\n",
    "#             print(item_batch.size())\n",
    "            targets = item_batch\n",
    "        \n",
    "            batch_size = preds.size(0)\n",
    "        \n",
    "            for i in range(batch_size):\n",
    "                pred_i = list(preds[i].numpy())\n",
    "                target_i = targets[i].numpy()\n",
    "                \n",
    "                itemnum_i = itemnum_batch[i].item()\n",
    "                \n",
    "                target_i = list(target_i)[:itemnum_i]\n",
    "                \n",
    "                for j in range(itemnum_i):\n",
    "                    target_ij = target_i[j]\n",
    "                    if target_ij not in item_recall_dict:\n",
    "                        item_recall_dict[target_ij] = []\n",
    "                    \n",
    "                    if target_ij in pred_i:\n",
    "                        item_recall_dict[target_ij].append(1.0)\n",
    "                    else:\n",
    "                        item_recall_dict[target_ij].append(0.0)\n",
    "                        \n",
    "    return item_recall_dict, item_mrr_dict  "
   ]
  },
  {
   "cell_type": "code",
   "execution_count": 149,
   "metadata": {},
   "outputs": [],
   "source": [
    "test_item_recall_dict, test_item_mrr_dict = bias_eval(test_data, train_itemid_bucketid_dict)"
   ]
  },
  {
   "cell_type": "code",
   "execution_count": 153,
   "metadata": {},
   "outputs": [],
   "source": [
    "bucket_recall_dict = {}\n",
    "for item in test_item_recall_dict:\n",
    "    bucketid = train_itemid_bucketid_dict[item]\n",
    "    item_recall = np.mean(test_item_recall_dict[item])\n",
    "    \n",
    "#     item_recall = item_recall[0]*1.0/item_recall[1]\n",
    "    if bucketid not in bucket_recall_dict:\n",
    "        bucket_recall_dict[bucketid] = []\n",
    "        bucket_mrr_dict[bucketid] = []\n",
    "    bucket_recall_dict[bucketid].append(item_recall)\n",
    "\n",
    "for bucket in bucket_recall_dict:\n",
    "    recall_list = bucket_recall_dict[bucket]\n",
    "    mean_recall = np.mean(recall_list)\n",
    "    bucket_recall_dict[bucket] = mean_recall\n"
   ]
  },
  {
   "cell_type": "code",
   "execution_count": 154,
   "metadata": {},
   "outputs": [
    {
     "name": "stdout",
     "output_type": "stream",
     "text": [
      "recall\n",
      "1:0.0089, 2:0.0539, 3:0.1208, 4:0.1890, 5:0.2836, 6:0.4767, \n"
     ]
    }
   ],
   "source": [
    "print(\"recall\")\n",
    "for i in range(1, len(bucket_recall_dict)+1):\n",
    "    print(\"%d:%.4f\"%(i, bucket_recall_dict[i]), end=\", \")\n",
    "print()"
   ]
  },
  {
   "cell_type": "code",
   "execution_count": null,
   "metadata": {},
   "outputs": [],
   "source": []
  },
  {
   "cell_type": "code",
   "execution_count": 155,
   "metadata": {},
   "outputs": [],
   "source": [
    "import numpy as np\n",
    "from collections import Counter\n",
    "import matplotlib.pyplot as plt\n",
    "import seaborn as sns"
   ]
  },
  {
   "cell_type": "markdown",
   "metadata": {},
   "source": [
    "### @20"
   ]
  },
  {
   "cell_type": "code",
   "execution_count": 159,
   "metadata": {},
   "outputs": [
    {
     "data": {
      "image/png": "[encoded data removed]",
      "text/plain": [
       "<Figure size 720x576 with 1 Axes>"
      ]
     },
     "metadata": {
      "needs_background": "light"
     },
     "output_type": "display_data"
    }
   ],
   "source": [
    "\n",
    "plt.rcParams['figure.figsize'] = 10, 8\n",
    "plt.rcParams['font.size'] = 20\n",
    "\n",
    "# cdf = 1.0*np.arange(len(y))/(len(y)-1)\n",
    "# plt.plot(y, cdf, linewidth=3)\n",
    "# plt.plot(103, 0.8, \"o\", label=\"(100, 0.8)\", markersize=8)\n",
    "# plt.ylabel(\"cumulative distribution of user num\")\n",
    "# plt.xlabel(\"number of interactions per user\")\n",
    "\n",
    "\n",
    "x = [i for i in range(1, len(bucket_recall_dict)+1)]\n",
    "recall_list = [bucket_recall_dict[i] for i in range(1, len(bucket_recall_dict)+1)]\n",
    "plt.bar(x, recall_list)\n",
    "plt.xlabel(\"bucket index based on item frequencies in descending order\")\n",
    "plt.ylabel(\"recall@20\")\n",
    "plt.title(\"BPR on ml-1m\")\n",
    "\n",
    "plt.yticks(fontsize=20)\n",
    "plt.xticks(fontsize=20)\n",
    "# plt.legend(loc=\"right\")\n",
    "plt.show()\n",
    "\n",
    "plt.show()"
   ]
  },
  {
   "cell_type": "markdown",
   "metadata": {},
   "source": [
    "### calibrated"
   ]
  },
  {
   "cell_type": "code",
   "execution_count": null,
   "metadata": {},
   "outputs": [],
   "source": [
    "from scipy import stats\n",
    "import math"
   ]
  },
  {
   "cell_type": "code",
   "execution_count": 166,
   "metadata": {},
   "outputs": [
    {
     "name": "stdout",
     "output_type": "stream",
     "text": [
      "item num 2811\n",
      "user num 5950\n"
     ]
    }
   ],
   "source": [
    "item_num = vocab_obj.item_num\n",
    "print(\"item num\", item_num)\n",
    "\n",
    "user_num = vocab_obj.user_num\n",
    "print(\"user num\", user_num)"
   ]
  },
  {
   "cell_type": "code",
   "execution_count": 170,
   "metadata": {},
   "outputs": [
    {
     "name": "stdout",
     "output_type": "stream",
     "text": [
      "item num 2811\n"
     ]
    }
   ],
   "source": [
    "print(\"item num\", len(train_item_freq_list))"
   ]
  },
  {
   "cell_type": "code",
   "execution_count": 168,
   "metadata": {},
   "outputs": [
    {
     "name": "stdout",
     "output_type": "stream",
     "text": [
      "item pop size torch.Size([2811])\n"
     ]
    }
   ],
   "source": [
    "train_item_freq_list = [train_item_freq_dict[i] if i in train_item_freq_dict else 0.0 for i in range(item_num)]\n",
    "item_pop = torch.from_numpy(np.array(train_item_freq_list)).to(device)\n",
    "item_pop = item_pop+1e-20\n",
    "print(\"item pop size\", item_pop.size())"
   ]
  },
  {
   "cell_type": "code",
   "execution_count": 509,
   "metadata": {},
   "outputs": [],
   "source": [
    "beta = 0.2\n",
    "def compensation(logits):\n",
    "    logits = logits*beta+(1-beta)\n",
    "    \n",
    "    com_logits = logits/item_pop.unsqueeze(0)\n",
    "    \n",
    "    return com_logits"
   ]
  },
  {
   "cell_type": "code",
   "execution_count": 510,
   "metadata": {},
   "outputs": [],
   "source": [
    "alpha = 1.4\n",
    "def compensated_score(logits, mask_item):\n",
    "    com_logits = compensation(logits)\n",
    "    \n",
    "    com_logits[:, 0] = 0\n",
    "    \n",
    "    logits.scatter_(1, mask_item, 0.0)\n",
    "    com_logits.scatter_(1, mask_item, 0.0)\n",
    "    \n",
    "    true_mask = (mask_item != 0).float()\n",
    "    true_num_mask = torch.sum(true_mask, dim=-1, keepdim=True)\n",
    "    mask_item_num = item_num-1-true_num_mask\n",
    "    \n",
    "    n_u = torch.norm(logits/mask_item_num, dim=-1, keepdim=True)\n",
    "    m_u = torch.norm(com_logits/mask_item_num, dim=-1, keepdim=True)\n",
    "    \n",
    "#     print(\"logits\", logits)\n",
    "#     print(\"com_logits\", com_logits)\n",
    "    \n",
    "#     print(\"n_u\", n_u)\n",
    "#     print(\"m_u\", m_u)\n",
    "    \n",
    "    tmp = alpha*com_logits*n_u/m_u\n",
    "    score = logits+tmp\n",
    "    \n",
    "    return score"
   ]
  },
  {
   "cell_type": "code",
   "execution_count": 511,
   "metadata": {},
   "outputs": [
    {
     "data": {
      "text/plain": [
       "2811"
      ]
     },
     "execution_count": 511,
     "metadata": {},
     "output_type": "execute_result"
    }
   ],
   "source": [
    "item_num"
   ]
  },
  {
   "cell_type": "markdown",
   "metadata": {},
   "source": [
    "### user side"
   ]
  },
  {
   "cell_type": "code",
   "execution_count": 512,
   "metadata": {},
   "outputs": [],
   "source": [
    "def compensated_bias_eval(eval_data, itemid_bucketid_dict):\n",
    "    network.eval()\n",
    "\n",
    "    losses = []\n",
    "    recalls = []\n",
    "    mrrs = []\n",
    "    weights = []\n",
    "\n",
    "    dataloader = eval_data\n",
    "    topk = 20\n",
    "    \n",
    "    item_recall_dict = {}\n",
    "    item_mrr_dict = {}\n",
    "\n",
    "    iter_index = 0\n",
    "    \n",
    "    pru_list = []\n",
    "  \n",
    "    ### user: [item_rank]\n",
    "    user_itemrank_dict = {}\n",
    "    user_itempop_dict = {}\n",
    "    \n",
    "    with torch.no_grad():\n",
    "        total_test_num = []\n",
    "\n",
    "        for user_batch, item_batch, mask_item_batch, itemnum_batch in eval_data:\n",
    "            \n",
    "            user_batch_gpu = user_batch.to(device)\n",
    "            mask_item_batch_gpu = mask_item_batch.to(device)\n",
    "            \n",
    "            loss = 0.0\n",
    "\n",
    "            logits = network.f_eval_forward(user_batch_gpu)\n",
    "            \n",
    "            compensated_logits = compensated_score(logits, mask_item_batch_gpu)\n",
    "            \n",
    "            preds = compensated_logits.cpu()\n",
    "            preds.scatter_(1, mask_item_batch, float(\"-inf\"))\n",
    "            preds[:, 0] = float(\"-inf\")\n",
    "            \n",
    "            _, rank = torch.topk(preds, item_num, -1)\n",
    "            \n",
    "            _, topk_preds = torch.topk(preds, topk, -1)\n",
    "            \n",
    "\n",
    "            targets = item_batch\n",
    "        \n",
    "            batch_size = topk_preds.size(0)\n",
    "        \n",
    "            for i in range(batch_size):\n",
    "                target_rank_i = []\n",
    "                target_pop_i = []\n",
    "                \n",
    "                user_i = user_batch[i].item()\n",
    "                \n",
    "                rank_i = list(rank[i].numpy())\n",
    "                topk_pred_i = list(topk_preds[i].numpy())\n",
    "                target_i = targets[i].numpy()\n",
    "                \n",
    "                itemnum_i = itemnum_batch[i].item()\n",
    "                \n",
    "                target_i = list(target_i)[:itemnum_i]\n",
    "                \n",
    "                for j in range(itemnum_i):\n",
    "                    target_ij = target_i[j]\n",
    "                    \n",
    "                    target_pop_ij = train_item_freq_dict[target_ij]\n",
    "                    target_pop_i.append(target_pop_ij)\n",
    "                    \n",
    "                    target_rank_ij = rank_i.index(target_ij)\n",
    "                    target_rank_i.append(target_rank_ij)\n",
    "                    \n",
    "                user_itemrank_dict[user_i] = target_rank_i\n",
    "                user_itempop_dict[user_i] = target_pop_i\n",
    "\n",
    "    return user_itemrank_dict, user_itempop_dict"
   ]
  },
  {
   "cell_type": "code",
   "execution_count": 513,
   "metadata": {},
   "outputs": [],
   "source": [
    "test_user_itemrank_dict, test_user_itempop_dict = compensated_bias_eval(test_data, train_itemid_bucketid_dict)"
   ]
  },
  {
   "cell_type": "code",
   "execution_count": 514,
   "metadata": {},
   "outputs": [
    {
     "name": "stdout",
     "output_type": "stream",
     "text": [
      "user num 5949 PRU:0.3638\n"
     ]
    }
   ],
   "source": [
    "### pru\n",
    "\n",
    "pru_list = []\n",
    "for user in test_user_itemrank_dict:\n",
    "    user_itemrank_i = test_user_itemrank_dict[user]\n",
    "    user_itempop_i = test_user_itempop_dict[user]\n",
    "    pru_i = 1.0\n",
    "    if len(user_itemrank_i) > 1:\n",
    "        pru_i = stats.spearmanr(user_itempop_i, user_itemrank_i)[0]\n",
    "    pru_list.append(pru_i)\n",
    "pru = np.mean(pru_list)\n",
    "pru = -pru\n",
    "print(\"user num\", len(pru_list), \"PRU:%.4f\"%pru)"
   ]
  },
  {
   "cell_type": "code",
   "execution_count": null,
   "metadata": {},
   "outputs": [],
   "source": []
  },
  {
   "cell_type": "code",
   "execution_count": 515,
   "metadata": {},
   "outputs": [],
   "source": [
    "def compensated_bias_eval(eval_data, itemid_bucketid_dict):\n",
    "    network.eval()\n",
    "\n",
    "    losses = []\n",
    "    recalls = []\n",
    "    mrrs = []\n",
    "    weights = []\n",
    "\n",
    "    dataloader = eval_data\n",
    "    topk = 20\n",
    "    \n",
    "\n",
    "    iter_index = 0\n",
    "    \n",
    "    recall_list = []\n",
    "    \n",
    "    with torch.no_grad():\n",
    "        total_test_num = []\n",
    "\n",
    "        for user_batch, item_batch, mask_item_batch, itemnum_batch in eval_data:\n",
    "            \n",
    "            user_batch_gpu = user_batch.to(device)\n",
    "            mask_item_batch_gpu = mask_item_batch.to(device)\n",
    "            \n",
    "            loss = 0.0\n",
    "\n",
    "            logits = network.f_eval_forward(user_batch_gpu)\n",
    "            \n",
    "            compensated_logits = compensated_score(logits, mask_item_batch_gpu)\n",
    "            \n",
    "            preds = compensated_logits.cpu()\n",
    "            preds.scatter_(1, mask_item_batch, float(\"-inf\"))\n",
    "            preds[:, 0] = float(\"-inf\")\n",
    "                        \n",
    "            _, topk_preds = torch.topk(preds, topk, -1)\n",
    "            \n",
    "            targets = item_batch\n",
    "        \n",
    "            batch_size = topk_preds.size(0)\n",
    "        \n",
    "            for i in range(batch_size):\n",
    "                target_rank_i = []\n",
    "                target_pop_i = []\n",
    "                \n",
    "                user_i = user_batch[i].item()\n",
    "                \n",
    "                topk_pred_i = list(topk_preds[i].numpy())\n",
    "                target_i = targets[i].numpy()\n",
    "                \n",
    "                itemnum_i = itemnum_batch[i].item()\n",
    "                \n",
    "                target_i = list(target_i)[:itemnum_i]\n",
    "                \n",
    "                correctnum_i = 0\n",
    "                \n",
    "                for j in range(itemnum_i):\n",
    "                    target_ij = target_i[j]\n",
    "                    \n",
    "                    if target_ij in topk_pred_i:\n",
    "                        correctnum_i += 1.0\n",
    "                    \n",
    "                recall_i = correctnum_i/itemnum_i\n",
    "                recall_list.append(recall_i)\n",
    "                    \n",
    "    return recall_list"
   ]
  },
  {
   "cell_type": "code",
   "execution_count": 516,
   "metadata": {},
   "outputs": [],
   "source": [
    "recall_list = compensated_bias_eval(test_data, train_itemid_bucketid_dict)"
   ]
  },
  {
   "cell_type": "code",
   "execution_count": 517,
   "metadata": {},
   "outputs": [
    {
     "name": "stdout",
     "output_type": "stream",
     "text": [
      "recall: 0.2079 5949\n"
     ]
    }
   ],
   "source": [
    "mean_recall = np.mean(recall_list)\n",
    "print(\"recall: %.4f\"%mean_recall, len(recall_list))"
   ]
  },
  {
   "cell_type": "code",
   "execution_count": null,
   "metadata": {},
   "outputs": [],
   "source": []
  },
  {
   "cell_type": "markdown",
   "metadata": {},
   "source": [
    "### item side"
   ]
  },
  {
   "cell_type": "code",
   "execution_count": 518,
   "metadata": {},
   "outputs": [],
   "source": [
    "def compensated_bias_eval(eval_data, itemid_bucketid_dict):\n",
    "    network.eval()\n",
    "\n",
    "    losses = []\n",
    "    recalls = []\n",
    "    mrrs = []\n",
    "    weights = []\n",
    "\n",
    "    dataloader = eval_data\n",
    "    topk = 20\n",
    "    \n",
    "    item_recall_dict = {}\n",
    "    item_mrr_dict = {}\n",
    "#     # ### load \n",
    "    # item_freq_dict = {}\n",
    "\n",
    "    iter_index = 0\n",
    "    \n",
    "    ## {item: rank}\n",
    "    item_rank_dict = {}\n",
    "\n",
    "    with torch.no_grad():\n",
    "        total_test_num = []\n",
    "\n",
    "        for user_batch, item_batch, mask_item_batch, itemnum_batch in eval_data:\n",
    "            \n",
    "            user_batch_gpu = user_batch.to(device)\n",
    "            mask_item_batch_gpu = mask_item_batch.to(device)\n",
    "            \n",
    "            loss = 0.0\n",
    "\n",
    "            logits = network.f_eval_forward(user_batch_gpu)\n",
    "            \n",
    "            compensated_logits = compensated_score(logits, mask_item_batch_gpu)\n",
    "            \n",
    "            preds = compensated_logits.cpu()\n",
    "            preds.scatter_(1, mask_item_batch, float(\"-inf\"))\n",
    "            preds[:, 0] = float(\"-inf\")\n",
    "            \n",
    "            _, rank = torch.topk(preds, item_num, -1)\n",
    "                        \n",
    "#             if iter_index > 1:\n",
    "#                 break\n",
    "#             iter_index += 1\n",
    "                \n",
    "            targets = item_batch\n",
    "        \n",
    "            batch_size = preds.size(0)\n",
    "        \n",
    "            for i in range(batch_size):\n",
    "               \n",
    "                rank_i = list(rank[i].numpy())\n",
    "                target_i = targets[i].numpy()\n",
    "                \n",
    "                itemnum_i = itemnum_batch[i].item()\n",
    "                \n",
    "                target_i = list(target_i)[:itemnum_i]\n",
    "                \n",
    "                for j in range(itemnum_i):\n",
    "                    target_ij = target_i[j]\n",
    "                \n",
    "                    target_rank_ij = rank_i.index(target_ij)\n",
    "                    \n",
    "                    if target_ij not in item_rank_dict:\n",
    "                        item_rank_dict[target_ij] = []\n",
    "                    item_rank_dict[target_ij].append(target_rank_ij)\n",
    "        \n",
    "    return item_rank_dict "
   ]
  },
  {
   "cell_type": "code",
   "execution_count": 519,
   "metadata": {},
   "outputs": [],
   "source": [
    "test_item_rank_dict = compensated_bias_eval(test_data, train_itemid_bucketid_dict)"
   ]
  },
  {
   "cell_type": "code",
   "execution_count": 520,
   "metadata": {},
   "outputs": [
    {
     "name": "stdout",
     "output_type": "stream",
     "text": [
      "pri: 0.7238\n"
     ]
    }
   ],
   "source": [
    "### get pri\n",
    "item_pop_list_pri = []\n",
    "item_rank_list_pri = []\n",
    "for item in test_item_rank_dict:\n",
    "    item_avgrank_i = np.mean(test_item_rank_dict[item])\n",
    "    item_rank_list_pri.append(item_avgrank_i)\n",
    "    \n",
    "    item_pop_i = train_item_freq_dict[item]\n",
    "    item_pop_list_pri.append(item_pop_i)\n",
    "    \n",
    "pri = stats.spearmanr(item_pop_list_pri, item_rank_list_pri)[0]\n",
    "pri = -pri\n",
    "print(\"pri: %.4f\"%pri)"
   ]
  },
  {
   "cell_type": "code",
   "execution_count": null,
   "metadata": {},
   "outputs": [],
   "source": []
  },
  {
   "cell_type": "code",
   "execution_count": 475,
   "metadata": {},
   "outputs": [],
   "source": [
    "### item recall"
   ]
  },
  {
   "cell_type": "code",
   "execution_count": 521,
   "metadata": {},
   "outputs": [],
   "source": [
    "def compensated_bias_eval(eval_data, itemid_bucketid_dict):\n",
    "    network.eval()\n",
    "\n",
    "    losses = []\n",
    "    recalls = []\n",
    "    mrrs = []\n",
    "    weights = []\n",
    "\n",
    "    dataloader = eval_data\n",
    "    topk = 20\n",
    "    \n",
    "    item_recall_dict = {}\n",
    "    item_mrr_dict = {}\n",
    "#     # ### load \n",
    "    # item_freq_dict = {}\n",
    "\n",
    "    iter_index = 0\n",
    "    \n",
    "    with torch.no_grad():\n",
    "        total_test_num = []\n",
    "\n",
    "        for user_batch, item_batch, mask_item_batch, itemnum_batch in eval_data:\n",
    "            \n",
    "            user_batch_gpu = user_batch.to(device)\n",
    "            mask_item_batch_gpu = mask_item_batch.to(device)\n",
    "            \n",
    "            loss = 0.0\n",
    "\n",
    "            logits = network.f_eval_forward(user_batch_gpu)\n",
    "            \n",
    "            compensated_logits = compensated_score(logits, mask_item_batch_gpu)\n",
    "            \n",
    "            preds = compensated_logits.cpu()\n",
    "            preds.scatter_(1, mask_item_batch, float(\"-inf\"))\n",
    "            preds[:, 0] = float(\"-inf\")\n",
    "                        \n",
    "            _, topk_preds = torch.topk(preds, topk, -1)\n",
    "                \n",
    "            targets = item_batch\n",
    "        \n",
    "            batch_size = topk_preds.size(0)\n",
    "        \n",
    "            for i in range(batch_size):\n",
    "               \n",
    "                topk_pred_i = list(topk_preds[i].numpy())\n",
    "                target_i = targets[i].numpy()\n",
    "                \n",
    "                itemnum_i = itemnum_batch[i].item()\n",
    "                \n",
    "                target_i = list(target_i)[:itemnum_i]\n",
    "                \n",
    "                for j in range(itemnum_i):\n",
    "                    target_ij = target_i[j]\n",
    "                    \n",
    "                    if target_ij not in item_recall_dict:\n",
    "                        item_recall_dict[target_ij] = []\n",
    "                    \n",
    "                    if target_ij in topk_pred_i:\n",
    "                        item_recall_dict[target_ij].append(1.0)\n",
    "                    else:\n",
    "                        item_recall_dict[target_ij].append(0.0)\n",
    "                    \n",
    "    \n",
    "    return item_recall_dict"
   ]
  },
  {
   "cell_type": "code",
   "execution_count": 522,
   "metadata": {},
   "outputs": [],
   "source": [
    "test_item_recall_dict = compensated_bias_eval(test_data, train_itemid_bucketid_dict)"
   ]
  },
  {
   "cell_type": "code",
   "execution_count": 523,
   "metadata": {},
   "outputs": [],
   "source": [
    "total_recall_list = []\n",
    "bucket_recall_dict = {}\n",
    "bucket_size_dict = {}\n",
    "for item in test_item_recall_dict:\n",
    "    bucketid = train_itemid_bucketid_dict[item]\n",
    "    item_recall = np.mean(test_item_recall_dict[item])\n",
    "    \n",
    "#     item_recall = item_recall[0]*1.0/item_recall[1]\n",
    "    if bucketid not in bucket_recall_dict:\n",
    "        bucket_recall_dict[bucketid] = []\n",
    "        \n",
    "    bucket_recall_dict[bucketid].append(item_recall)\n",
    "    total_recall_list.append(item_recall)\n",
    "\n",
    "for bucket in bucket_recall_dict:\n",
    "    bucket_recall_list = bucket_recall_dict[bucket]\n",
    "    bucket_size_dict[bucket] = len(bucket_recall_list)\n",
    "    mean_recall = np.mean(bucket_recall_list)\n",
    "    bucket_recall_dict[bucket] = mean_recall\n"
   ]
  },
  {
   "cell_type": "code",
   "execution_count": 524,
   "metadata": {},
   "outputs": [
    {
     "name": "stdout",
     "output_type": "stream",
     "text": [
      "recall\n",
      "1:0.0595:1689, 2:0.0491:441, 3:0.0859:248, 4:0.1348:161, 5:0.2064:105, 6:0.3772:57, \n",
      "mean recall: 0.0771 2701\n"
     ]
    }
   ],
   "source": [
    "print(\"recall\")\n",
    "for i in range(1, len(bucket_recall_dict)+1):\n",
    "    print(\"%d:%.4f:%d\"%(i, bucket_recall_dict[i], bucket_size_dict[i]), end=\", \")\n",
    "print()\n",
    "print(\"mean recall: %.4f\"%np.mean(total_recall_list), len(total_recall_list))"
   ]
  },
  {
   "cell_type": "code",
   "execution_count": 526,
   "metadata": {},
   "outputs": [
    {
     "data": {
      "image/png": "[encoded data removed]",
      "text/plain": [
       "<Figure size 576x432 with 1 Axes>"
      ]
     },
     "metadata": {
      "needs_background": "light"
     },
     "output_type": "display_data"
    }
   ],
   "source": [
    "plt.rcParams['figure.figsize'] = 8, 6\n",
    "plt.rcParams['font.size'] = 20\n",
    "\n",
    "x = [i for i in range(1, len(bucket_recall_dict)+1)]\n",
    "recall_list = [bucket_recall_dict[i] for i in range(1, len(bucket_recall_dict)+1)]\n",
    "plt.bar(x, recall_list)\n",
    "plt.ylim([0, 0.40])\n",
    "plt.xlabel(\"bucket index based on item frequencies in descending order\")\n",
    "plt.ylabel(\"recall@20\")\n",
    "plt.title(\"BPR on ml-1m\")\n",
    "\n",
    "plt.yticks(fontsize=20)\n",
    "plt.xticks(fontsize=20)\n",
    "# plt.legend(loc=\"right\")\n",
    "plt.show()\n",
    "\n",
    "plt.show()"
   ]
  },
  {
   "cell_type": "code",
   "execution_count": null,
   "metadata": {},
   "outputs": [],
   "source": []
  },
  {
   "cell_type": "code",
   "execution_count": null,
   "metadata": {},
   "outputs": [],
   "source": []
  },
  {
   "cell_type": "code",
   "execution_count": null,
   "metadata": {},
   "outputs": [],
   "source": []
  },
  {
   "cell_type": "code",
   "execution_count": 318,
   "metadata": {},
   "outputs": [],
   "source": [
    "def compensated_bias_eval(eval_data, itemid_bucketid_dict):\n",
    "    network.eval()\n",
    "\n",
    "    losses = []\n",
    "    recalls = []\n",
    "    mrrs = []\n",
    "    weights = []\n",
    "\n",
    "    dataloader = eval_data\n",
    "    topk = 20\n",
    "    \n",
    "    item_recall_dict = {}\n",
    "    item_mrr_dict = {}\n",
    "#     # ### load \n",
    "    # item_freq_dict = {}\n",
    "\n",
    "    iter_index = 0\n",
    "    \n",
    "    pru_list = []\n",
    "    pri_list = []\n",
    "    \n",
    "    ## {item: rank}\n",
    "    item_rank_dict = {}\n",
    "    user_itemrank_dict = {}\n",
    "    user_itempop_dict = {}\n",
    "    \n",
    "    with torch.no_grad():\n",
    "        total_test_num = []\n",
    "\n",
    "        for user_batch, item_batch, mask_item_batch, itemnum_batch in eval_data:\n",
    "            \n",
    "            user_batch_gpu = user_batch.to(device)\n",
    "            mask_item_batch_gpu = mask_item_batch.to(device)\n",
    "            \n",
    "            loss = 0.0\n",
    "\n",
    "            logits = network.f_eval_forward(user_batch_gpu)\n",
    "            \n",
    "            compensated_logits = compensated_score(logits, mask_item_batch_gpu)\n",
    "            \n",
    "            preds = compensated_logits.cpu()\n",
    "            preds.scatter_(1, mask_item_batch, float(\"-inf\"))\n",
    "            preds[:, 0] = float(\"-inf\")\n",
    "            \n",
    "            _, rank = torch.topk(preds, item_num, -1)\n",
    "            \n",
    "            _, topk_preds = torch.topk(preds, topk, -1)\n",
    "            \n",
    "#             if iter_index > 1:\n",
    "#                 break\n",
    "#             iter_index += 1\n",
    "                \n",
    "            targets = item_batch\n",
    "        \n",
    "            batch_size = topk_preds.size(0)\n",
    "        \n",
    "            for i in range(batch_size):\n",
    "                target_rank_i = []\n",
    "                target_pop_i = []\n",
    "                \n",
    "                rank_i = list(rank[i].numpy())\n",
    "                topk_pred_i = list(topk_preds[i].numpy())\n",
    "                target_i = targets[i].numpy()\n",
    "                \n",
    "                itemnum_i = itemnum_batch[i].item()\n",
    "                \n",
    "                target_i = list(target_i)[:itemnum_i]\n",
    "                \n",
    "                for j in range(itemnum_i):\n",
    "                    target_ij = target_i[j]\n",
    "                    \n",
    "                    target_pop_ij = train_item_freq_dict[target_ij]\n",
    "                    target_pop_i.append(target_pop_ij)\n",
    "                    \n",
    "                    target_rank_ij = rank_i.index(target_ij)\n",
    "                    target_rank_i.append(target_rank_ij)\n",
    "                    \n",
    "                    if target_ij not in item_recall_dict:\n",
    "                        item_recall_dict[target_ij] = []\n",
    "                    \n",
    "                    if target_ij in topk_pred_i:\n",
    "                        item_recall_dict[target_ij].append(1.0)\n",
    "                    else:\n",
    "                        item_recall_dict[target_ij].append(0.0)\n",
    "                    \n",
    "                    if target_ij not in item_rank_dict:\n",
    "                        item_rank_dict[target_ij] = []\n",
    "                    item_rank_dict[target_ij].append(target_rank_ij)\n",
    "                \n",
    "                pru_i = 1.0\n",
    "                if len(target_pop_i) > 1:\n",
    "                    pru_i = stats.spearmanr(target_pop_i, target_rank_i)[0]\n",
    "#                 \n",
    "                if math.isnan(pru_i):\n",
    "                    print(\"==\"*10)\n",
    "                    print(\"pru\", pru_i)\n",
    "                    print(\"target_pop_i\", target_pop_i)\n",
    "                    print(\"target_rank_i\", target_rank_i)\n",
    "                pru_list.append(pru_i)\n",
    "    \n",
    "    mean_pru = -np.mean(pru_list)\n",
    "    print(\"pru\", mean_pru, len(pru_list))\n",
    "    \n",
    "    return item_recall_dict, item_mrr_dict, item_rank_dict "
   ]
  },
  {
   "cell_type": "code",
   "execution_count": 319,
   "metadata": {},
   "outputs": [
    {
     "name": "stdout",
     "output_type": "stream",
     "text": [
      "pru 0.555028849285561 5949\n"
     ]
    }
   ],
   "source": [
    "test_item_recall_dict, test_item_mrr_dict, test_item_rank_dict = compensated_bias_eval(test_data, train_itemid_bucketid_dict)"
   ]
  },
  {
   "cell_type": "code",
   "execution_count": 322,
   "metadata": {},
   "outputs": [
    {
     "name": "stdout",
     "output_type": "stream",
     "text": [
      "pri 0.9295396010459206\n"
     ]
    }
   ],
   "source": [
    "### get pri\n",
    "item_pop_list_pri = []\n",
    "item_rank_list_pri = []\n",
    "for item in test_item_rank_dict:\n",
    "    item_avgrank_i = np.mean(test_item_rank_dict[item])\n",
    "    item_rank_list_pri.append(item_avgrank_i)\n",
    "    \n",
    "    item_pop_i = train_item_freq_dict[item]\n",
    "    item_pop_list_pri.append(item_pop_i)\n",
    "    \n",
    "pri = stats.spearmanr(item_pop_list_pri, item_rank_list_pri)[0]\n",
    "pri = -pri\n",
    "print(\"pri\", pri)"
   ]
  },
  {
   "cell_type": "code",
   "execution_count": null,
   "metadata": {},
   "outputs": [],
   "source": []
  },
  {
   "cell_type": "code",
   "execution_count": null,
   "metadata": {},
   "outputs": [],
   "source": []
  },
  {
   "cell_type": "code",
   "execution_count": 316,
   "metadata": {},
   "outputs": [],
   "source": [
    "total_recall_list = []\n",
    "bucket_recall_dict = {}\n",
    "bucket_size_dict = {}\n",
    "for item in test_item_recall_dict:\n",
    "    bucketid = train_itemid_bucketid_dict[item]\n",
    "    item_recall = np.mean(test_item_recall_dict[item])\n",
    "    \n",
    "#     item_recall = item_recall[0]*1.0/item_recall[1]\n",
    "    if bucketid not in bucket_recall_dict:\n",
    "        bucket_recall_dict[bucketid] = []\n",
    "        \n",
    "    bucket_recall_dict[bucketid].append(item_recall)\n",
    "    total_recall_list.append(item_recall)\n",
    "\n",
    "for bucket in bucket_recall_dict:\n",
    "    bucket_recall_list = bucket_recall_dict[bucket]\n",
    "    bucket_size_dict[bucket] = len(bucket_recall_list)\n",
    "    mean_recall = np.mean(bucket_recall_list)\n",
    "    bucket_recall_dict[bucket] = mean_recall\n"
   ]
  },
  {
   "cell_type": "code",
   "execution_count": 309,
   "metadata": {},
   "outputs": [
    {
     "name": "stdout",
     "output_type": "stream",
     "text": [
      "recall\n",
      "1:0.0089:1689, 2:0.0539:441, 3:0.1208:248, 4:0.1890:161, 5:0.2836:105, 6:0.4767:57, \n",
      "mean recall: 0.1963 59807\n"
     ]
    }
   ],
   "source": [
    "print(\"recall\")\n",
    "for i in range(1, len(bucket_recall_dict)+1):\n",
    "    print(\"%d:%.4f:%d\"%(i, bucket_recall_dict[i], bucket_size_dict[i]), end=\", \")\n",
    "print()\n",
    "print(\"mean recall: %.4f\"%np.mean(total_recall_list), len(total_recall_list))"
   ]
  },
  {
   "cell_type": "code",
   "execution_count": 317,
   "metadata": {},
   "outputs": [
    {
     "name": "stdout",
     "output_type": "stream",
     "text": [
      "recall\n",
      "1:0.0165:1689, 2:0.0519:441, 3:0.1186:248, 4:0.1866:161, 5:0.2830:105, 6:0.4769:57, \n",
      "mean recall: 0.0619 2701\n"
     ]
    }
   ],
   "source": [
    "print(\"recall\")\n",
    "for i in range(1, len(bucket_recall_dict)+1):\n",
    "    print(\"%d:%.4f:%d\"%(i, bucket_recall_dict[i], bucket_size_dict[i]), end=\", \")\n",
    "print()\n",
    "print(\"mean recall: %.4f\"%np.mean(total_recall_list), len(total_recall_list))"
   ]
  },
  {
   "cell_type": "code",
   "execution_count": 314,
   "metadata": {},
   "outputs": [
    {
     "name": "stdout",
     "output_type": "stream",
     "text": [
      "recall\n",
      "1:0.0165:1689, 2:0.0519:441, 3:0.1186:248, 4:0.1866:161, 5:0.2830:105, 6:0.4769:57, \n",
      "mean recall: 0.1956 59807\n"
     ]
    }
   ],
   "source": [
    "print(\"recall\")\n",
    "for i in range(1, len(bucket_recall_dict)+1):\n",
    "    print(\"%d:%.4f:%d\"%(i, bucket_recall_dict[i], bucket_size_dict[i]), end=\", \")\n",
    "print()\n",
    "print(\"mean recall: %.4f\"%np.mean(total_recall_list), len(total_recall_list))"
   ]
  },
  {
   "cell_type": "code",
   "execution_count": null,
   "metadata": {},
   "outputs": [],
   "source": []
  },
  {
   "cell_type": "markdown",
   "metadata": {},
   "source": [
    "### 1:0.0089, 2:0.0539, 3:0.1208, 4:0.1890, 5:0.2836, 6:0.4767, "
   ]
  },
  {
   "cell_type": "code",
   "execution_count": 181,
   "metadata": {},
   "outputs": [
    {
     "data": {
      "image/png": "[encoded data removed]",
      "text/plain": [
       "<Figure size 720x576 with 1 Axes>"
      ]
     },
     "metadata": {
      "needs_background": "light"
     },
     "output_type": "display_data"
    }
   ],
   "source": [
    "plt.rcParams['figure.figsize'] = 10, 8\n",
    "plt.rcParams['font.size'] = 20\n",
    "\n",
    "x = [i for i in range(1, len(bucket_recall_dict)+1)]\n",
    "recall_list = [bucket_recall_dict[i] for i in range(1, len(bucket_recall_dict)+1)]\n",
    "plt.bar(x, recall_list)\n",
    "plt.xlabel(\"bucket index based on item frequencies in descending order\")\n",
    "plt.ylabel(\"recall@20\")\n",
    "plt.title(\"debiased BPR on ml-1m\")\n",
    "\n",
    "plt.yticks(fontsize=20)\n",
    "plt.xticks(fontsize=20)\n",
    "# plt.legend(loc=\"right\")\n",
    "plt.show()\n",
    "\n",
    "plt.show()"
   ]
  },
  {
   "cell_type": "code",
   "execution_count": null,
   "metadata": {},
   "outputs": [],
   "source": []
  }
 ],
 "metadata": {
  "kernelspec": {
   "display_name": "Python 3",
   "language": "python",
   "name": "python3"
  },
  "language_info": {
   "codemirror_mode": {
    "name": "ipython",
    "version": 3
   },
   "file_extension": ".py",
   "mimetype": "text/x-python",
   "name": "python",
   "nbconvert_exporter": "python",
   "pygments_lexer": "ipython3",
   "version": "3.7.3"
  }
 },
 "nbformat": 4,
 "nbformat_minor": 2
}

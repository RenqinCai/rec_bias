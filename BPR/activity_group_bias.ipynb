{
 "cells": [
  {
   "cell_type": "code",
   "execution_count": 147,
   "metadata": {},
   "outputs": [],
   "source": [
    "from datetime import datetime\n",
    "import numpy as np\n",
    "import torch\n",
    "import random\n",
    "import torch.nn as nn\n",
    "import pandas as pd\n",
    "import torch.nn.functional as F\n",
    "\n",
    "\n",
    "import pickle\n",
    "import argparse\n",
    "from data import DATA\n",
    "import json\n",
    "import os\n",
    "from optimizer import OPTIM\n",
    "from logger import LOGGER\n",
    "from collections import Counter\n",
    "\n",
    "import time\n",
    "from train import TRAINER\n",
    "from model import MF\n",
    "from eval import EVAL\n",
    "from metric import get_recall\n",
    "import matplotlib.pyplot as plt"
   ]
  },
  {
   "cell_type": "code",
   "execution_count": 32,
   "metadata": {},
   "outputs": [],
   "source": [
    "parser = argparse.ArgumentParser()\n",
    "\n",
    "### data\n",
    "parser.add_argument('--data_dir', type=str, default='data')\n",
    "parser.add_argument('--data_name', type=str, default='movielens')\n",
    "parser.add_argument('--data_file', type=str, default='data.pickle')\n",
    "\n",
    "parser.add_argument('--vocab_file', type=str, default='vocab.json')\n",
    "parser.add_argument('--model_file', type=str, default=\"model_best.pt\")\n",
    "parser.add_argument('--model_name', type=str, default=\"MF\")\n",
    "parser.add_argument('--model_path', type=str, default=\"../checkpoint/\")\n",
    "\n",
    "### model\n",
    "parser.add_argument('--user_emb_size', type=int, default=300)\n",
    "parser.add_argument('--item_emb_size', type=int, default=300)\n",
    "\n",
    "parser.add_argument('--output_hidden_size', type=int, default=300)\n",
    "\n",
    "### train\n",
    "parser.add_argument('--batch_size', type=int, default=128)\n",
    "parser.add_argument('--optimizer', type=str, default='Adam')\n",
    "parser.add_argument('--weight_decay', type=float, default=0.0)\n",
    "parser.add_argument('--l2_reg', type=float, default=0.0)\n",
    "\n",
    "parser.add_argument('--learning_rate', type=float, default=0.0001)\n",
    "parser.add_argument('--momentum', type=float, default=0.99)\n",
    "parser.add_argument('--epoch_num', type=int, default=10)\n",
    "parser.add_argument('--print_interval', type=int, default=200)\n",
    "parser.add_argument('--hcdmg1', action=\"store_true\", default=False)\n",
    "\n",
    "### hyper-param\n",
    "# parser.add_argument('--init_mult', type=float, default=1.0)\n",
    "# parser.add_argument('--variance', type=float, default=0.995)\n",
    "# parser.add_argument('--max_seq_length', type=int, default=100)\n",
    "\n",
    "### others\n",
    "parser.add_argument('--train', action='store_true', default=False)\n",
    "parser.add_argument('--test', action='store_true', default=False)\n",
    "parser.add_argument('--eval', action='store_true', default=False)\n",
    "parser.add_argument('--parallel', action=\"store_true\", default=False)\n",
    "parser.add_argument('--local_rank', type=int, default=0)\n",
    "\n",
    "args = parser.parse_args([])\n"
   ]
  },
  {
   "cell_type": "code",
   "execution_count": 33,
   "metadata": {},
   "outputs": [],
   "source": [
    "# CUDA_VISIBLE_DEVICES=1 python main.py --data_dir \"../data/ml-25m\" \\\n",
    "# --data_name \"movie\" --model_file \"movie_MF/model_best_2_16_16_28.pt\" \\\n",
    "# --vocab_file \"vocab.json\" --eval --batch_size 8 --user_emb_size 16 --item_emb_size 16"
   ]
  },
  {
   "cell_type": "code",
   "execution_count": 34,
   "metadata": {},
   "outputs": [],
   "source": [
    "args.data_dir = \"../data/ml-1m\"\n",
    "args.data_name = \"movie\"\n",
    "args.model_file = \"movie_MF/model_best_2_17_10_45.pt\"\n",
    "args.vocab_file = \"vocab.json\"\n",
    "args.epoch_num = 50\n",
    "args.batch_size = 32\n",
    "args.learning_rate = 0.0001\n",
    "args.user_emb_size = 128\n",
    "args.item_emb_size = 128\n",
    "args.weight_decay = 0.0"
   ]
  },
  {
   "cell_type": "code",
   "execution_count": 35,
   "metadata": {},
   "outputs": [],
   "source": [
    "def set_seed(seed):\n",
    "    random.seed(seed)\n",
    "    np.random.seed(seed)\n",
    "    torch.manual_seed(seed)\n",
    "    torch.backends.cudnn.deterministic = True\n",
    "    torch.backends.cudnn.benchmark = False"
   ]
  },
  {
   "cell_type": "code",
   "execution_count": null,
   "metadata": {},
   "outputs": [],
   "source": []
  },
  {
   "cell_type": "code",
   "execution_count": 36,
   "metadata": {},
   "outputs": [
    {
     "name": "stdout",
     "output_type": "stream",
     "text": [
      "device cuda\n"
     ]
    }
   ],
   "source": [
    "ts = time.strftime('%Y-%b-%d-%H:%M:%S', time.gmtime())\n",
    "seed = 1234\n",
    "set_seed(seed)\n",
    "\n",
    "device = torch.device('cuda' if torch.cuda.is_available() else 'cpu')\n",
    "print('device', device)"
   ]
  },
  {
   "cell_type": "code",
   "execution_count": 37,
   "metadata": {},
   "outputs": [
    {
     "name": "stdout",
     "output_type": "stream",
     "text": [
      "data\n",
      "data_name movie\n",
      "train user num 5949\n",
      "train item num 2810\n",
      "sample num 454860\n",
      "batch num 14214\n",
      "... load train data ... 454860 454860\n",
      "sample num 56864\n",
      "batch num 1777\n",
      "unique_user_num 5949\n",
      "user num unique in df 5949\n",
      "... load train data ... 5949 5949\n",
      "sample num 59807\n",
      "batch num 1868\n",
      "unique_user_num 5949\n",
      "user num unique in df 5949\n",
      "... load train data ... 5949 5949\n"
     ]
    }
   ],
   "source": [
    "# local_rank = None\n",
    "# if args.parallel:\n",
    "#     local_rank = args.local_rank\n",
    "#     torch.distributed.init_process_group(backend=\"nccl\")\n",
    "#     device = torch.device('cuda:{}'.format(local_rank))\n",
    "\n",
    "data_obj = DATA()\n",
    "\n",
    "if \"movie\" in args.data_name:\n",
    "    print(\"data_name\", args.data_name)\n",
    "    train_data, valid_data, test_data, vocab_obj = data_obj.f_load_movie(args)\n"
   ]
  },
  {
   "cell_type": "code",
   "execution_count": 38,
   "metadata": {},
   "outputs": [
    {
     "name": "stdout",
     "output_type": "stream",
     "text": [
      "user num 5950\n",
      "item num 2811\n"
     ]
    }
   ],
   "source": [
    "\n",
    "\n",
    "# print(\"vocab_size\", vocab_obj.vocab_size)\n",
    "print(\"user num\", vocab_obj.user_num)\n",
    "print(\"item num\", vocab_obj.item_num)\n",
    "\n",
    "network = MF(vocab_obj, args, device)"
   ]
  },
  {
   "cell_type": "code",
   "execution_count": 39,
   "metadata": {},
   "outputs": [
    {
     "name": "stdout",
     "output_type": "stream",
     "text": [
      "m_user_embed.weight \t 761600\n",
      "m_item_embed.weight \t 359808\n",
      "total parameters num 1121408\n"
     ]
    }
   ],
   "source": [
    "total_param_num = 0\n",
    "for name, param in network.named_parameters():\n",
    "    if param.requires_grad:\n",
    "        param_num = param.numel()\n",
    "        total_param_num += param_num\n",
    "        print(name, \"\\t\", param_num)\n",
    "\n",
    "print(\"total parameters num\", total_param_num)\n"
   ]
  },
  {
   "cell_type": "code",
   "execution_count": 40,
   "metadata": {},
   "outputs": [],
   "source": [
    "eval_obj = EVAL(vocab_obj, args, device)\n",
    "network = network.to(device)"
   ]
  },
  {
   "cell_type": "code",
   "execution_count": 41,
   "metadata": {},
   "outputs": [],
   "source": [
    "def f_init_eval(network, model_file=None, reload_model=False):\n",
    "    if reload_model:\n",
    "        print(\"reload model\")\n",
    "        if not model_file:\n",
    "            model_file = \"model_best.pt\"\n",
    "        model_name = os.path.join(model_path, model_file)\n",
    "        print(\"model name\", model_name)\n",
    "        check_point = torch.load(model_name)\n",
    "        network.load_state_dict(check_point['model'])\n",
    "\n",
    "    return network"
   ]
  },
  {
   "cell_type": "code",
   "execution_count": 42,
   "metadata": {},
   "outputs": [
    {
     "name": "stdout",
     "output_type": "stream",
     "text": [
      "model_path ../checkpoint/\n",
      "reload model\n",
      "model name ../checkpoint/movie_MF/model_best_2_17_10_45.pt\n"
     ]
    }
   ],
   "source": [
    "model_path = args.model_path\n",
    "print(\"model_path\", model_path)\n",
    "network = f_init_eval(network, model_file=args.model_file, reload_model=True)"
   ]
  },
  {
   "cell_type": "code",
   "execution_count": 43,
   "metadata": {},
   "outputs": [],
   "source": [
    "def f_eval_new(eval_data):\n",
    "\n",
    "    recall_list = []\n",
    "\n",
    "    print('--'*10)\n",
    "\n",
    "    topk = 20\n",
    "    network.eval()\n",
    "    with torch.no_grad():\n",
    "\n",
    "        for user_batch, item_batch, mask_item_batch, \\\n",
    "            itemnum_batch in eval_data:\n",
    "\n",
    "            user_gpu = user_batch.to(device)\n",
    "\n",
    "            logits = network.f_eval_forward(user_gpu)\n",
    "\n",
    "            recall = get_recall(logits.cpu(), item_batch, mask_item_batch, \\\n",
    "                                itemnum_batch, k=topk)\n",
    "\n",
    "            recall_list.append(recall)\n",
    "\n",
    "    mean_recall = np.mean(recall_list)\n",
    "    print(\"recall@%d:%.4f\"%(topk, mean_recall))"
   ]
  },
  {
   "cell_type": "code",
   "execution_count": 44,
   "metadata": {},
   "outputs": [
    {
     "name": "stdout",
     "output_type": "stream",
     "text": [
      "--------------------\n",
      "recall@20:0.2635\n"
     ]
    }
   ],
   "source": [
    "f_eval_new(valid_data)"
   ]
  },
  {
   "cell_type": "code",
   "execution_count": 45,
   "metadata": {},
   "outputs": [
    {
     "name": "stdout",
     "output_type": "stream",
     "text": [
      "--------------------\n",
      "recall@20:0.2569\n"
     ]
    }
   ],
   "source": [
    "f_eval_new(test_data)"
   ]
  },
  {
   "cell_type": "code",
   "execution_count": 46,
   "metadata": {},
   "outputs": [
    {
     "name": "stdout",
     "output_type": "stream",
     "text": [
      "item num 2810\n",
      "min freq: 5, max freq: 2245\n"
     ]
    },
    {
     "data": {
      "image/png": "[encoded data removed]",
      "text/plain": [
       "<Figure size 432x288 with 1 Axes>"
      ]
     },
     "metadata": {
      "needs_background": "light"
     },
     "output_type": "display_data"
    }
   ],
   "source": [
    "def visualize_item_freq(data):\n",
    "    item_freq_dict = dict(Counter(data.dataset.m_pos_item_batch_list))\n",
    "    item_num = len(item_freq_dict)\n",
    "    print(\"item num\", item_num)\n",
    "    freq_list = list(item_freq_dict.values())\n",
    "    print(\"min freq: %d, max freq: %d\"%(min(freq_list), max(freq_list)))\n",
    "    \n",
    "    x = [i for i in range(item_num)]\n",
    "    y = sorted(freq_list)\n",
    "    \n",
    "#     plt.xscale(\"log\")\n",
    "#     plt.yscale(\"log\")\n",
    "    plt.plot(x, y)\n",
    "\n",
    "    plt.xlim([-100, 3000])\n",
    "    plt.ylim([-100, 2500])\n",
    "    plt.show()\n",
    "\n",
    "visualize_item_freq(train_data)"
   ]
  },
  {
   "cell_type": "code",
   "execution_count": null,
   "metadata": {},
   "outputs": [],
   "source": [
    "user_behavior_threshold = 0.05"
   ]
  },
  {
   "cell_type": "code",
   "execution_count": null,
   "metadata": {},
   "outputs": [],
   "source": []
  },
  {
   "cell_type": "code",
   "execution_count": 47,
   "metadata": {},
   "outputs": [],
   "source": [
    "train_data_file = args.data_dir+\"/train_data.pickle\"\n",
    "valid_data_file = args.data_dir+\"/valid_data.pickle\"\n",
    "test_data_file = args.data_dir+\"/test_data.pickle\"\n",
    "\n",
    "train_df = pd.read_pickle(train_data_file)\n",
    "# train_df = train_df[[\"userid\", \"itemid\"]]\n",
    "# train_df.columns = [\"userid\", \"itemid\"]\n",
    "\n",
    "valid_df = pd.read_pickle(valid_data_file)\n",
    "# valid_df = valid_df[[\"userid\", \"itemid\"]]\n",
    "# valid_df.columns = [\"userid\", \"itemid\"]\n",
    "\n",
    "test_df = pd.read_pickle(test_data_file)\n",
    "# test_df = test_df[[\"userid\", \"itemid\"]]\n",
    "# test_df.columns = [\"userid\", \"itemid\"]\n"
   ]
  },
  {
   "cell_type": "code",
   "execution_count": 48,
   "metadata": {},
   "outputs": [
    {
     "name": "stdout",
     "output_type": "stream",
     "text": [
      "75810.0\n",
      "[0, 1, 2, 3, 4, 5, 6, 7, 8, 9]\n"
     ]
    }
   ],
   "source": [
    "print(454860/6)\n",
    "print([i for i in range(0, 10, 1)])"
   ]
  },
  {
   "cell_type": "code",
   "execution_count": null,
   "metadata": {},
   "outputs": [],
   "source": []
  },
  {
   "cell_type": "code",
   "execution_count": 53,
   "metadata": {},
   "outputs": [
    {
     "name": "stdout",
     "output_type": "stream",
     "text": [
      "item num 2810\n",
      "min freq: 5, max freq: 2245\n",
      "cumsum_y [     5     10     15 ... 450551 452615 454860]\n"
     ]
    },
    {
     "data": {
      "image/png": "[encoded data removed]",
      "text/plain": [
       "<Figure size 432x288 with 1 Axes>"
      ]
     },
     "metadata": {
      "needs_background": "light"
     },
     "output_type": "display_data"
    }
   ],
   "source": [
    "def visualize_item_freq(data):\n",
    "    item_freq_dict = dict(Counter(data.dataset.m_pos_item_batch_list))\n",
    "    item_num = len(item_freq_dict)\n",
    "    print(\"item num\", item_num)\n",
    "    freq_list = list(item_freq_dict.values())\n",
    "    print(\"min freq: %d, max freq: %d\"%(min(freq_list), max(freq_list)))\n",
    "    \n",
    "    x = [i for i in range(item_num)]\n",
    "    y = sorted(freq_list)\n",
    "    cumsum_y = np.cumsum(y)\n",
    "    print(\"cumsum_y\", cumsum_y)\n",
    "    \n",
    "    p = 1.0*np.arange(len(y))/(len(y)-1)\n",
    "    \n",
    "    for i in range(item_num):\n",
    "        p_i = p[i]\n",
    "        y_i = y[i]\n",
    "        cumsum_y_i = cumsum_y[i]\n",
    "\n",
    "    \n",
    "    total_y = cumsum_y[-1]\n",
    "\n",
    "    plt.xticks([i for i in range(0, 2250, 200)])\n",
    "    plt.plot(y, p)\n",
    "    \n",
    "\n",
    "#     plt.xlim([-100, 3000])\n",
    "#     plt.ylim([-100, 2500])\n",
    "    plt.show()\n",
    "    \n",
    "    return total_y\n",
    "\n",
    "total_freq = visualize_item_freq(train_data)"
   ]
  },
  {
   "cell_type": "code",
   "execution_count": 156,
   "metadata": {},
   "outputs": [
    {
     "name": "stdout",
     "output_type": "stream",
     "text": [
      "227430\n",
      "[0, 227430]\n",
      "2\n"
     ]
    }
   ],
   "source": [
    "group_num = 2\n",
    "gap = total_freq//group_num\n",
    "print(gap)\n",
    "cumsum_user_freq_threshold_list = [int(i) for i in range(0, total_freq, gap)]\n",
    "print(cumsum_user_freq_threshold_list)\n",
    "print(len(cumsum_user_freq_threshold_list))"
   ]
  },
  {
   "cell_type": "code",
   "execution_count": 157,
   "metadata": {},
   "outputs": [],
   "source": [
    "## set the user bucket\n",
    "top_threshold = 0.05\n",
    "def set_bucket4user(data):\n",
    "    user_freq_dict = dict(data.userid.value_counts())\n",
    "    user_num = len(user_freq_dict)\n",
    "    print(\"user num\", user_num)\n",
    "    freq_list = list(user_freq_dict.values())\n",
    "    print(\"min freq: %d, max freq: %d\"%(min(freq_list), max(freq_list)))\n",
    "    \n",
    "    userid_bucketid_dict = {}\n",
    "    bucketid_useridlist_dict = {}\n",
    "    \n",
    "    sorted_user_freq_dict = {k:v for k, v in sorted(user_freq_dict.items(), key=lambda x: x[1], reverse=True)}\n",
    "    \n",
    "    active_user_num = int(user_num*top_threshold)\n",
    "    \n",
    "    \n",
    "    cumsum_user_num = 0\n",
    "    for userid in sorted_user_freq_dict:\n",
    "        cumsum_user_num += 1\n",
    "        bucketid = 1 \n",
    "        if cumsum_user_num < active_user_num:\n",
    "            bucketid = 2\n",
    "        \n",
    "        userid_bucketid_dict[userid] = bucketid\n",
    "        if bucketid not in bucketid_useridlist_dict:\n",
    "            bucketid_useridlist_dict[bucketid] = []\n",
    "        bucketid_useridlist_dict[bucketid].append(userid)\n",
    "\n",
    "    print(\"bucket\", len(bucketid_useridlist_dict), bucketid_useridlist_dict.keys())\n",
    "#     for bucketid in bucketid_itemidlist_dict:\n",
    "    for bucketid in range(1, len(bucketid_useridlist_dict)+1):\n",
    "        userid_list_bucket = bucketid_useridlist_dict[bucketid]\n",
    "        freq_bucket = 0\n",
    "        freq_list_bucket = []\n",
    "        for userid in userid_list_bucket:\n",
    "            userfreq_i = user_freq_dict[userid]\n",
    "            freq_list_bucket.append(userfreq_i)\n",
    "            freq_bucket += userfreq_i\n",
    "        print(\"bucket %d, freq: %d, user num: %d\"%(bucketid, freq_bucket, len(userid_list_bucket)))\n",
    "        print(\"[min, max]: [%d, %d]\"%(min(freq_list_bucket), max(freq_list_bucket)))\n",
    "    return user_freq_dict, userid_bucketid_dict, bucketid_useridlist_dict"
   ]
  },
  {
   "cell_type": "code",
   "execution_count": null,
   "metadata": {},
   "outputs": [],
   "source": []
  },
  {
   "cell_type": "code",
   "execution_count": 158,
   "metadata": {},
   "outputs": [],
   "source": [
    "# def set_bucket4user(data):\n",
    "#     user_freq_dict = dict(data.userid.value_counts())\n",
    "#     user_num = len(user_freq_dict)\n",
    "#     print(\"user num\", user_num)\n",
    "#     freq_list = list(user_freq_dict.values())\n",
    "#     print(\"min freq: %d, max freq: %d\"%(min(freq_list), max(freq_list)))\n",
    "    \n",
    "#     userid_bucketid_dict = {}\n",
    "#     bucketid_useridlist_dict = {}\n",
    "    \n",
    "#     ### sort users according to their frequencies \n",
    "#     ### assign users to different groups with respect to ascending user frequencies\n",
    "#     sorted_user_freq_dict = {k:v for k, v in sorted(user_freq_dict.items(), key=lambda x: x[1])}\n",
    "    \n",
    "#     cumsum_i = 0\n",
    "#     for userid in sorted_user_freq_dict:\n",
    "#         i = user_freq_dict[userid]\n",
    "#         cumsum_i += i\n",
    "        \n",
    "#         bucketid = 0\n",
    "#         if cumsum_i <= cumsum_user_freq_threshold_list[1]:\n",
    "#             bucketid = 1\n",
    "#         else:\n",
    "#             bucketid = 2\n",
    "#         userid_bucketid_dict[userid] = bucketid\n",
    "#         if bucketid not in bucketid_useridlist_dict:\n",
    "#             bucketid_useridlist_dict[bucketid] = []\n",
    "#         bucketid_useridlist_dict[bucketid].append(userid)\n",
    "\n",
    "#     print(\"bucket\", len(bucketid_useridlist_dict), bucketid_useridlist_dict.keys())\n",
    "#     for bucketid in range(1, len(bucketid_useridlist_dict)+1):\n",
    "#         userid_list_bucket = bucketid_useridlist_dict[bucketid]\n",
    "#         freq_bucket = 0\n",
    "#         freq_list_bucket = []\n",
    "#         for userid in userid_list_bucket:\n",
    "#             userfreq_i = user_freq_dict[userid]\n",
    "#             freq_list_bucket.append(userfreq_i)\n",
    "#             freq_bucket += userfreq_i\n",
    "#         print(\"bucket %d, freq: %d, user num: %d\"%(bucketid, freq_bucket, len(userid_list_bucket)))\n",
    "#         print(\"[min, max]: [%d, %d]\"%(min(freq_list_bucket), max(freq_list_bucket)))\n",
    "#     return user_freq_dict, userid_bucketid_dict, bucketid_useridlist_dict"
   ]
  },
  {
   "cell_type": "code",
   "execution_count": 159,
   "metadata": {},
   "outputs": [
    {
     "name": "stdout",
     "output_type": "stream",
     "text": [
      "user num 5949\n",
      "min freq: 8, max freq: 1112\n",
      "bucket 2 dict_keys([1, 2])\n",
      "bucket 1, freq: 227309, user num: 4922\n",
      "[min, max]: [8, 129]\n",
      "bucket 2, freq: 227551, user num: 1027\n",
      "[min, max]: [129, 1112]\n"
     ]
    }
   ],
   "source": [
    "train_user_freq_dict, train_userid_bucketid_dict, train_bucketid_useridlist_dict = \\\n",
    "    set_bucket4user(train_df)"
   ]
  },
  {
   "cell_type": "code",
   "execution_count": null,
   "metadata": {},
   "outputs": [],
   "source": []
  },
  {
   "cell_type": "code",
   "execution_count": 160,
   "metadata": {},
   "outputs": [],
   "source": [
    "def user_bias_eval(eval_data, userid_bucketid_dict):\n",
    "    network.eval()\n",
    "\n",
    "    losses = []\n",
    "    recalls = []\n",
    "    mrrs = []\n",
    "    weights = []\n",
    "\n",
    "    dataloader = eval_data\n",
    "    topk = 20\n",
    "    \n",
    "    user_recall_dict = {}\n",
    "    user_ndcg_dict = {}\n",
    "    \n",
    "#     # ### load \n",
    "    # item_freq_dict = {}\n",
    "\n",
    "    batch_idx = 0\n",
    "    \n",
    "    with torch.no_grad():\n",
    "        total_test_num = []\n",
    "        \n",
    "        for user_batch, item_batch, mask_item_batch, itemnum_batch in eval_data:\n",
    "            \n",
    "            user_batch_gpu = user_batch.to(device)\n",
    "            loss = 0.0\n",
    "\n",
    "            logits = network.f_eval_forward(user_batch_gpu)\n",
    "                \n",
    "            preds = logits.cpu()\n",
    "            preds.scatter_(1, mask_item_batch, float(\"-inf\"))\n",
    "            preds[:, 0] = float(\"-inf\")\n",
    "            \n",
    "            _, preds = torch.topk(preds, topk, -1)\n",
    "                    \n",
    "            targets = item_batch\n",
    "        \n",
    "            batch_size = preds.size(0)\n",
    "        \n",
    "            for idx in range(batch_size):\n",
    "                pred_i = list(preds[idx].numpy())\n",
    "                target_i = targets[idx].numpy()\n",
    "\n",
    "                itemnum_i = itemnum_batch[idx].item()\n",
    "\n",
    "                target_i = list(target_i)[:itemnum_i]\n",
    "\n",
    "                user_i = user_batch[idx].item()\n",
    "                \n",
    "                true_pos_i = set(target_i) & set(pred_i)\n",
    "                true_posnum_i = len(true_pos_i)\n",
    "\n",
    "                recall_i = true_posnum_i/itemnum_i\n",
    "                \n",
    "                if user_i not in user_recall_dict:\n",
    "                    user_recall_dict[user_i] = []\n",
    "                user_recall_dict[user_i].append(recall_i)\n",
    "                \n",
    "                dcg_i = 0\n",
    "                for j in range(topk):\n",
    "                    pred_ij = pred_i[j]\n",
    "\n",
    "                    if pred_ij in target_i:\n",
    "                        dcg_i += 1/np.log2(j+2)\n",
    "\n",
    "                idcg_i = 0\n",
    "                if itemnum_i > topk:\n",
    "                    itemnum_i = topk\n",
    "\n",
    "                for j in range(itemnum_i):\n",
    "                    idcg_i += 1/np.log2(j+2)\n",
    "\n",
    "                ndcg_i = dcg_i/idcg_i\n",
    "#                 if user_i not in user_ndcg_dict:\n",
    "#                     user_ndcg_dict[user_i] =\n",
    "                user_ndcg_dict[user_i] = ndcg_i\n",
    "                        \n",
    "    return user_recall_dict, user_ndcg_dict"
   ]
  },
  {
   "cell_type": "code",
   "execution_count": 161,
   "metadata": {},
   "outputs": [],
   "source": [
    "test_user_recall_dict, test_user_ndcg_dict = user_bias_eval(test_data, train_userid_bucketid_dict)"
   ]
  },
  {
   "cell_type": "code",
   "execution_count": 162,
   "metadata": {},
   "outputs": [],
   "source": [
    "bucket_recall_dict = {}\n",
    "for user in test_user_recall_dict:\n",
    "    bucketid = train_userid_bucketid_dict[user]\n",
    "    user_recall = np.mean(test_user_recall_dict[user])\n",
    "    \n",
    "    if bucketid not in bucket_recall_dict:\n",
    "        bucket_recall_dict[bucketid] = []\n",
    "    bucket_recall_dict[bucketid].append(user_recall)\n",
    "\n",
    "for bucket in bucket_recall_dict:\n",
    "    recall_list = bucket_recall_dict[bucket]\n",
    "    mean_recall = np.mean(recall_list)\n",
    "    bucket_recall_dict[bucket] = mean_recall\n"
   ]
  },
  {
   "cell_type": "code",
   "execution_count": 163,
   "metadata": {},
   "outputs": [
    {
     "name": "stdout",
     "output_type": "stream",
     "text": [
      "recall\n",
      "1:0.2799, 2:0.1467, \n"
     ]
    }
   ],
   "source": [
    "print(\"recall\")\n",
    "for i in range(1, len(bucket_recall_dict)+1):\n",
    "    print(\"%d:%.4f\"%(i, bucket_recall_dict[i]), end=\", \")\n",
    "print()"
   ]
  },
  {
   "cell_type": "code",
   "execution_count": 164,
   "metadata": {},
   "outputs": [],
   "source": [
    "bucket_ndcg_dict = {}\n",
    "for user in test_user_ndcg_dict:\n",
    "    bucketid = train_userid_bucketid_dict[user]\n",
    "    user_ndcg = np.mean(test_user_ndcg_dict[user])\n",
    "    \n",
    "    if bucketid not in bucket_ndcg_dict:\n",
    "        bucket_ndcg_dict[bucketid] = []\n",
    "    bucket_ndcg_dict[bucketid].append(user_ndcg)\n",
    "\n",
    "for bucket in bucket_ndcg_dict:\n",
    "    ndcg_list = bucket_ndcg_dict[bucket]\n",
    "    mean_ndcg = np.mean(ndcg_list)\n",
    "    bucket_ndcg_dict[bucket] = mean_ndcg"
   ]
  },
  {
   "cell_type": "code",
   "execution_count": 165,
   "metadata": {},
   "outputs": [
    {
     "name": "stdout",
     "output_type": "stream",
     "text": [
      "ndcg\n",
      "1:0.2032, 2:0.2128, \n"
     ]
    }
   ],
   "source": [
    "print(\"ndcg\")\n",
    "for i in range(1, len(bucket_ndcg_dict)+1):\n",
    "    print(\"%d:%.4f\"%(i, bucket_ndcg_dict[i]), end=\", \")\n",
    "print()"
   ]
  },
  {
   "cell_type": "code",
   "execution_count": 166,
   "metadata": {},
   "outputs": [],
   "source": [
    "### save groups of userid to lists\n",
    "### make predictions for each user and save them to a df"
   ]
  },
  {
   "cell_type": "code",
   "execution_count": 167,
   "metadata": {},
   "outputs": [],
   "source": [
    "bucketid_userid_dict_data = {\"group_userid\":train_bucketid_useridlist_dict}\n",
    "\n",
    "group_file = args.data_dir+\"group_userid.json\"\n",
    "\n",
    "with open(group_file, \"w\") as f:\n",
    "    json.dump(bucketid_userid_dict_data, f)"
   ]
  },
  {
   "cell_type": "code",
   "execution_count": 168,
   "metadata": {},
   "outputs": [],
   "source": [
    "bucketid_userid_dict_data = None\n",
    "group_file = args.data_dir+\"group_userid.json\"\n",
    "with open(group_file, \"r\") as f:\n",
    "    bucketid_userid_dict_data = json.load(f)\n",
    "bucketid_userid_dict = bucketid_userid_dict_data[\"group_userid\"]"
   ]
  },
  {
   "cell_type": "code",
   "execution_count": 121,
   "metadata": {},
   "outputs": [],
   "source": [
    "# bucketid_userid_dict"
   ]
  },
  {
   "cell_type": "code",
   "execution_count": 125,
   "metadata": {},
   "outputs": [],
   "source": [
    "# bucketid_userid_dict[\"1\"]"
   ]
  },
  {
   "cell_type": "code",
   "execution_count": null,
   "metadata": {},
   "outputs": [],
   "source": []
  },
  {
   "cell_type": "markdown",
   "metadata": {},
   "source": [
    "### save predictions to dataframe"
   ]
  },
  {
   "cell_type": "code",
   "execution_count": 169,
   "metadata": {},
   "outputs": [],
   "source": [
    "def save_pred_df(eval_data):\n",
    "    network.eval()\n",
    "\n",
    "    losses = []\n",
    "    recalls = []\n",
    "    mrrs = []\n",
    "    weights = []\n",
    "\n",
    "    dataloader = eval_data\n",
    "    topk = 20\n",
    "    \n",
    "    user_recall_dict = {}\n",
    "    user_ndcg_dict = {}\n",
    "    \n",
    "    data_list = []\n",
    "    \n",
    "    batch_idx = 0\n",
    "    \n",
    "    with torch.no_grad():\n",
    "        total_test_num = []\n",
    "        \n",
    "        for user_batch, item_batch, mask_item_batch, itemnum_batch in eval_data:\n",
    "            \n",
    "            user_batch_gpu = user_batch.to(device)\n",
    "            loss = 0.0\n",
    "\n",
    "            logits = network.f_eval_forward(user_batch_gpu)\n",
    "                \n",
    "            scores = logits.cpu()\n",
    "            scores.scatter_(1, mask_item_batch, float(\"-inf\"))\n",
    "            scores[:, 0] = float(\"-inf\")\n",
    "            \n",
    "            scores = torch.sigmoid(scores)\n",
    "            \n",
    "#             scores, preds = torch.topk(preds, topk, -1)\n",
    "            \n",
    "            targets = item_batch\n",
    "        \n",
    "            batch_size = scores.size(0)\n",
    "            \n",
    "            for idx in range(batch_size):\n",
    "                score_i = list(scores[idx].numpy())\n",
    "                target_i = targets[idx].numpy()\n",
    "                \n",
    "                itemnum_i = itemnum_batch[idx].item()\n",
    "                target_i = list(target_i)[:itemnum_i]\n",
    "                \n",
    "                score_i = scores[i].cpu().numpy()\n",
    "                pred_num_i = len(score_i)\n",
    "                \n",
    "                user_i = user_batch[idx].item()\n",
    "                \n",
    "                for j in range(pred_num_i):\n",
    "                    ### \"uid\", \"iid\", \"score\", \"label\"\n",
    "                    sub_data_ij = []\n",
    "                    sub_data_ij.append(user_i)\n",
    "                    \n",
    "                    item_ij = j\n",
    "                    sub_data_ij.append(item_ij)\n",
    "                    \n",
    "                    score_ij = score_i[j]\n",
    "                    sub_data_ij.append(score_ij)\n",
    "                    \n",
    "                    if item_ij in target_i:\n",
    "                        sub_data_ij.append(1)\n",
    "                    else:\n",
    "                        sub_data_ij.append(0)\n",
    "                        \n",
    "                    data_list.append(sub_data_ij)\n",
    "                    \n",
    "    pred_df = pd.DataFrame(data_list)\n",
    "    pred_df.columns = [\"uid\", \"iid\", \"score\", \"label\"]\n",
    "    \n",
    "    return pred_df"
   ]
  },
  {
   "cell_type": "code",
   "execution_count": 170,
   "metadata": {},
   "outputs": [],
   "source": [
    "pred_df = save_pred_df(test_data)"
   ]
  },
  {
   "cell_type": "code",
   "execution_count": 171,
   "metadata": {},
   "outputs": [
    {
     "data": {
      "text/html": [
       "<div>\n",
       "<style scoped>\n",
       "    .dataframe tbody tr th:only-of-type {\n",
       "        vertical-align: middle;\n",
       "    }\n",
       "\n",
       "    .dataframe tbody tr th {\n",
       "        vertical-align: top;\n",
       "    }\n",
       "\n",
       "    .dataframe thead th {\n",
       "        text-align: right;\n",
       "    }\n",
       "</style>\n",
       "<table border=\"1\" class=\"dataframe\">\n",
       "  <thead>\n",
       "    <tr style=\"text-align: right;\">\n",
       "      <th></th>\n",
       "      <th>uid</th>\n",
       "      <th>iid</th>\n",
       "      <th>score</th>\n",
       "      <th>label</th>\n",
       "    </tr>\n",
       "  </thead>\n",
       "  <tbody>\n",
       "    <tr>\n",
       "      <th>0</th>\n",
       "      <td>1967</td>\n",
       "      <td>0</td>\n",
       "      <td>0.000000</td>\n",
       "      <td>0</td>\n",
       "    </tr>\n",
       "    <tr>\n",
       "      <th>1</th>\n",
       "      <td>1967</td>\n",
       "      <td>1</td>\n",
       "      <td>0.058896</td>\n",
       "      <td>0</td>\n",
       "    </tr>\n",
       "    <tr>\n",
       "      <th>2</th>\n",
       "      <td>1967</td>\n",
       "      <td>2</td>\n",
       "      <td>0.008438</td>\n",
       "      <td>0</td>\n",
       "    </tr>\n",
       "    <tr>\n",
       "      <th>3</th>\n",
       "      <td>1967</td>\n",
       "      <td>3</td>\n",
       "      <td>0.011441</td>\n",
       "      <td>0</td>\n",
       "    </tr>\n",
       "    <tr>\n",
       "      <th>4</th>\n",
       "      <td>1967</td>\n",
       "      <td>4</td>\n",
       "      <td>0.000000</td>\n",
       "      <td>0</td>\n",
       "    </tr>\n",
       "  </tbody>\n",
       "</table>\n",
       "</div>"
      ],
      "text/plain": [
       "    uid  iid     score  label\n",
       "0  1967    0  0.000000      0\n",
       "1  1967    1  0.058896      0\n",
       "2  1967    2  0.008438      0\n",
       "3  1967    3  0.011441      0\n",
       "4  1967    4  0.000000      0"
      ]
     },
     "execution_count": 171,
     "metadata": {},
     "output_type": "execute_result"
    }
   ],
   "source": [
    "pred_df.head()"
   ]
  },
  {
   "cell_type": "code",
   "execution_count": 172,
   "metadata": {},
   "outputs": [],
   "source": [
    "pred_file = args.data_dir+\"pred.pickle\"\n",
    "pred_df.to_pickle(pred_file)"
   ]
  },
  {
   "cell_type": "code",
   "execution_count": 139,
   "metadata": {},
   "outputs": [
    {
     "name": "stdout",
     "output_type": "stream",
     "text": [
      "data_dir ../data/ml-1m\n"
     ]
    }
   ],
   "source": [
    "print(\"data_dir\", args.data_dir)"
   ]
  },
  {
   "cell_type": "code",
   "execution_count": 141,
   "metadata": {},
   "outputs": [],
   "source": [
    "pred_label_list = pred_df.label.tolist()"
   ]
  },
  {
   "cell_type": "code",
   "execution_count": 151,
   "metadata": {},
   "outputs": [
    {
     "data": {
      "text/plain": [
       "5"
      ]
     },
     "execution_count": 151,
     "metadata": {},
     "output_type": "execute_result"
    }
   ],
   "source": [
    "sum(pred_df[pred_df.uid==6].label.tolist())"
   ]
  },
  {
   "cell_type": "code",
   "execution_count": null,
   "metadata": {},
   "outputs": [],
   "source": []
  },
  {
   "cell_type": "code",
   "execution_count": 155,
   "metadata": {},
   "outputs": [],
   "source": [
    "import numpy as np\n",
    "from collections import Counter\n",
    "import matplotlib.pyplot as plt\n",
    "import seaborn as sns"
   ]
  },
  {
   "cell_type": "markdown",
   "metadata": {},
   "source": [
    "### @20"
   ]
  },
  {
   "cell_type": "code",
   "execution_count": 113,
   "metadata": {},
   "outputs": [
    {
     "data": {
      "image/png": "[encoded data removed]",
      "text/plain": [
       "<Figure size 720x576 with 1 Axes>"
      ]
     },
     "metadata": {
      "needs_background": "light"
     },
     "output_type": "display_data"
    }
   ],
   "source": [
    "\n",
    "plt.rcParams['figure.figsize'] = 10, 8\n",
    "plt.rcParams['font.size'] = 20\n",
    "\n",
    "# cdf = 1.0*np.arange(len(y))/(len(y)-1)\n",
    "# plt.plot(y, cdf, linewidth=3)\n",
    "# plt.plot(103, 0.8, \"o\", label=\"(100, 0.8)\", markersize=8)\n",
    "# plt.ylabel(\"cumulative distribution of user num\")\n",
    "# plt.xlabel(\"number of interactions per user\")\n",
    "\n",
    "\n",
    "x = [i for i in range(1, len(bucket_recall_dict)+1)]\n",
    "recall_list = [bucket_recall_dict[i] for i in range(1, len(bucket_recall_dict)+1)]\n",
    "plt.bar(x, recall_list)\n",
    "plt.xlabel(\"bucket index based on item frequencies in descending order\")\n",
    "plt.ylabel(\"recall@20\")\n",
    "plt.title(\"BPR on ml-1m\")\n",
    "\n",
    "plt.yticks(fontsize=20)\n",
    "plt.xticks(fontsize=20)\n",
    "# plt.legend(loc=\"right\")\n",
    "plt.show()\n",
    "\n",
    "plt.show()"
   ]
  },
  {
   "cell_type": "markdown",
   "metadata": {},
   "source": [
    "### calibrated"
   ]
  },
  {
   "cell_type": "code",
   "execution_count": null,
   "metadata": {},
   "outputs": [],
   "source": [
    "from scipy import stats\n",
    "import math"
   ]
  },
  {
   "cell_type": "code",
   "execution_count": 166,
   "metadata": {},
   "outputs": [
    {
     "name": "stdout",
     "output_type": "stream",
     "text": [
      "item num 2811\n",
      "user num 5950\n"
     ]
    }
   ],
   "source": [
    "item_num = vocab_obj.item_num\n",
    "print(\"item num\", item_num)\n",
    "\n",
    "user_num = vocab_obj.user_num\n",
    "print(\"user num\", user_num)"
   ]
  },
  {
   "cell_type": "code",
   "execution_count": 170,
   "metadata": {},
   "outputs": [
    {
     "name": "stdout",
     "output_type": "stream",
     "text": [
      "item num 2811\n"
     ]
    }
   ],
   "source": [
    "print(\"item num\", len(train_item_freq_list))"
   ]
  },
  {
   "cell_type": "code",
   "execution_count": 168,
   "metadata": {},
   "outputs": [
    {
     "name": "stdout",
     "output_type": "stream",
     "text": [
      "item pop size torch.Size([2811])\n"
     ]
    }
   ],
   "source": [
    "train_item_freq_list = [train_item_freq_dict[i] if i in train_item_freq_dict else 0.0 for i in range(item_num)]\n",
    "item_pop = torch.from_numpy(np.array(train_item_freq_list)).to(device)\n",
    "item_pop = item_pop+1e-20\n",
    "print(\"item pop size\", item_pop.size())"
   ]
  },
  {
   "cell_type": "code",
   "execution_count": 509,
   "metadata": {},
   "outputs": [],
   "source": [
    "beta = 0.2\n",
    "def compensation(logits):\n",
    "    logits = logits*beta+(1-beta)\n",
    "    \n",
    "    com_logits = logits/item_pop.unsqueeze(0)\n",
    "    \n",
    "    return com_logits"
   ]
  },
  {
   "cell_type": "code",
   "execution_count": 510,
   "metadata": {},
   "outputs": [],
   "source": [
    "alpha = 1.4\n",
    "def compensated_score(logits, mask_item):\n",
    "    com_logits = compensation(logits)\n",
    "    \n",
    "    com_logits[:, 0] = 0\n",
    "    \n",
    "    logits.scatter_(1, mask_item, 0.0)\n",
    "    com_logits.scatter_(1, mask_item, 0.0)\n",
    "    \n",
    "    true_mask = (mask_item != 0).float()\n",
    "    true_num_mask = torch.sum(true_mask, dim=-1, keepdim=True)\n",
    "    mask_item_num = item_num-1-true_num_mask\n",
    "    \n",
    "    n_u = torch.norm(logits/mask_item_num, dim=-1, keepdim=True)\n",
    "    m_u = torch.norm(com_logits/mask_item_num, dim=-1, keepdim=True)\n",
    "    \n",
    "#     print(\"logits\", logits)\n",
    "#     print(\"com_logits\", com_logits)\n",
    "    \n",
    "#     print(\"n_u\", n_u)\n",
    "#     print(\"m_u\", m_u)\n",
    "    \n",
    "    tmp = alpha*com_logits*n_u/m_u\n",
    "    score = logits+tmp\n",
    "    \n",
    "    return score"
   ]
  },
  {
   "cell_type": "code",
   "execution_count": 511,
   "metadata": {},
   "outputs": [
    {
     "data": {
      "text/plain": [
       "2811"
      ]
     },
     "execution_count": 511,
     "metadata": {},
     "output_type": "execute_result"
    }
   ],
   "source": [
    "item_num"
   ]
  },
  {
   "cell_type": "markdown",
   "metadata": {},
   "source": [
    "### user side"
   ]
  },
  {
   "cell_type": "code",
   "execution_count": 512,
   "metadata": {},
   "outputs": [],
   "source": [
    "def compensated_bias_eval(eval_data, itemid_bucketid_dict):\n",
    "    network.eval()\n",
    "\n",
    "    losses = []\n",
    "    recalls = []\n",
    "    mrrs = []\n",
    "    weights = []\n",
    "\n",
    "    dataloader = eval_data\n",
    "    topk = 20\n",
    "    \n",
    "    item_recall_dict = {}\n",
    "    item_mrr_dict = {}\n",
    "\n",
    "    iter_index = 0\n",
    "    \n",
    "    pru_list = []\n",
    "  \n",
    "    ### user: [item_rank]\n",
    "    user_itemrank_dict = {}\n",
    "    user_itempop_dict = {}\n",
    "    \n",
    "    with torch.no_grad():\n",
    "        total_test_num = []\n",
    "\n",
    "        for user_batch, item_batch, mask_item_batch, itemnum_batch in eval_data:\n",
    "            \n",
    "            user_batch_gpu = user_batch.to(device)\n",
    "            mask_item_batch_gpu = mask_item_batch.to(device)\n",
    "            \n",
    "            loss = 0.0\n",
    "\n",
    "            logits = network.f_eval_forward(user_batch_gpu)\n",
    "            \n",
    "            compensated_logits = compensated_score(logits, mask_item_batch_gpu)\n",
    "            \n",
    "            preds = compensated_logits.cpu()\n",
    "            preds.scatter_(1, mask_item_batch, float(\"-inf\"))\n",
    "            preds[:, 0] = float(\"-inf\")\n",
    "            \n",
    "            _, rank = torch.topk(preds, item_num, -1)\n",
    "            \n",
    "            _, topk_preds = torch.topk(preds, topk, -1)\n",
    "            \n",
    "\n",
    "            targets = item_batch\n",
    "        \n",
    "            batch_size = topk_preds.size(0)\n",
    "        \n",
    "            for i in range(batch_size):\n",
    "                target_rank_i = []\n",
    "                target_pop_i = []\n",
    "                \n",
    "                user_i = user_batch[i].item()\n",
    "                \n",
    "                rank_i = list(rank[i].numpy())\n",
    "                topk_pred_i = list(topk_preds[i].numpy())\n",
    "                target_i = targets[i].numpy()\n",
    "                \n",
    "                itemnum_i = itemnum_batch[i].item()\n",
    "                \n",
    "                target_i = list(target_i)[:itemnum_i]\n",
    "                \n",
    "                for j in range(itemnum_i):\n",
    "                    target_ij = target_i[j]\n",
    "                    \n",
    "                    target_pop_ij = train_item_freq_dict[target_ij]\n",
    "                    target_pop_i.append(target_pop_ij)\n",
    "                    \n",
    "                    target_rank_ij = rank_i.index(target_ij)\n",
    "                    target_rank_i.append(target_rank_ij)\n",
    "                    \n",
    "                user_itemrank_dict[user_i] = target_rank_i\n",
    "                user_itempop_dict[user_i] = target_pop_i\n",
    "\n",
    "    return user_itemrank_dict, user_itempop_dict"
   ]
  },
  {
   "cell_type": "code",
   "execution_count": 513,
   "metadata": {},
   "outputs": [],
   "source": [
    "test_user_itemrank_dict, test_user_itempop_dict = compensated_bias_eval(test_data, train_itemid_bucketid_dict)"
   ]
  },
  {
   "cell_type": "code",
   "execution_count": 514,
   "metadata": {},
   "outputs": [
    {
     "name": "stdout",
     "output_type": "stream",
     "text": [
      "user num 5949 PRU:0.3638\n"
     ]
    }
   ],
   "source": [
    "### pru\n",
    "\n",
    "pru_list = []\n",
    "for user in test_user_itemrank_dict:\n",
    "    user_itemrank_i = test_user_itemrank_dict[user]\n",
    "    user_itempop_i = test_user_itempop_dict[user]\n",
    "    pru_i = 1.0\n",
    "    if len(user_itemrank_i) > 1:\n",
    "        pru_i = stats.spearmanr(user_itempop_i, user_itemrank_i)[0]\n",
    "    pru_list.append(pru_i)\n",
    "pru = np.mean(pru_list)\n",
    "pru = -pru\n",
    "print(\"user num\", len(pru_list), \"PRU:%.4f\"%pru)"
   ]
  },
  {
   "cell_type": "code",
   "execution_count": null,
   "metadata": {},
   "outputs": [],
   "source": []
  },
  {
   "cell_type": "code",
   "execution_count": 515,
   "metadata": {},
   "outputs": [],
   "source": [
    "def compensated_bias_eval(eval_data, itemid_bucketid_dict):\n",
    "    network.eval()\n",
    "\n",
    "    losses = []\n",
    "    recalls = []\n",
    "    mrrs = []\n",
    "    weights = []\n",
    "\n",
    "    dataloader = eval_data\n",
    "    topk = 20\n",
    "    \n",
    "\n",
    "    iter_index = 0\n",
    "    \n",
    "    recall_list = []\n",
    "    \n",
    "    with torch.no_grad():\n",
    "        total_test_num = []\n",
    "\n",
    "        for user_batch, item_batch, mask_item_batch, itemnum_batch in eval_data:\n",
    "            \n",
    "            user_batch_gpu = user_batch.to(device)\n",
    "            mask_item_batch_gpu = mask_item_batch.to(device)\n",
    "            \n",
    "            loss = 0.0\n",
    "\n",
    "            logits = network.f_eval_forward(user_batch_gpu)\n",
    "            \n",
    "            compensated_logits = compensated_score(logits, mask_item_batch_gpu)\n",
    "            \n",
    "            preds = compensated_logits.cpu()\n",
    "            preds.scatter_(1, mask_item_batch, float(\"-inf\"))\n",
    "            preds[:, 0] = float(\"-inf\")\n",
    "                        \n",
    "            _, topk_preds = torch.topk(preds, topk, -1)\n",
    "            \n",
    "            targets = item_batch\n",
    "        \n",
    "            batch_size = topk_preds.size(0)\n",
    "        \n",
    "            for i in range(batch_size):\n",
    "                target_rank_i = []\n",
    "                target_pop_i = []\n",
    "                \n",
    "                user_i = user_batch[i].item()\n",
    "                \n",
    "                topk_pred_i = list(topk_preds[i].numpy())\n",
    "                target_i = targets[i].numpy()\n",
    "                \n",
    "                itemnum_i = itemnum_batch[i].item()\n",
    "                \n",
    "                target_i = list(target_i)[:itemnum_i]\n",
    "                \n",
    "                correctnum_i = 0\n",
    "                \n",
    "                for j in range(itemnum_i):\n",
    "                    target_ij = target_i[j]\n",
    "                    \n",
    "                    if target_ij in topk_pred_i:\n",
    "                        correctnum_i += 1.0\n",
    "                    \n",
    "                recall_i = correctnum_i/itemnum_i\n",
    "                recall_list.append(recall_i)\n",
    "                    \n",
    "    return recall_list"
   ]
  },
  {
   "cell_type": "code",
   "execution_count": 516,
   "metadata": {},
   "outputs": [],
   "source": [
    "recall_list = compensated_bias_eval(test_data, train_itemid_bucketid_dict)"
   ]
  },
  {
   "cell_type": "code",
   "execution_count": 517,
   "metadata": {},
   "outputs": [
    {
     "name": "stdout",
     "output_type": "stream",
     "text": [
      "recall: 0.2079 5949\n"
     ]
    }
   ],
   "source": [
    "mean_recall = np.mean(recall_list)\n",
    "print(\"recall: %.4f\"%mean_recall, len(recall_list))"
   ]
  },
  {
   "cell_type": "code",
   "execution_count": null,
   "metadata": {},
   "outputs": [],
   "source": []
  },
  {
   "cell_type": "markdown",
   "metadata": {},
   "source": [
    "### item side"
   ]
  },
  {
   "cell_type": "code",
   "execution_count": 518,
   "metadata": {},
   "outputs": [],
   "source": [
    "def compensated_bias_eval(eval_data, itemid_bucketid_dict):\n",
    "    network.eval()\n",
    "\n",
    "    losses = []\n",
    "    recalls = []\n",
    "    mrrs = []\n",
    "    weights = []\n",
    "\n",
    "    dataloader = eval_data\n",
    "    topk = 20\n",
    "    \n",
    "    item_recall_dict = {}\n",
    "    item_mrr_dict = {}\n",
    "#     # ### load \n",
    "    # item_freq_dict = {}\n",
    "\n",
    "    iter_index = 0\n",
    "    \n",
    "    ## {item: rank}\n",
    "    item_rank_dict = {}\n",
    "\n",
    "    with torch.no_grad():\n",
    "        total_test_num = []\n",
    "\n",
    "        for user_batch, item_batch, mask_item_batch, itemnum_batch in eval_data:\n",
    "            \n",
    "            user_batch_gpu = user_batch.to(device)\n",
    "            mask_item_batch_gpu = mask_item_batch.to(device)\n",
    "            \n",
    "            loss = 0.0\n",
    "\n",
    "            logits = network.f_eval_forward(user_batch_gpu)\n",
    "            \n",
    "            compensated_logits = compensated_score(logits, mask_item_batch_gpu)\n",
    "            \n",
    "            preds = compensated_logits.cpu()\n",
    "            preds.scatter_(1, mask_item_batch, float(\"-inf\"))\n",
    "            preds[:, 0] = float(\"-inf\")\n",
    "            \n",
    "            _, rank = torch.topk(preds, item_num, -1)\n",
    "                        \n",
    "#             if iter_index > 1:\n",
    "#                 break\n",
    "#             iter_index += 1\n",
    "                \n",
    "            targets = item_batch\n",
    "        \n",
    "            batch_size = preds.size(0)\n",
    "        \n",
    "            for i in range(batch_size):\n",
    "               \n",
    "                rank_i = list(rank[i].numpy())\n",
    "                target_i = targets[i].numpy()\n",
    "                \n",
    "                itemnum_i = itemnum_batch[i].item()\n",
    "                \n",
    "                target_i = list(target_i)[:itemnum_i]\n",
    "                \n",
    "                for j in range(itemnum_i):\n",
    "                    target_ij = target_i[j]\n",
    "                \n",
    "                    target_rank_ij = rank_i.index(target_ij)\n",
    "                    \n",
    "                    if target_ij not in item_rank_dict:\n",
    "                        item_rank_dict[target_ij] = []\n",
    "                    item_rank_dict[target_ij].append(target_rank_ij)\n",
    "        \n",
    "    return item_rank_dict "
   ]
  },
  {
   "cell_type": "code",
   "execution_count": 519,
   "metadata": {},
   "outputs": [],
   "source": [
    "test_item_rank_dict = compensated_bias_eval(test_data, train_itemid_bucketid_dict)"
   ]
  },
  {
   "cell_type": "code",
   "execution_count": 520,
   "metadata": {},
   "outputs": [
    {
     "name": "stdout",
     "output_type": "stream",
     "text": [
      "pri: 0.7238\n"
     ]
    }
   ],
   "source": [
    "### get pri\n",
    "item_pop_list_pri = []\n",
    "item_rank_list_pri = []\n",
    "for item in test_item_rank_dict:\n",
    "    item_avgrank_i = np.mean(test_item_rank_dict[item])\n",
    "    item_rank_list_pri.append(item_avgrank_i)\n",
    "    \n",
    "    item_pop_i = train_item_freq_dict[item]\n",
    "    item_pop_list_pri.append(item_pop_i)\n",
    "    \n",
    "pri = stats.spearmanr(item_pop_list_pri, item_rank_list_pri)[0]\n",
    "pri = -pri\n",
    "print(\"pri: %.4f\"%pri)"
   ]
  },
  {
   "cell_type": "code",
   "execution_count": null,
   "metadata": {},
   "outputs": [],
   "source": []
  },
  {
   "cell_type": "code",
   "execution_count": 475,
   "metadata": {},
   "outputs": [],
   "source": [
    "### item recall"
   ]
  },
  {
   "cell_type": "code",
   "execution_count": 521,
   "metadata": {},
   "outputs": [],
   "source": [
    "def compensated_bias_eval(eval_data, itemid_bucketid_dict):\n",
    "    network.eval()\n",
    "\n",
    "    losses = []\n",
    "    recalls = []\n",
    "    mrrs = []\n",
    "    weights = []\n",
    "\n",
    "    dataloader = eval_data\n",
    "    topk = 20\n",
    "    \n",
    "    item_recall_dict = {}\n",
    "    item_mrr_dict = {}\n",
    "#     # ### load \n",
    "    # item_freq_dict = {}\n",
    "\n",
    "    iter_index = 0\n",
    "    \n",
    "    with torch.no_grad():\n",
    "        total_test_num = []\n",
    "\n",
    "        for user_batch, item_batch, mask_item_batch, itemnum_batch in eval_data:\n",
    "            \n",
    "            user_batch_gpu = user_batch.to(device)\n",
    "            mask_item_batch_gpu = mask_item_batch.to(device)\n",
    "            \n",
    "            loss = 0.0\n",
    "\n",
    "            logits = network.f_eval_forward(user_batch_gpu)\n",
    "            \n",
    "            compensated_logits = compensated_score(logits, mask_item_batch_gpu)\n",
    "            \n",
    "            preds = compensated_logits.cpu()\n",
    "            preds.scatter_(1, mask_item_batch, float(\"-inf\"))\n",
    "            preds[:, 0] = float(\"-inf\")\n",
    "                        \n",
    "            _, topk_preds = torch.topk(preds, topk, -1)\n",
    "                \n",
    "            targets = item_batch\n",
    "        \n",
    "            batch_size = topk_preds.size(0)\n",
    "        \n",
    "            for i in range(batch_size):\n",
    "               \n",
    "                topk_pred_i = list(topk_preds[i].numpy())\n",
    "                target_i = targets[i].numpy()\n",
    "                \n",
    "                itemnum_i = itemnum_batch[i].item()\n",
    "                \n",
    "                target_i = list(target_i)[:itemnum_i]\n",
    "                \n",
    "                for j in range(itemnum_i):\n",
    "                    target_ij = target_i[j]\n",
    "                    \n",
    "                    if target_ij not in item_recall_dict:\n",
    "                        item_recall_dict[target_ij] = []\n",
    "                    \n",
    "                    if target_ij in topk_pred_i:\n",
    "                        item_recall_dict[target_ij].append(1.0)\n",
    "                    else:\n",
    "                        item_recall_dict[target_ij].append(0.0)\n",
    "                    \n",
    "    \n",
    "    return item_recall_dict"
   ]
  },
  {
   "cell_type": "code",
   "execution_count": 522,
   "metadata": {},
   "outputs": [],
   "source": [
    "test_item_recall_dict = compensated_bias_eval(test_data, train_itemid_bucketid_dict)"
   ]
  },
  {
   "cell_type": "code",
   "execution_count": 523,
   "metadata": {},
   "outputs": [],
   "source": [
    "total_recall_list = []\n",
    "bucket_recall_dict = {}\n",
    "bucket_size_dict = {}\n",
    "for item in test_item_recall_dict:\n",
    "    bucketid = train_itemid_bucketid_dict[item]\n",
    "    item_recall = np.mean(test_item_recall_dict[item])\n",
    "    \n",
    "#     item_recall = item_recall[0]*1.0/item_recall[1]\n",
    "    if bucketid not in bucket_recall_dict:\n",
    "        bucket_recall_dict[bucketid] = []\n",
    "        \n",
    "    bucket_recall_dict[bucketid].append(item_recall)\n",
    "    total_recall_list.append(item_recall)\n",
    "\n",
    "for bucket in bucket_recall_dict:\n",
    "    bucket_recall_list = bucket_recall_dict[bucket]\n",
    "    bucket_size_dict[bucket] = len(bucket_recall_list)\n",
    "    mean_recall = np.mean(bucket_recall_list)\n",
    "    bucket_recall_dict[bucket] = mean_recall\n"
   ]
  },
  {
   "cell_type": "code",
   "execution_count": 524,
   "metadata": {},
   "outputs": [
    {
     "name": "stdout",
     "output_type": "stream",
     "text": [
      "recall\n",
      "1:0.0595:1689, 2:0.0491:441, 3:0.0859:248, 4:0.1348:161, 5:0.2064:105, 6:0.3772:57, \n",
      "mean recall: 0.0771 2701\n"
     ]
    }
   ],
   "source": [
    "print(\"recall\")\n",
    "for i in range(1, len(bucket_recall_dict)+1):\n",
    "    print(\"%d:%.4f:%d\"%(i, bucket_recall_dict[i], bucket_size_dict[i]), end=\", \")\n",
    "print()\n",
    "print(\"mean recall: %.4f\"%np.mean(total_recall_list), len(total_recall_list))"
   ]
  },
  {
   "cell_type": "code",
   "execution_count": 526,
   "metadata": {},
   "outputs": [
    {
     "data": {
      "image/png": "[encoded data removed]",
      "text/plain": [
       "<Figure size 576x432 with 1 Axes>"
      ]
     },
     "metadata": {
      "needs_background": "light"
     },
     "output_type": "display_data"
    }
   ],
   "source": [
    "plt.rcParams['figure.figsize'] = 8, 6\n",
    "plt.rcParams['font.size'] = 20\n",
    "\n",
    "x = [i for i in range(1, len(bucket_recall_dict)+1)]\n",
    "recall_list = [bucket_recall_dict[i] for i in range(1, len(bucket_recall_dict)+1)]\n",
    "plt.bar(x, recall_list)\n",
    "plt.ylim([0, 0.40])\n",
    "plt.xlabel(\"bucket index based on item frequencies in descending order\")\n",
    "plt.ylabel(\"recall@20\")\n",
    "plt.title(\"BPR on ml-1m\")\n",
    "\n",
    "plt.yticks(fontsize=20)\n",
    "plt.xticks(fontsize=20)\n",
    "# plt.legend(loc=\"right\")\n",
    "plt.show()\n",
    "\n",
    "plt.show()"
   ]
  },
  {
   "cell_type": "code",
   "execution_count": null,
   "metadata": {},
   "outputs": [],
   "source": []
  },
  {
   "cell_type": "code",
   "execution_count": null,
   "metadata": {},
   "outputs": [],
   "source": []
  },
  {
   "cell_type": "code",
   "execution_count": null,
   "metadata": {},
   "outputs": [],
   "source": []
  },
  {
   "cell_type": "code",
   "execution_count": 318,
   "metadata": {},
   "outputs": [],
   "source": [
    "def compensated_bias_eval(eval_data, itemid_bucketid_dict):\n",
    "    network.eval()\n",
    "\n",
    "    losses = []\n",
    "    recalls = []\n",
    "    mrrs = []\n",
    "    weights = []\n",
    "\n",
    "    dataloader = eval_data\n",
    "    topk = 20\n",
    "    \n",
    "    item_recall_dict = {}\n",
    "    item_mrr_dict = {}\n",
    "#     # ### load \n",
    "    # item_freq_dict = {}\n",
    "\n",
    "    iter_index = 0\n",
    "    \n",
    "    pru_list = []\n",
    "    pri_list = []\n",
    "    \n",
    "    ## {item: rank}\n",
    "    item_rank_dict = {}\n",
    "    user_itemrank_dict = {}\n",
    "    user_itempop_dict = {}\n",
    "    \n",
    "    with torch.no_grad():\n",
    "        total_test_num = []\n",
    "\n",
    "        for user_batch, item_batch, mask_item_batch, itemnum_batch in eval_data:\n",
    "            \n",
    "            user_batch_gpu = user_batch.to(device)\n",
    "            mask_item_batch_gpu = mask_item_batch.to(device)\n",
    "            \n",
    "            loss = 0.0\n",
    "\n",
    "            logits = network.f_eval_forward(user_batch_gpu)\n",
    "            \n",
    "            compensated_logits = compensated_score(logits, mask_item_batch_gpu)\n",
    "            \n",
    "            preds = compensated_logits.cpu()\n",
    "            preds.scatter_(1, mask_item_batch, float(\"-inf\"))\n",
    "            preds[:, 0] = float(\"-inf\")\n",
    "            \n",
    "            _, rank = torch.topk(preds, item_num, -1)\n",
    "            \n",
    "            _, topk_preds = torch.topk(preds, topk, -1)\n",
    "            \n",
    "#             if iter_index > 1:\n",
    "#                 break\n",
    "#             iter_index += 1\n",
    "                \n",
    "            targets = item_batch\n",
    "        \n",
    "            batch_size = topk_preds.size(0)\n",
    "        \n",
    "            for i in range(batch_size):\n",
    "                target_rank_i = []\n",
    "                target_pop_i = []\n",
    "                \n",
    "                rank_i = list(rank[i].numpy())\n",
    "                topk_pred_i = list(topk_preds[i].numpy())\n",
    "                target_i = targets[i].numpy()\n",
    "                \n",
    "                itemnum_i = itemnum_batch[i].item()\n",
    "                \n",
    "                target_i = list(target_i)[:itemnum_i]\n",
    "                \n",
    "                for j in range(itemnum_i):\n",
    "                    target_ij = target_i[j]\n",
    "                    \n",
    "                    target_pop_ij = train_item_freq_dict[target_ij]\n",
    "                    target_pop_i.append(target_pop_ij)\n",
    "                    \n",
    "                    target_rank_ij = rank_i.index(target_ij)\n",
    "                    target_rank_i.append(target_rank_ij)\n",
    "                    \n",
    "                    if target_ij not in item_recall_dict:\n",
    "                        item_recall_dict[target_ij] = []\n",
    "                    \n",
    "                    if target_ij in topk_pred_i:\n",
    "                        item_recall_dict[target_ij].append(1.0)\n",
    "                    else:\n",
    "                        item_recall_dict[target_ij].append(0.0)\n",
    "                    \n",
    "                    if target_ij not in item_rank_dict:\n",
    "                        item_rank_dict[target_ij] = []\n",
    "                    item_rank_dict[target_ij].append(target_rank_ij)\n",
    "                \n",
    "                pru_i = 1.0\n",
    "                if len(target_pop_i) > 1:\n",
    "                    pru_i = stats.spearmanr(target_pop_i, target_rank_i)[0]\n",
    "#                 \n",
    "                if math.isnan(pru_i):\n",
    "                    print(\"==\"*10)\n",
    "                    print(\"pru\", pru_i)\n",
    "                    print(\"target_pop_i\", target_pop_i)\n",
    "                    print(\"target_rank_i\", target_rank_i)\n",
    "                pru_list.append(pru_i)\n",
    "    \n",
    "    mean_pru = -np.mean(pru_list)\n",
    "    print(\"pru\", mean_pru, len(pru_list))\n",
    "    \n",
    "    return item_recall_dict, item_mrr_dict, item_rank_dict "
   ]
  },
  {
   "cell_type": "code",
   "execution_count": 319,
   "metadata": {},
   "outputs": [
    {
     "name": "stdout",
     "output_type": "stream",
     "text": [
      "pru 0.555028849285561 5949\n"
     ]
    }
   ],
   "source": [
    "test_item_recall_dict, test_item_mrr_dict, test_item_rank_dict = compensated_bias_eval(test_data, train_itemid_bucketid_dict)"
   ]
  },
  {
   "cell_type": "code",
   "execution_count": 322,
   "metadata": {},
   "outputs": [
    {
     "name": "stdout",
     "output_type": "stream",
     "text": [
      "pri 0.9295396010459206\n"
     ]
    }
   ],
   "source": [
    "### get pri\n",
    "item_pop_list_pri = []\n",
    "item_rank_list_pri = []\n",
    "for item in test_item_rank_dict:\n",
    "    item_avgrank_i = np.mean(test_item_rank_dict[item])\n",
    "    item_rank_list_pri.append(item_avgrank_i)\n",
    "    \n",
    "    item_pop_i = train_item_freq_dict[item]\n",
    "    item_pop_list_pri.append(item_pop_i)\n",
    "    \n",
    "pri = stats.spearmanr(item_pop_list_pri, item_rank_list_pri)[0]\n",
    "pri = -pri\n",
    "print(\"pri\", pri)"
   ]
  },
  {
   "cell_type": "code",
   "execution_count": null,
   "metadata": {},
   "outputs": [],
   "source": []
  },
  {
   "cell_type": "code",
   "execution_count": null,
   "metadata": {},
   "outputs": [],
   "source": []
  },
  {
   "cell_type": "code",
   "execution_count": 316,
   "metadata": {},
   "outputs": [],
   "source": [
    "total_recall_list = []\n",
    "bucket_recall_dict = {}\n",
    "bucket_size_dict = {}\n",
    "for item in test_item_recall_dict:\n",
    "    bucketid = train_itemid_bucketid_dict[item]\n",
    "    item_recall = np.mean(test_item_recall_dict[item])\n",
    "    \n",
    "#     item_recall = item_recall[0]*1.0/item_recall[1]\n",
    "    if bucketid not in bucket_recall_dict:\n",
    "        bucket_recall_dict[bucketid] = []\n",
    "        \n",
    "    bucket_recall_dict[bucketid].append(item_recall)\n",
    "    total_recall_list.append(item_recall)\n",
    "\n",
    "for bucket in bucket_recall_dict:\n",
    "    bucket_recall_list = bucket_recall_dict[bucket]\n",
    "    bucket_size_dict[bucket] = len(bucket_recall_list)\n",
    "    mean_recall = np.mean(bucket_recall_list)\n",
    "    bucket_recall_dict[bucket] = mean_recall\n"
   ]
  },
  {
   "cell_type": "code",
   "execution_count": 309,
   "metadata": {},
   "outputs": [
    {
     "name": "stdout",
     "output_type": "stream",
     "text": [
      "recall\n",
      "1:0.0089:1689, 2:0.0539:441, 3:0.1208:248, 4:0.1890:161, 5:0.2836:105, 6:0.4767:57, \n",
      "mean recall: 0.1963 59807\n"
     ]
    }
   ],
   "source": [
    "print(\"recall\")\n",
    "for i in range(1, len(bucket_recall_dict)+1):\n",
    "    print(\"%d:%.4f:%d\"%(i, bucket_recall_dict[i], bucket_size_dict[i]), end=\", \")\n",
    "print()\n",
    "print(\"mean recall: %.4f\"%np.mean(total_recall_list), len(total_recall_list))"
   ]
  },
  {
   "cell_type": "code",
   "execution_count": 317,
   "metadata": {},
   "outputs": [
    {
     "name": "stdout",
     "output_type": "stream",
     "text": [
      "recall\n",
      "1:0.0165:1689, 2:0.0519:441, 3:0.1186:248, 4:0.1866:161, 5:0.2830:105, 6:0.4769:57, \n",
      "mean recall: 0.0619 2701\n"
     ]
    }
   ],
   "source": [
    "print(\"recall\")\n",
    "for i in range(1, len(bucket_recall_dict)+1):\n",
    "    print(\"%d:%.4f:%d\"%(i, bucket_recall_dict[i], bucket_size_dict[i]), end=\", \")\n",
    "print()\n",
    "print(\"mean recall: %.4f\"%np.mean(total_recall_list), len(total_recall_list))"
   ]
  },
  {
   "cell_type": "code",
   "execution_count": 314,
   "metadata": {},
   "outputs": [
    {
     "name": "stdout",
     "output_type": "stream",
     "text": [
      "recall\n",
      "1:0.0165:1689, 2:0.0519:441, 3:0.1186:248, 4:0.1866:161, 5:0.2830:105, 6:0.4769:57, \n",
      "mean recall: 0.1956 59807\n"
     ]
    }
   ],
   "source": [
    "print(\"recall\")\n",
    "for i in range(1, len(bucket_recall_dict)+1):\n",
    "    print(\"%d:%.4f:%d\"%(i, bucket_recall_dict[i], bucket_size_dict[i]), end=\", \")\n",
    "print()\n",
    "print(\"mean recall: %.4f\"%np.mean(total_recall_list), len(total_recall_list))"
   ]
  },
  {
   "cell_type": "code",
   "execution_count": null,
   "metadata": {},
   "outputs": [],
   "source": []
  },
  {
   "cell_type": "markdown",
   "metadata": {},
   "source": [
    "### 1:0.0089, 2:0.0539, 3:0.1208, 4:0.1890, 5:0.2836, 6:0.4767, "
   ]
  },
  {
   "cell_type": "code",
   "execution_count": 181,
   "metadata": {},
   "outputs": [
    {
     "data": {
      "image/png": "[encoded data removed]",
      "text/plain": [
       "<Figure size 720x576 with 1 Axes>"
      ]
     },
     "metadata": {
      "needs_background": "light"
     },
     "output_type": "display_data"
    }
   ],
   "source": [
    "plt.rcParams['figure.figsize'] = 10, 8\n",
    "plt.rcParams['font.size'] = 20\n",
    "\n",
    "x = [i for i in range(1, len(bucket_recall_dict)+1)]\n",
    "recall_list = [bucket_recall_dict[i] for i in range(1, len(bucket_recall_dict)+1)]\n",
    "plt.bar(x, recall_list)\n",
    "plt.xlabel(\"bucket index based on item frequencies in descending order\")\n",
    "plt.ylabel(\"recall@20\")\n",
    "plt.title(\"debiased BPR on ml-1m\")\n",
    "\n",
    "plt.yticks(fontsize=20)\n",
    "plt.xticks(fontsize=20)\n",
    "# plt.legend(loc=\"right\")\n",
    "plt.show()\n",
    "\n",
    "plt.show()"
   ]
  },
  {
   "cell_type": "code",
   "execution_count": null,
   "metadata": {},
   "outputs": [],
   "source": []
  }
 ],
 "metadata": {
  "kernelspec": {
   "display_name": "Python 3.7.3 64-bit ('base': conda)",
   "language": "python",
   "name": "python373jvsc74a57bd0e70594835ae53df67bc577581264898391cfe6ee129c5a938a29ed85fef08a92"
  },
  "language_info": {
   "codemirror_mode": {
    "name": "ipython",
    "version": 3
   },
   "file_extension": ".py",
   "mimetype": "text/x-python",
   "name": "python",
   "nbconvert_exporter": "python",
   "pygments_lexer": "ipython3",
   "version": "3.7.3"
  },
  "metadata": {
   "interpreter": {
    "hash": "e70594835ae53df67bc577581264898391cfe6ee129c5a938a29ed85fef08a92"
   }
  }
 },
 "nbformat": 4,
 "nbformat_minor": 2
}

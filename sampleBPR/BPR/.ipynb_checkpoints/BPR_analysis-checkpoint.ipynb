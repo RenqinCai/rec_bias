{
 "cells": [
  {
   "cell_type": "code",
   "execution_count": 1,
   "id": "massive-italy",
   "metadata": {},
   "outputs": [],
   "source": [
    "from datetime import datetime\n",
    "import numpy as np\n",
    "import torch\n",
    "import random\n",
    "import torch.nn as nn\n",
    "\n",
    "import pickle\n",
    "import argparse\n",
    "from data import DATA\n",
    "import json\n",
    "import os\n",
    "from optimizer import OPTIM\n",
    "from logger import LOGGER\n",
    "from collections import Counter\n",
    "\n",
    "import time\n",
    "from train import TRAINER\n",
    "from model import MF\n",
    "from eval import EVAL\n",
    "from metric import get_recall, get_NDCG\n",
    "import matplotlib.pyplot as plt\n",
    "import torch.nn.functional as F\n",
    "import pandas as pd\n"
   ]
  },
  {
   "cell_type": "code",
   "execution_count": 4,
   "id": "quantitative-mathematics",
   "metadata": {},
   "outputs": [],
   "source": [
    "parser = argparse.ArgumentParser()\n",
    "\n",
    "### data\n",
    "parser.add_argument('--data_dir', type=str, default='data')\n",
    "parser.add_argument('--data_name', type=str, default='movielens')\n",
    "parser.add_argument('--data_file', type=str, default='data.pickle')\n",
    "\n",
    "parser.add_argument('--vocab_file', type=str, default='vocab.json')\n",
    "parser.add_argument('--model_file', type=str, default=\"model_best.pt\")\n",
    "parser.add_argument('--model_name', type=str, default=\"BPR\")\n",
    "parser.add_argument('--model_path', type=str, default=\"/home/tiger/renqin/src/checkpoint/\")\n",
    "\n",
    "### model\n",
    "parser.add_argument('--user_emb_size', type=int, default=300)\n",
    "parser.add_argument('--item_emb_size', type=int, default=300)\n",
    "\n",
    "parser.add_argument('--output_hidden_size', type=int, default=300)\n",
    "\n",
    "### train\n",
    "parser.add_argument('--batch_size', type=int, default=128)\n",
    "parser.add_argument('--optimizer', type=str, default='Adam')\n",
    "parser.add_argument('--weight_decay', type=float, default=0.0)\n",
    "parser.add_argument('--l2_reg', type=float, default=0.0)\n",
    "\n",
    "parser.add_argument('--learning_rate', type=float, default=0.0001)\n",
    "parser.add_argument('--momentum', type=float, default=0.99)\n",
    "parser.add_argument('--epoch_num', type=int, default=10)\n",
    "parser.add_argument('--print_interval', type=int, default=200)\n",
    "parser.add_argument('--hcdmg1', action=\"store_true\", default=False)\n",
    "\n",
    "### hyper-param\n",
    "# parser.add_argument('--init_mult', type=float, default=1.0)\n",
    "# parser.add_argument('--variance', type=float, default=0.995)\n",
    "# parser.add_argument('--max_seq_length', type=int, default=100)\n",
    "\n",
    "### others\n",
    "parser.add_argument('--train', action='store_true', default=False)\n",
    "parser.add_argument('--test', action='store_true', default=False)\n",
    "parser.add_argument('--eval', action='store_true', default=False)\n",
    "parser.add_argument('--parallel', action=\"store_true\", default=False)\n",
    "parser.add_argument('--local_rank', type=int, default=0)\n",
    "\n",
    "args = parser.parse_args([])\n"
   ]
  },
  {
   "cell_type": "code",
   "execution_count": 15,
   "id": "intermediate-ebony",
   "metadata": {},
   "outputs": [],
   "source": [
    "args.data_dir = \"/home/tiger/renqin/data/0123\"\n",
    "args.data_name = \"tiktok\"\n",
    "args.model_file = \"tiktok_MF/model_best_3_26_4_6.pt\"\n",
    "args.vocab_file = \"vocab.json\"\n",
    "args.epoch_num = 50\n",
    "args.batch_size = 32\n",
    "args.learning_rate = 0.0001\n",
    "args.user_emb_size = 64\n",
    "args.item_emb_size = 64\n",
    "args.weight_decay = 0.0\n",
    "# args.embed_size = 512"
   ]
  },
  {
   "cell_type": "code",
   "execution_count": 16,
   "id": "fitting-monkey",
   "metadata": {},
   "outputs": [],
   "source": [
    "def set_seed(seed):\n",
    "    random.seed(seed)\n",
    "    np.random.seed(seed)\n",
    "    torch.manual_seed(seed)\n",
    "    torch.backends.cudnn.deterministic = True\n",
    "    torch.backends.cudnn.benchmark = False"
   ]
  },
  {
   "cell_type": "code",
   "execution_count": 17,
   "id": "rational-walker",
   "metadata": {},
   "outputs": [
    {
     "name": "stdout",
     "output_type": "stream",
     "text": [
      "device cuda\n"
     ]
    }
   ],
   "source": [
    "ts = time.strftime('%Y-%b-%d-%H:%M:%S', time.gmtime())\n",
    "seed = 1234\n",
    "set_seed(seed)\n",
    "\n",
    "device = torch.device('cuda' if torch.cuda.is_available() else 'cpu')\n",
    "print('device', device)"
   ]
  },
  {
   "cell_type": "code",
   "execution_count": 18,
   "id": "fabulous-numbers",
   "metadata": {},
   "outputs": [
    {
     "name": "stdout",
     "output_type": "stream",
     "text": [
      "data\n",
      "data_name tiktok\n",
      "train user num 52690\n",
      "train item num 55152\n",
      "sample num 2396782\n",
      "batch num 74899\n",
      "... load train data ... 52690 52690\n",
      "sample num 299131\n",
      "batch num 9347\n",
      "unique_user_num 52690\n",
      "user num unique in df 52690\n",
      "... load train data ... 52690 52690\n",
      "sample num 326421\n",
      "batch num 10200\n",
      "unique_user_num 52690\n",
      "user num unique in df 52690\n",
      "... load train data ... 52690 52690\n"
     ]
    }
   ],
   "source": [
    "\n",
    "data_obj = DATA()\n",
    "\n",
    "if \"movie\" in args.data_name:\n",
    "    print(\"data_name\", args.data_name)\n",
    "    train_data, valid_data, test_data, vocab_obj = data_obj.f_load_movie(args)\n",
    "    \n",
    "if \"tiktok\" in args.data_name:\n",
    "    print(\"data_name\", args.data_name)\n",
    "    train_data, valid_data, test_data, vocab_obj = data_obj.f_load_tiktok(args)"
   ]
  },
  {
   "cell_type": "code",
   "execution_count": 19,
   "id": "leading-plymouth",
   "metadata": {},
   "outputs": [
    {
     "name": "stdout",
     "output_type": "stream",
     "text": [
      "user num 52691\n",
      "item num 55153\n"
     ]
    }
   ],
   "source": [
    "\n",
    "# print(\"vocab_size\", vocab_obj.vocab_size)\n",
    "print(\"user num\", vocab_obj.user_num)\n",
    "print(\"item num\", vocab_obj.item_num)\n",
    "\n",
    "network = MF(vocab_obj, args, device)"
   ]
  },
  {
   "cell_type": "code",
   "execution_count": 20,
   "id": "everyday-portal",
   "metadata": {},
   "outputs": [
    {
     "name": "stdout",
     "output_type": "stream",
     "text": [
      "m_user_embed.weight \t 3372224\n",
      "m_item_embed.weight \t 3529792\n",
      "total parameters num 6902016\n"
     ]
    }
   ],
   "source": [
    "total_param_num = 0\n",
    "for name, param in network.named_parameters():\n",
    "    if param.requires_grad:\n",
    "        param_num = param.numel()\n",
    "        total_param_num += param_num\n",
    "        print(name, \"\\t\", param_num)\n",
    "\n",
    "print(\"total parameters num\", total_param_num)"
   ]
  },
  {
   "cell_type": "code",
   "execution_count": 21,
   "id": "vertical-string",
   "metadata": {},
   "outputs": [],
   "source": [
    "eval_obj = EVAL(vocab_obj, args, device)\n",
    "network = network.to(device)"
   ]
  },
  {
   "cell_type": "code",
   "execution_count": 22,
   "id": "responsible-symphony",
   "metadata": {},
   "outputs": [],
   "source": [
    "def f_init_eval(network, model_file=None, reload_model=False):\n",
    "    if reload_model:\n",
    "        print(\"reload model\")\n",
    "        if not model_file:\n",
    "            model_file = \"model_best.pt\"\n",
    "        model_name = os.path.join(model_path, model_file)\n",
    "        print(\"model name\", model_name)\n",
    "        check_point = torch.load(model_name)\n",
    "        network.load_state_dict(check_point['model'])\n",
    "\n",
    "    return network"
   ]
  },
  {
   "cell_type": "code",
   "execution_count": 23,
   "id": "municipal-calvin",
   "metadata": {},
   "outputs": [
    {
     "name": "stdout",
     "output_type": "stream",
     "text": [
      "model_path /home/tiger/renqin/src/checkpoint/ tiktok_MF/model_best_3_26_4_6.pt\n",
      "reload model\n",
      "model name /home/tiger/renqin/src/checkpoint/tiktok_MF/model_best_3_26_4_6.pt\n"
     ]
    }
   ],
   "source": [
    "model_path = args.model_path\n",
    "print(\"model_path\", model_path, args.model_file)\n",
    "network = f_init_eval(network, model_file=args.model_file, reload_model=True)"
   ]
  },
  {
   "cell_type": "code",
   "execution_count": 28,
   "id": "focal-southeast",
   "metadata": {},
   "outputs": [],
   "source": [
    "def f_eval_new(eval_data):\n",
    "\n",
    "    recall_list = []\n",
    "    ndcg_list = []\n",
    "    \n",
    "    print('--'*10)\n",
    "\n",
    "    topk = 20\n",
    "    network.eval()\n",
    "    with torch.no_grad():\n",
    "\n",
    "        for user_batch, item_batch, mask_item_batch, \\\n",
    "            itemnum_batch in eval_data:\n",
    "\n",
    "            user_batch_gpu = user_batch.to(device)\n",
    "        \n",
    "            loss = 0.0\n",
    "\n",
    "            logits = network.f_eval_forward(user_batch_gpu)\n",
    "\n",
    "            recall = get_recall(logits.cpu(), item_batch, mask_item_batch, itemnum_batch, k=topk)\n",
    "\n",
    "            ndcg = get_NDCG(logits.cpu(), item_batch, mask_item_batch, itemnum_batch, k=topk)\n",
    "\n",
    "\n",
    "            recall_list.append(recall)\n",
    "\n",
    "            ndcg_list.append(ndcg)\n",
    "\n",
    "    mean_recall = np.mean(recall_list)\n",
    "    print(\"recall@%d:%.4f\"%(topk, mean_recall))\n",
    "    mean_ndcg = np.mean(ndcg_list)\n",
    "    print(\"ndcg@%d:%.4f\"%(topk, mean_ndcg))"
   ]
  },
  {
   "cell_type": "code",
   "execution_count": 29,
   "id": "cooked-medline",
   "metadata": {},
   "outputs": [
    {
     "name": "stdout",
     "output_type": "stream",
     "text": [
      "--------------------\n",
      "recall@20:0.0732\n",
      "ndcg@20:0.1131\n"
     ]
    }
   ],
   "source": [
    "f_eval_new(valid_data)"
   ]
  },
  {
   "cell_type": "code",
   "execution_count": null,
   "id": "organic-blowing",
   "metadata": {},
   "outputs": [],
   "source": [
    "### get age group for users"
   ]
  },
  {
   "cell_type": "code",
   "execution_count": null,
   "id": "hindu-kingdom",
   "metadata": {},
   "outputs": [],
   "source": []
  },
  {
   "cell_type": "markdown",
   "id": "uniform-enforcement",
   "metadata": {},
   "source": [
    "### load data"
   ]
  },
  {
   "cell_type": "code",
   "execution_count": 30,
   "id": "minimal-giant",
   "metadata": {},
   "outputs": [],
   "source": [
    "train_data_file = args.data_dir+\"/train_data.pickle\"\n",
    "valid_data_file = args.data_dir+\"/valid_data.pickle\"\n",
    "test_data_file = args.data_dir+\"/test_data.pickle\"\n",
    "\n",
    "train_df = pd.read_pickle(train_data_file)\n",
    "# train_df = train_df[[\"userid\", \"itemid\"]]\n",
    "# train_df.columns = [\"userid\", \"itemid\"]\n",
    "\n",
    "valid_df = pd.read_pickle(valid_data_file)\n",
    "# valid_df = valid_df[[\"userid\", \"itemid\"]]\n",
    "# valid_df.columns = [\"userid\", \"itemid\"]\n",
    "\n",
    "test_df = pd.read_pickle(test_data_file)\n",
    "# test_df = test_df[[\"userid\", \"itemid\"]]\n",
    "# test_df.columns = [\"userid\", \"itemid\"]\n"
   ]
  },
  {
   "cell_type": "code",
   "execution_count": 31,
   "id": "suspended-romania",
   "metadata": {},
   "outputs": [
    {
     "data": {
      "text/html": [
       "<div>\n",
       "<style scoped>\n",
       "    .dataframe tbody tr th:only-of-type {\n",
       "        vertical-align: middle;\n",
       "    }\n",
       "\n",
       "    .dataframe tbody tr th {\n",
       "        vertical-align: top;\n",
       "    }\n",
       "\n",
       "    .dataframe thead th {\n",
       "        text-align: right;\n",
       "    }\n",
       "</style>\n",
       "<table border=\"1\" class=\"dataframe\">\n",
       "  <thead>\n",
       "    <tr style=\"text-align: right;\">\n",
       "      <th></th>\n",
       "      <th>userid</th>\n",
       "      <th>itemid</th>\n",
       "      <th>age_group</th>\n",
       "    </tr>\n",
       "  </thead>\n",
       "  <tbody>\n",
       "    <tr>\n",
       "      <th>0</th>\n",
       "      <td>1</td>\n",
       "      <td>3</td>\n",
       "      <td>{1}</td>\n",
       "    </tr>\n",
       "    <tr>\n",
       "      <th>1</th>\n",
       "      <td>1</td>\n",
       "      <td>45</td>\n",
       "      <td>{1}</td>\n",
       "    </tr>\n",
       "    <tr>\n",
       "      <th>2</th>\n",
       "      <td>1</td>\n",
       "      <td>54</td>\n",
       "      <td>{1}</td>\n",
       "    </tr>\n",
       "    <tr>\n",
       "      <th>3</th>\n",
       "      <td>1</td>\n",
       "      <td>51</td>\n",
       "      <td>{1}</td>\n",
       "    </tr>\n",
       "    <tr>\n",
       "      <th>4</th>\n",
       "      <td>1</td>\n",
       "      <td>56</td>\n",
       "      <td>{1}</td>\n",
       "    </tr>\n",
       "  </tbody>\n",
       "</table>\n",
       "</div>"
      ],
      "text/plain": [
       "   userid  itemid age_group\n",
       "0       1       3       {1}\n",
       "1       1      45       {1}\n",
       "2       1      54       {1}\n",
       "3       1      51       {1}\n",
       "4       1      56       {1}"
      ]
     },
     "execution_count": 31,
     "metadata": {},
     "output_type": "execute_result"
    }
   ],
   "source": [
    "train_df.head()"
   ]
  },
  {
   "cell_type": "code",
   "execution_count": 32,
   "id": "sorted-principal",
   "metadata": {},
   "outputs": [],
   "source": [
    "user_agegroup_dict = train_df.groupby('userid').age_group.apply(list)\n",
    "user_agegroup_dict = dict(user_agegroup_dict)"
   ]
  },
  {
   "cell_type": "code",
   "execution_count": 33,
   "id": "ranking-meaning",
   "metadata": {},
   "outputs": [],
   "source": [
    "train_sample_num = len(train_df)\n",
    "train_userid_itemidlist_dict = train_df.groupby(\"userid\").itemid.apply(list)\n",
    "train_userid_itemidlist_dict = dict(train_userid_itemidlist_dict)\n",
    "train_userid_list = train_userid_itemidlist_dict.keys()\n",
    "train_userid_list = list(train_userid_list)\n",
    "train_unique_usernum = len(train_userid_list)"
   ]
  },
  {
   "cell_type": "code",
   "execution_count": 34,
   "id": "included-munich",
   "metadata": {},
   "outputs": [],
   "source": [
    "\n",
    "agegroup_actionnum_dict = {}\n",
    "agegroup_usernum_dict = {}\n",
    "for idx in range(train_unique_usernum):\n",
    "    userid_i = train_userid_list[idx]\n",
    "    itemidlist = train_userid_itemidlist_dict[userid_i]\n",
    "    \n",
    "    age_i = list(user_agegroup_dict[userid_i][0])[0]\n",
    "    if age_i not in agegroup_actionnum_dict:\n",
    "        agegroup_actionnum_dict[age_i] = 0.0\n",
    "    agegroup_actionnum_dict[age_i] += len(itemidlist)\n",
    "    \n",
    "    if age_i not in agegroup_usernum_dict:\n",
    "        agegroup_usernum_dict[age_i] = 0.0\n",
    "    agegroup_usernum_dict[age_i] += 1.0"
   ]
  },
  {
   "cell_type": "code",
   "execution_count": null,
   "id": "flush-theater",
   "metadata": {},
   "outputs": [],
   "source": []
  },
  {
   "cell_type": "code",
   "execution_count": 35,
   "id": "cubic-hours",
   "metadata": {},
   "outputs": [
    {
     "name": "stdout",
     "output_type": "stream",
     "text": [
      "agegroup:-1 action num:244520.0 user num:6267.0 avg action num:39.0171\n",
      "agegroup:0 action num:1387.0 user num:28.0 avg action num:49.5357\n",
      "agegroup:1 action num:810847.0 user num:15615.0 avg action num:51.9274\n",
      "agegroup:2 action num:165675.0 user num:3184.0 avg action num:52.0336\n",
      "agegroup:3 action num:558629.0 user num:11881.0 avg action num:47.0187\n",
      "agegroup:4 action num:423459.0 user num:10701.0 avg action num:39.5719\n",
      "agegroup:5 action num:192265.0 user num:5014.0 avg action num:38.3456\n"
     ]
    }
   ],
   "source": [
    "agegrouplist = agegroup_actionnum_dict.keys()\n",
    "agegrouplist = list(agegrouplist)\n",
    "sorted_agegrouplist = sorted(agegrouplist)\n",
    "for age in sorted_agegrouplist:\n",
    "    agegroup_actionnum_i = agegroup_actionnum_dict[age]\n",
    "    agegroup_usernum_i = agegroup_usernum_dict[age]\n",
    "    avgactionnum_i = agegroup_actionnum_i*1.0/agegroup_usernum_i\n",
    "    print(\"agegroup:%d\"%age, \"action num:%.1f\"%agegroup_actionnum_i, \"user num:%.1f\"%agegroup_usernum_i, \"avg action num:%.4f\"%avgactionnum_i)"
   ]
  },
  {
   "cell_type": "code",
   "execution_count": null,
   "id": "present-merit",
   "metadata": {},
   "outputs": [],
   "source": []
  },
  {
   "cell_type": "code",
   "execution_count": null,
   "id": "fatty-underground",
   "metadata": {},
   "outputs": [],
   "source": []
  },
  {
   "cell_type": "code",
   "execution_count": null,
   "id": "structural-basket",
   "metadata": {},
   "outputs": [],
   "source": []
  },
  {
   "cell_type": "code",
   "execution_count": 39,
   "id": "identified-violation",
   "metadata": {},
   "outputs": [],
   "source": [
    "def f_group_eval_new(eval_data):\n",
    "\n",
    "    recall_list = []\n",
    "    ndcg_list = []\n",
    "    \n",
    "    agegroup_recall_dict = {}\n",
    "    agegroup_ndcg_dict = {}\n",
    "    \n",
    "    print('--'*10)\n",
    "\n",
    "    topk = 20\n",
    "    network.eval()\n",
    "    with torch.no_grad():\n",
    "\n",
    "        for user_batch, item_batch, mask_item_batch, \\\n",
    "            itemnum_batch in eval_data:\n",
    "\n",
    "            user_batch_gpu = user_batch.to(device)\n",
    "                # item_batch_gpu = item_batch.to(self.m_device)\n",
    "                # mask_item_batch_gpu = mask_item_batch.to(self.m_device)\n",
    "\n",
    "            loss = 0.0\n",
    "\n",
    "            logits = network.f_eval_forward(user_batch_gpu)\n",
    "\n",
    "            recall = get_recall(logits.cpu(), item_batch, mask_item_batch, itemnum_batch, k=topk)\n",
    "\n",
    "            ndcg = get_NDCG(logits.cpu(), item_batch, mask_item_batch, itemnum_batch, k=topk)\n",
    "\n",
    "            recall_list.append(recall)\n",
    "\n",
    "            ndcg_list.append(ndcg)\n",
    "            \n",
    "            preds = logits.cpu()\n",
    "            preds.scatter_(1, mask_item_batch, float(\"-inf\"))\n",
    "            preds[:, 0] = float(\"-inf\")\n",
    "            \n",
    "            _, preds = torch.topk(preds, topk, -1)\n",
    "            \n",
    "            targets = item_batch\n",
    "        \n",
    "            batch_size = preds.size(0)\n",
    "            for idx in range(batch_size):\n",
    "                pred_i = list(preds[idx].numpy())\n",
    "                target_i = targets[idx].numpy()\n",
    "                \n",
    "                itemnum_i = itemnum_batch[idx].item()\n",
    "                \n",
    "                target_i = list(target_i)[:itemnum_i]\n",
    "                \n",
    "                user_i = user_batch[idx].item()\n",
    "                agegroup_i = list(user_agegroup_dict[user_i][0])[0]\n",
    "                \n",
    "                true_pos_i = set(target_i) & set(pred_i)\n",
    "                true_posnum_i = len(true_pos_i)\n",
    "                \n",
    "                recall_i = true_posnum_i/itemnum_i\n",
    "                recall_list.append(recall_i)\n",
    "                \n",
    "                if agegroup_i not in agegroup_recall_dict:\n",
    "                    agegroup_recall_dict[agegroup_i] = []\n",
    "                agegroup_recall_dict[agegroup_i].append(recall_i)\n",
    "                \n",
    "                dcg_i = 0\n",
    "                for j in range(true_posnum_i):\n",
    "                    dcg_i += 1/np.log2(j+2)\n",
    "\n",
    "                idcg_i = 0\n",
    "                if itemnum_i > topk:\n",
    "                    itemnum_i = topk\n",
    "\n",
    "                for j in range(itemnum_i):\n",
    "                    idcg_i += 1/np.log2(j+2)\n",
    "\n",
    "                ndcg_i = dcg_i/idcg_i\n",
    "                ndcg_list.append(ndcg_i)\n",
    "                \n",
    "                if agegroup_i not in agegroup_ndcg_dict:\n",
    "                    agegroup_ndcg_dict[agegroup_i] = []\n",
    "                agegroup_ndcg_dict[agegroup_i].append(ndcg_i)\n",
    "\n",
    "    mean_recall = np.mean(recall_list)\n",
    "    print(\"recall@%d:%.4f\"%(topk, mean_recall))\n",
    "    mean_ndcg = np.mean(ndcg_list)\n",
    "    print(\"ndcg@%d:%.4f\"%(topk, mean_ndcg))\n",
    "    \n",
    "    return agegroup_recall_dict, agegroup_ndcg_dict"
   ]
  },
  {
   "cell_type": "code",
   "execution_count": 40,
   "id": "expected-comparative",
   "metadata": {},
   "outputs": [
    {
     "name": "stdout",
     "output_type": "stream",
     "text": [
      "--------------------\n",
      "recall@20:0.0732\n",
      "ndcg@20:0.1131\n"
     ]
    }
   ],
   "source": [
    "valid_agegroup_recall_dict, valid_agegroup_ndcg_dict = f_group_eval_new(valid_data)"
   ]
  },
  {
   "cell_type": "code",
   "execution_count": 42,
   "id": "descending-approval",
   "metadata": {},
   "outputs": [],
   "source": [
    "agegrouplist = valid_agegroup_recall_dict.keys()\n",
    "agegrouplist = list(agegrouplist)\n",
    "sorted_agegrouplist = sorted(agegrouplist)"
   ]
  },
  {
   "cell_type": "code",
   "execution_count": 43,
   "id": "coated-residence",
   "metadata": {},
   "outputs": [
    {
     "name": "stdout",
     "output_type": "stream",
     "text": [
      "-1 :0.0854\n",
      "0 :0.0907\n",
      "1 :0.0647\n",
      "2 :0.0784\n",
      "3 :0.0688\n",
      "4 :0.0802\n",
      "5 :0.0766\n"
     ]
    }
   ],
   "source": [
    "agegroup_mean_recall_dict = {}\n",
    "for age in sorted_agegrouplist:\n",
    "    agegroup_mean_recall = np.mean(valid_agegroup_recall_dict[age])\n",
    "    print(age, \":%.4f\"%agegroup_mean_recall)\n",
    "    agegroup_mean_recall_dict[age] = agegroup_mean_recall"
   ]
  },
  {
   "cell_type": "code",
   "execution_count": 47,
   "id": "demonstrated-header",
   "metadata": {},
   "outputs": [
    {
     "name": "stderr",
     "output_type": "stream",
     "text": [
      "/home/tiger/.local/lib/python3.7/site-packages/ipykernel_launcher.py:14: UserWarning: FixedFormatter should only be used together with FixedLocator\n",
      "  \n"
     ]
    },
    {
     "data": {
      "image/png": "[encoded data removed]",
      "text/plain": [
       "<Figure size 720x576 with 1 Axes>"
      ]
     },
     "metadata": {
      "needs_background": "light"
     },
     "output_type": "display_data"
    }
   ],
   "source": [
    "plt.rcParams['figure.figsize'] = 10, 8\n",
    "plt.rcParams['font.size'] = 20\n",
    "\n",
    "fig, ax = plt.subplots()\n",
    "\n",
    "\n",
    "x = [i for i in range(len(agegrouplist))]\n",
    "recall_list = [agegroup_mean_recall_dict[sorted_agegrouplist[i]] for i in range(len(agegrouplist))]\n",
    "plt.bar(x, recall_list)\n",
    "plt.xlabel(\"age group\")\n",
    "plt.ylabel(\"recall@20\")\n",
    "plt.title(\"BPR on tiktok\")\n",
    "\n",
    "ax.set_xticklabels([\"\", \"unk\", \"small\", \"15-\", \"15-17\", \"18-24\", \"25-34\", \"35+\"])\n",
    "plt.yticks(fontsize=20)\n",
    "plt.xticks(fontsize=20)\n",
    "# plt.legend(loc=\"right\")\n",
    "plt.show()\n",
    "\n",
    "plt.show()"
   ]
  },
  {
   "cell_type": "code",
   "execution_count": 48,
   "id": "statutory-springfield",
   "metadata": {},
   "outputs": [
    {
     "name": "stdout",
     "output_type": "stream",
     "text": [
      "-1 :0.1261\n",
      "0 :0.1422\n",
      "1 :0.1048\n",
      "2 :0.1232\n",
      "3 :0.1084\n",
      "4 :0.1193\n",
      "5 :0.1142\n"
     ]
    }
   ],
   "source": [
    "agegroup_mean_ndcg_dict = {}\n",
    "for age in sorted_agegrouplist:\n",
    "    agegroup_mean_ndcg = np.mean(valid_agegroup_ndcg_dict[age])\n",
    "    print(age, \":%.4f\"%agegroup_mean_ndcg)\n",
    "    agegroup_mean_ndcg_dict[age] = agegroup_mean_ndcg"
   ]
  },
  {
   "cell_type": "code",
   "execution_count": 49,
   "id": "remarkable-colombia",
   "metadata": {},
   "outputs": [
    {
     "name": "stderr",
     "output_type": "stream",
     "text": [
      "/home/tiger/.local/lib/python3.7/site-packages/ipykernel_launcher.py:14: UserWarning: FixedFormatter should only be used together with FixedLocator\n",
      "  \n"
     ]
    },
    {
     "data": {
      "image/png": "[encoded data removed]",
      "text/plain": [
       "<Figure size 720x576 with 1 Axes>"
      ]
     },
     "metadata": {
      "needs_background": "light"
     },
     "output_type": "display_data"
    }
   ],
   "source": [
    "plt.rcParams['figure.figsize'] = 10, 8\n",
    "plt.rcParams['font.size'] = 20\n",
    "\n",
    "fig, ax = plt.subplots()\n",
    "\n",
    "\n",
    "x = [i for i in range(len(agegrouplist))]\n",
    "recall_list = [agegroup_mean_ndcg_dict[sorted_agegrouplist[i]] for i in range(len(agegrouplist))]\n",
    "plt.bar(x, recall_list)\n",
    "plt.xlabel(\"age group\")\n",
    "plt.ylabel(\"ndcg@20\")\n",
    "plt.title(\"BPR on tiktok\")\n",
    "\n",
    "ax.set_xticklabels([\"\", \"unk\", \"small\", \"15-\", \"15-17\", \"18-24\", \"25-34\", \"35+\"])\n",
    "plt.yticks(fontsize=20)\n",
    "plt.xticks(fontsize=20)\n",
    "# plt.legend(loc=\"right\")\n",
    "plt.show()\n",
    "\n",
    "plt.show()"
   ]
  },
  {
   "cell_type": "code",
   "execution_count": null,
   "id": "apparent-difference",
   "metadata": {},
   "outputs": [],
   "source": []
  },
  {
   "cell_type": "markdown",
   "id": "ultimate-malpractice",
   "metadata": {},
   "source": [
    "### popularity based groups"
   ]
  },
  {
   "cell_type": "code",
   "execution_count": 50,
   "id": "signed-brick",
   "metadata": {},
   "outputs": [
    {
     "data": {
      "text/html": [
       "<div>\n",
       "<style scoped>\n",
       "    .dataframe tbody tr th:only-of-type {\n",
       "        vertical-align: middle;\n",
       "    }\n",
       "\n",
       "    .dataframe tbody tr th {\n",
       "        vertical-align: top;\n",
       "    }\n",
       "\n",
       "    .dataframe thead th {\n",
       "        text-align: right;\n",
       "    }\n",
       "</style>\n",
       "<table border=\"1\" class=\"dataframe\">\n",
       "  <thead>\n",
       "    <tr style=\"text-align: right;\">\n",
       "      <th></th>\n",
       "      <th>userid</th>\n",
       "      <th>itemid</th>\n",
       "      <th>age_group</th>\n",
       "    </tr>\n",
       "  </thead>\n",
       "  <tbody>\n",
       "    <tr>\n",
       "      <th>0</th>\n",
       "      <td>1</td>\n",
       "      <td>3</td>\n",
       "      <td>{1}</td>\n",
       "    </tr>\n",
       "    <tr>\n",
       "      <th>1</th>\n",
       "      <td>1</td>\n",
       "      <td>45</td>\n",
       "      <td>{1}</td>\n",
       "    </tr>\n",
       "    <tr>\n",
       "      <th>2</th>\n",
       "      <td>1</td>\n",
       "      <td>54</td>\n",
       "      <td>{1}</td>\n",
       "    </tr>\n",
       "    <tr>\n",
       "      <th>3</th>\n",
       "      <td>1</td>\n",
       "      <td>51</td>\n",
       "      <td>{1}</td>\n",
       "    </tr>\n",
       "    <tr>\n",
       "      <th>4</th>\n",
       "      <td>1</td>\n",
       "      <td>56</td>\n",
       "      <td>{1}</td>\n",
       "    </tr>\n",
       "  </tbody>\n",
       "</table>\n",
       "</div>"
      ],
      "text/plain": [
       "   userid  itemid age_group\n",
       "0       1       3       {1}\n",
       "1       1      45       {1}\n",
       "2       1      54       {1}\n",
       "3       1      51       {1}\n",
       "4       1      56       {1}"
      ]
     },
     "execution_count": 50,
     "metadata": {},
     "output_type": "execute_result"
    }
   ],
   "source": [
    "train_df.head()"
   ]
  },
  {
   "cell_type": "code",
   "execution_count": 52,
   "id": "warming-wisdom",
   "metadata": {},
   "outputs": [],
   "source": [
    "itemid_itemfreq_dict = dict(train_df.itemid.value_counts())"
   ]
  },
  {
   "cell_type": "code",
   "execution_count": 54,
   "id": "empirical-syracuse",
   "metadata": {},
   "outputs": [],
   "source": [
    "# itemid_itemfreq_dict"
   ]
  },
  {
   "cell_type": "code",
   "execution_count": 60,
   "id": "sustainable-algebra",
   "metadata": {},
   "outputs": [
    {
     "name": "stdout",
     "output_type": "stream",
     "text": [
      "item num 55152\n",
      "min freq: 8, max freq: 2360\n",
      "cumsum_y [      8      16      24 ... 2392261 2394422 2396782]\n"
     ]
    },
    {
     "data": {
      "image/png": "[encoded data removed]",
      "text/plain": [
       "<Figure size 720x576 with 1 Axes>"
      ]
     },
     "metadata": {
      "needs_background": "light"
     },
     "output_type": "display_data"
    }
   ],
   "source": [
    "def visualize_item_freq(data):\n",
    "    item_freq_dict = dict(data.itemid.value_counts())\n",
    "    item_num = len(item_freq_dict)\n",
    "    print(\"item num\", item_num)\n",
    "    freq_list = list(item_freq_dict.values())\n",
    "    print(\"min freq: %d, max freq: %d\"%(min(freq_list), max(freq_list)))\n",
    "    \n",
    "    x = [i for i in range(item_num)]\n",
    "    y = sorted(freq_list)\n",
    "    cumsum_y = np.cumsum(y)\n",
    "    print(\"cumsum_y\", cumsum_y)\n",
    "    \n",
    "    p = 1.0*np.arange(len(y))/(len(y)-1)\n",
    "    \n",
    "    for i in range(item_num):\n",
    "        p_i = p[i]\n",
    "        y_i = y[i]\n",
    "        cumsum_y_i = cumsum_y[i]\n",
    "        \n",
    "#     plt.xticks([i for i in range(0, 2400, 400)])\n",
    "    plt.xlim([0, 800])\n",
    "    plt.plot(y, p)\n",
    "    \n",
    "    plt.show()\n",
    "\n",
    "visualize_item_freq(train_df)"
   ]
  },
  {
   "cell_type": "code",
   "execution_count": 62,
   "id": "sudden-arctic",
   "metadata": {},
   "outputs": [
    {
     "name": "stdout",
     "output_type": "stream",
     "text": [
      "239678\n",
      "[0, 239678, 479356, 719034, 958712, 1198390, 1438068, 1677746, 1917424, 2157102, 2396780]\n",
      "11\n"
     ]
    }
   ],
   "source": [
    "gap = 2396782//10\n",
    "print(gap)\n",
    "cumsum_freq_threshold_list = [int(i) for i in range(0, 2396782, gap)]\n",
    "print(cumsum_freq_threshold_list)\n",
    "print(len(cumsum_freq_threshold_list))"
   ]
  },
  {
   "cell_type": "code",
   "execution_count": 70,
   "id": "vocational-violin",
   "metadata": {},
   "outputs": [],
   "source": [
    "def set_bucket4item(data):\n",
    "    item_freq_dict = dict(data.itemid.value_counts())\n",
    "    print(\"item num\", len(item_freq_dict))\n",
    "    freq_list = list(item_freq_dict.values())\n",
    "    print(\"min freq: %d, max freq: %d\"%(min(freq_list), max(freq_list)))\n",
    "#     freq_threshold_list = [0, 20, 80, 150, 200, 250, 300, 350]\n",
    "#     freq_threshold_list = [0, 100, 200, 400, 600, 1000]\n",
    "#     cumsum_freq_threshold_list = []\n",
    "\n",
    "    itemid_bucketid_dict = {}\n",
    "    bucketid_itemidlist_dict = {}\n",
    "    \n",
    "    sorted_item_freq_dict = {k:v for k, v in sorted(item_freq_dict.items(), key=lambda x: x[1])}\n",
    "    \n",
    "    cumsum_i = 0\n",
    "    for itemid in sorted_item_freq_dict:\n",
    "        i = item_freq_dict[itemid]\n",
    "        cumsum_i += i\n",
    "        \n",
    "        bucketid = 0\n",
    "        if cumsum_i <= cumsum_freq_threshold_list[1]:\n",
    "            bucketid = 1\n",
    "        elif cumsum_i <= cumsum_freq_threshold_list[2]:\n",
    "            bucketid = 2\n",
    "        elif cumsum_i <= cumsum_freq_threshold_list[3]:\n",
    "            bucketid = 3\n",
    "        elif cumsum_i <= cumsum_freq_threshold_list[4]:\n",
    "            bucketid = 4\n",
    "        elif cumsum_i <= cumsum_freq_threshold_list[5]:\n",
    "            bucketid = 5\n",
    "        elif cumsum_i <= cumsum_freq_threshold_list[6]:\n",
    "            bucketid = 6\n",
    "        elif cumsum_i <= cumsum_freq_threshold_list[7]:\n",
    "            bucketid = 7\n",
    "        elif cumsum_i <= cumsum_freq_threshold_list[8]:\n",
    "            bucketid = 8\n",
    "        elif cumsum_i <= cumsum_freq_threshold_list[9]:\n",
    "            bucketid = 9\n",
    "#         elif i <= freq_threshold_list[6]:\n",
    "#             bucketid = 6\n",
    "#         elif i <= freq_threshold_list[7]:\n",
    "#             bucketid = 7\n",
    "        else:\n",
    "            bucketid = 10\n",
    "        itemid_bucketid_dict[itemid] = bucketid\n",
    "        if bucketid not in bucketid_itemidlist_dict:\n",
    "            bucketid_itemidlist_dict[bucketid] = []\n",
    "        bucketid_itemidlist_dict[bucketid].append(itemid)\n",
    "\n",
    "    print(\"bucket\", len(bucketid_itemidlist_dict), bucketid_itemidlist_dict.keys())\n",
    "#     for bucketid in bucketid_itemidlist_dict:\n",
    "    for bucketid in range(1, len(bucketid_itemidlist_dict)+1):\n",
    "        itemid_list_bucket = bucketid_itemidlist_dict[bucketid]\n",
    "        freq_bucket = 0\n",
    "        freq_list_bucket = []\n",
    "        for itemid in itemid_list_bucket:\n",
    "            itemfreq_i = item_freq_dict[itemid]\n",
    "            freq_list_bucket.append(itemfreq_i)\n",
    "            freq_bucket += itemfreq_i\n",
    "        print(\"bucket %d, freq: %d, item num: %d\"%(bucketid, freq_bucket, len(itemid_list_bucket)))\n",
    "        print(\"[min, max]: [%d, %d]\"%(min(freq_list_bucket), max(freq_list_bucket)))\n",
    "    return item_freq_dict, itemid_bucketid_dict, bucketid_itemidlist_dict\n"
   ]
  },
  {
   "cell_type": "code",
   "execution_count": 89,
   "id": "coordinated-rough",
   "metadata": {},
   "outputs": [
    {
     "name": "stdout",
     "output_type": "stream",
     "text": [
      "item num 55152\n",
      "min freq: 8, max freq: 2360\n",
      "bucket 10 dict_keys([1, 2, 3, 4, 5, 6, 7, 8, 9, 10])\n",
      "bucket 1, freq: 239671, item num: 14166\n",
      "[min, max]: [8, 20]\n",
      "bucket 2, freq: 239682, item num: 10940\n",
      "[min, max]: [20, 25]\n",
      "bucket 3, freq: 239655, item num: 8636\n",
      "[min, max]: [25, 31]\n",
      "bucket 4, freq: 239676, item num: 6718\n",
      "[min, max]: [31, 41]\n",
      "bucket 5, freq: 239690, item num: 5108\n",
      "[min, max]: [41, 55]\n",
      "bucket 6, freq: 239656, item num: 3734\n",
      "[min, max]: [55, 76]\n",
      "bucket 7, freq: 239667, item num: 2645\n",
      "[min, max]: [76, 110]\n",
      "bucket 8, freq: 239690, item num: 1768\n",
      "[min, max]: [110, 173]\n",
      "bucket 9, freq: 239544, item num: 1037\n",
      "[min, max]: [173, 343]\n",
      "bucket 10, freq: 239851, item num: 400\n",
      "[min, max]: [343, 2360]\n"
     ]
    }
   ],
   "source": [
    "train_item_freq_dict, train_itemid_bucketid_dict, train_bucketid_itemidlist_dict = \\\n",
    "    set_bucket4item(train_df)"
   ]
  },
  {
   "cell_type": "code",
   "execution_count": null,
   "id": "compliant-bookmark",
   "metadata": {},
   "outputs": [],
   "source": []
  },
  {
   "cell_type": "code",
   "execution_count": 75,
   "id": "entire-juice",
   "metadata": {},
   "outputs": [],
   "source": [
    "def bias_eval(eval_data, itemid_bucketid_dict):\n",
    "    network.eval()\n",
    "\n",
    "    losses = []\n",
    "    recalls = []\n",
    "    mrrs = []\n",
    "    weights = []\n",
    "\n",
    "    dataloader = eval_data\n",
    "    topk = 20\n",
    "    \n",
    "    item_recall_dict = {}\n",
    "    item_mrr_dict = {}\n",
    "#     # ### load \n",
    "    # item_freq_dict = {}\n",
    "\n",
    "    with torch.no_grad():\n",
    "        total_test_num = []\n",
    "\n",
    "        for user_batch, item_batch, mask_item_batch, itemnum_batch in eval_data:\n",
    "            \n",
    "            user_batch_gpu = user_batch.to(device)\n",
    "            loss = 0.0\n",
    "\n",
    "            logits = network.f_eval_forward(user_batch_gpu)\n",
    "                \n",
    "            preds = logits.cpu()\n",
    "            preds.scatter_(1, mask_item_batch, float(\"-inf\"))\n",
    "            preds[:, 0] = float(\"-inf\")\n",
    "            \n",
    "            _, preds = torch.topk(preds, topk, -1)\n",
    "            \n",
    "#             print(user_batch.size())\n",
    "#             print(item_batch.size())\n",
    "            targets = item_batch\n",
    "        \n",
    "            batch_size = preds.size(0)\n",
    "        \n",
    "            for i in range(batch_size):\n",
    "                pred_i = list(preds[i].numpy())\n",
    "                target_i = targets[i].numpy()\n",
    "                \n",
    "                itemnum_i = itemnum_batch[i].item()\n",
    "                \n",
    "                target_i = list(target_i)[:itemnum_i]\n",
    "                \n",
    "                for j in range(itemnum_i):\n",
    "                    target_ij = target_i[j]\n",
    "                    if target_ij not in item_recall_dict:\n",
    "                        item_recall_dict[target_ij] = []\n",
    "                    \n",
    "                    if target_ij in pred_i:\n",
    "                        item_recall_dict[target_ij].append(1.0)\n",
    "                    else:\n",
    "                        item_recall_dict[target_ij].append(0.0)\n",
    "                        \n",
    "    return item_recall_dict  "
   ]
  },
  {
   "cell_type": "code",
   "execution_count": 76,
   "id": "working-occurrence",
   "metadata": {},
   "outputs": [],
   "source": [
    "test_item_recall_dict = bias_eval(valid_data, train_itemid_bucketid_dict)"
   ]
  },
  {
   "cell_type": "code",
   "execution_count": 77,
   "id": "domestic-cache",
   "metadata": {},
   "outputs": [],
   "source": [
    "bucket_recall_dict = {}\n",
    "for item in test_item_recall_dict:\n",
    "    bucketid = train_itemid_bucketid_dict[item]\n",
    "    item_recall = np.mean(test_item_recall_dict[item])\n",
    "    \n",
    "#     item_recall = item_recall[0]*1.0/item_recall[1]\n",
    "    if bucketid not in bucket_recall_dict:\n",
    "        bucket_recall_dict[bucketid] = []\n",
    "    bucket_recall_dict[bucketid].append(item_recall)\n",
    "\n",
    "for bucket in bucket_recall_dict:\n",
    "    recall_list = bucket_recall_dict[bucket]\n",
    "    mean_recall = np.mean(recall_list)\n",
    "    bucket_recall_dict[bucket] = mean_recall\n"
   ]
  },
  {
   "cell_type": "code",
   "execution_count": 78,
   "id": "above-meeting",
   "metadata": {},
   "outputs": [
    {
     "name": "stdout",
     "output_type": "stream",
     "text": [
      "recall\n",
      "1:0.0015, 2:0.0036, 3:0.0078, 4:0.0114, 5:0.0228, 6:0.0392, 7:0.0582, 8:0.0931, 9:0.1390, 10:0.2497, \n"
     ]
    }
   ],
   "source": [
    "print(\"recall\")\n",
    "for i in range(1, len(bucket_recall_dict)+1):\n",
    "    print(\"%d:%.4f\"%(i, bucket_recall_dict[i]), end=\", \")\n",
    "print()"
   ]
  },
  {
   "cell_type": "code",
   "execution_count": 87,
   "id": "excess-transfer",
   "metadata": {},
   "outputs": [
    {
     "data": {
      "text/plain": [
       "['0', '1', '2', '3', '4', '5', '6', '7', '8', '9']"
      ]
     },
     "execution_count": 87,
     "metadata": {},
     "output_type": "execute_result"
    }
   ],
   "source": [
    "[str(i) for i in range(10)]"
   ]
  },
  {
   "cell_type": "code",
   "execution_count": 88,
   "id": "extraordinary-delivery",
   "metadata": {},
   "outputs": [
    {
     "name": "stdout",
     "output_type": "stream",
     "text": [
      "10\n"
     ]
    },
    {
     "data": {
      "image/png": "[encoded data removed]",
      "text/plain": [
       "<Figure size 720x576 with 1 Axes>"
      ]
     },
     "metadata": {
      "needs_background": "light"
     },
     "output_type": "display_data"
    }
   ],
   "source": [
    "\n",
    "plt.rcParams['figure.figsize'] = 10, 8\n",
    "plt.rcParams['font.size'] = 20\n",
    "\n",
    "fig, ax = plt.subplots()\n",
    "\n",
    "x = [i for i in range(1, len(bucket_recall_dict)+1)]\n",
    "print(len(x))\n",
    "recall_list = [bucket_recall_dict[i] for i in range(1, len(bucket_recall_dict)+1)]\n",
    "plt.bar(x, recall_list)\n",
    "plt.xlabel(\"bucket index based on item frequencies in descending order\")\n",
    "plt.ylabel(\"recall@20\")\n",
    "plt.title(\"BPR on tiktok\")\n",
    "\n",
    "# ax.set_xticklabels([\"0\"])\n",
    "\n",
    "plt.yticks(fontsize=20)\n",
    "plt.xticks(fontsize=20)\n",
    "# plt.legend(loc=\"right\")\n",
    "plt.show()\n",
    "\n",
    "plt.show()"
   ]
  },
  {
   "cell_type": "markdown",
   "id": "color-muscle",
   "metadata": {},
   "source": [
    "### popularity based user group"
   ]
  },
  {
   "cell_type": "code",
   "execution_count": 90,
   "id": "arranged-colleague",
   "metadata": {},
   "outputs": [
    {
     "data": {
      "text/html": [
       "<div>\n",
       "<style scoped>\n",
       "    .dataframe tbody tr th:only-of-type {\n",
       "        vertical-align: middle;\n",
       "    }\n",
       "\n",
       "    .dataframe tbody tr th {\n",
       "        vertical-align: top;\n",
       "    }\n",
       "\n",
       "    .dataframe thead th {\n",
       "        text-align: right;\n",
       "    }\n",
       "</style>\n",
       "<table border=\"1\" class=\"dataframe\">\n",
       "  <thead>\n",
       "    <tr style=\"text-align: right;\">\n",
       "      <th></th>\n",
       "      <th>userid</th>\n",
       "      <th>itemid</th>\n",
       "      <th>age_group</th>\n",
       "    </tr>\n",
       "  </thead>\n",
       "  <tbody>\n",
       "    <tr>\n",
       "      <th>0</th>\n",
       "      <td>1</td>\n",
       "      <td>3</td>\n",
       "      <td>{1}</td>\n",
       "    </tr>\n",
       "    <tr>\n",
       "      <th>1</th>\n",
       "      <td>1</td>\n",
       "      <td>45</td>\n",
       "      <td>{1}</td>\n",
       "    </tr>\n",
       "    <tr>\n",
       "      <th>2</th>\n",
       "      <td>1</td>\n",
       "      <td>54</td>\n",
       "      <td>{1}</td>\n",
       "    </tr>\n",
       "    <tr>\n",
       "      <th>3</th>\n",
       "      <td>1</td>\n",
       "      <td>51</td>\n",
       "      <td>{1}</td>\n",
       "    </tr>\n",
       "    <tr>\n",
       "      <th>4</th>\n",
       "      <td>1</td>\n",
       "      <td>56</td>\n",
       "      <td>{1}</td>\n",
       "    </tr>\n",
       "  </tbody>\n",
       "</table>\n",
       "</div>"
      ],
      "text/plain": [
       "   userid  itemid age_group\n",
       "0       1       3       {1}\n",
       "1       1      45       {1}\n",
       "2       1      54       {1}\n",
       "3       1      51       {1}\n",
       "4       1      56       {1}"
      ]
     },
     "execution_count": 90,
     "metadata": {},
     "output_type": "execute_result"
    }
   ],
   "source": [
    "train_df.head()"
   ]
  },
  {
   "cell_type": "code",
   "execution_count": 91,
   "id": "assumed-albania",
   "metadata": {},
   "outputs": [
    {
     "name": "stdout",
     "output_type": "stream",
     "text": [
      "user num 52690\n",
      "min freq: 16, max freq: 380\n",
      "cumsum_y [     16      32      48 ... 2396026 2396402 2396782]\n"
     ]
    },
    {
     "data": {
      "image/png": "[encoded data removed]",
      "text/plain": [
       "<Figure size 720x576 with 1 Axes>"
      ]
     },
     "metadata": {
      "needs_background": "light"
     },
     "output_type": "display_data"
    }
   ],
   "source": [
    "userid_userfreq_dict = dict(train_df.userid.value_counts())\n",
    "def visualize_user_freq(data):\n",
    "    user_freq_dict = dict(data.userid.value_counts())\n",
    "    user_num = len(user_freq_dict)\n",
    "    print(\"user num\", user_num)\n",
    "    freq_list = list(user_freq_dict.values())\n",
    "    print(\"min freq: %d, max freq: %d\"%(min(freq_list), max(freq_list)))\n",
    "    \n",
    "    x = [i for i in range(user_num)]\n",
    "    y = sorted(freq_list)\n",
    "    cumsum_y = np.cumsum(y)\n",
    "    print(\"cumsum_y\", cumsum_y)\n",
    "    \n",
    "    p = 1.0*np.arange(len(y))/(len(y)-1)\n",
    "    \n",
    "    for i in range(user_num):\n",
    "        p_i = p[i]\n",
    "        y_i = y[i]\n",
    "        cumsum_y_i = cumsum_y[i]\n",
    "        \n",
    "#     plt.xticks([i for i in range(0, 2400, 400)])\n",
    "    plt.xlim([0, 380])\n",
    "    plt.plot(y, p)\n",
    "    \n",
    "    plt.show()\n",
    "\n",
    "visualize_user_freq(train_df)"
   ]
  },
  {
   "cell_type": "code",
   "execution_count": 92,
   "id": "demanding-signal",
   "metadata": {},
   "outputs": [
    {
     "name": "stdout",
     "output_type": "stream",
     "text": [
      "342397\n",
      "[0, 342397, 684794, 1027191, 1369588, 1711985, 2054382, 2396779]\n",
      "8\n"
     ]
    }
   ],
   "source": [
    "gap = 2396782//7\n",
    "print(gap)\n",
    "cumsum_user_freq_threshold_list = [int(i) for i in range(0, 2396782, gap)]\n",
    "print(cumsum_user_freq_threshold_list)\n",
    "print(len(cumsum_user_freq_threshold_list))\n"
   ]
  },
  {
   "cell_type": "code",
   "execution_count": 93,
   "id": "sustainable-picture",
   "metadata": {},
   "outputs": [
    {
     "name": "stdout",
     "output_type": "stream",
     "text": [
      "user num 52690\n",
      "min freq: 16, max freq: 380\n",
      "bucket 7 dict_keys([1, 2, 3, 4, 5, 6, 7])\n",
      "bucket 1, freq: 342393, user num: 16924\n",
      "[min, max]: [16, 26]\n",
      "bucket 2, freq: 342385, user num: 10972\n",
      "[min, max]: [26, 37]\n",
      "bucket 3, freq: 342412, user num: 8012\n",
      "[min, max]: [37, 49]\n",
      "bucket 4, freq: 342343, user num: 6127\n",
      "[min, max]: [49, 64]\n",
      "bucket 5, freq: 342447, user num: 4740\n",
      "[min, max]: [64, 83]\n",
      "bucket 6, freq: 342365, user num: 3586\n",
      "[min, max]: [83, 113]\n",
      "bucket 7, freq: 342437, user num: 2329\n",
      "[min, max]: [113, 380]\n"
     ]
    }
   ],
   "source": [
    "def set_bucket4user(data):\n",
    "    user_freq_dict = dict(data.userid.value_counts())\n",
    "    user_num = len(user_freq_dict)\n",
    "    print(\"user num\", user_num)\n",
    "    freq_list = list(user_freq_dict.values())\n",
    "    print(\"min freq: %d, max freq: %d\"%(min(freq_list), max(freq_list)))\n",
    "    \n",
    "    userid_bucketid_dict = {}\n",
    "    bucketid_useridlist_dict = {}\n",
    "    \n",
    "    sorted_user_freq_dict = {k:v for k, v in sorted(user_freq_dict.items(), key=lambda x: x[1])}\n",
    "    \n",
    "    cumsum_i = 0\n",
    "    for userid in sorted_user_freq_dict:\n",
    "        i = user_freq_dict[userid]\n",
    "        cumsum_i += i\n",
    "        \n",
    "        bucketid = 0\n",
    "        if cumsum_i <= cumsum_user_freq_threshold_list[1]:\n",
    "            bucketid = 1\n",
    "        elif cumsum_i <= cumsum_user_freq_threshold_list[2]:\n",
    "            bucketid = 2\n",
    "        elif cumsum_i <= cumsum_user_freq_threshold_list[3]:\n",
    "            bucketid = 3\n",
    "        elif cumsum_i <= cumsum_user_freq_threshold_list[4]:\n",
    "            bucketid = 4\n",
    "        elif cumsum_i <= cumsum_user_freq_threshold_list[5]:\n",
    "            bucketid = 5\n",
    "        elif cumsum_i <= cumsum_user_freq_threshold_list[6]:\n",
    "            bucketid = 6\n",
    "#         elif cumsum_i <= cumsum_user_freq_threshold_list[7]:\n",
    "#             bucketid = 7\n",
    "#         elif i <= freq_threshold_list[6]:\n",
    "#             bucketid = 6\n",
    "#         elif i <= freq_threshold_list[7]:\n",
    "#             bucketid = 7\n",
    "        else:\n",
    "            bucketid = 7\n",
    "        userid_bucketid_dict[userid] = bucketid\n",
    "        if bucketid not in bucketid_useridlist_dict:\n",
    "            bucketid_useridlist_dict[bucketid] = []\n",
    "        bucketid_useridlist_dict[bucketid].append(userid)\n",
    "\n",
    "    print(\"bucket\", len(bucketid_useridlist_dict), bucketid_useridlist_dict.keys())\n",
    "#     for bucketid in bucketid_itemidlist_dict:\n",
    "    for bucketid in range(1, len(bucketid_useridlist_dict)+1):\n",
    "        userid_list_bucket = bucketid_useridlist_dict[bucketid]\n",
    "        freq_bucket = 0\n",
    "        freq_list_bucket = []\n",
    "        for userid in userid_list_bucket:\n",
    "            userfreq_i = user_freq_dict[userid]\n",
    "            freq_list_bucket.append(userfreq_i)\n",
    "            freq_bucket += userfreq_i\n",
    "        print(\"bucket %d, freq: %d, user num: %d\"%(bucketid, freq_bucket, len(userid_list_bucket)))\n",
    "        print(\"[min, max]: [%d, %d]\"%(min(freq_list_bucket), max(freq_list_bucket)))\n",
    "    return user_freq_dict, userid_bucketid_dict, bucketid_useridlist_dict\n",
    "\n",
    "train_user_freq_dict, train_userid_bucketid_dict, train_bucketid_useridlist_dict = \\\n",
    "    set_bucket4user(train_df)"
   ]
  },
  {
   "cell_type": "code",
   "execution_count": 95,
   "id": "suffering-chambers",
   "metadata": {},
   "outputs": [],
   "source": [
    "def user_bias_eval(eval_data, userid_bucketid_dict):\n",
    "    network.eval()\n",
    "\n",
    "    losses = []\n",
    "    recalls = []\n",
    "    mrrs = []\n",
    "    weights = []\n",
    "\n",
    "    dataloader = eval_data\n",
    "    topk = 20\n",
    "    \n",
    "    user_recall_dict = {}\n",
    "#     # ### load \n",
    "    # item_freq_dict = {}\n",
    "\n",
    "    with torch.no_grad():\n",
    "        total_test_num = []\n",
    "\n",
    "        for user_batch, item_batch, mask_item_batch, itemnum_batch in eval_data:\n",
    "            \n",
    "            user_batch_gpu = user_batch.to(device)\n",
    "            loss = 0.0\n",
    "\n",
    "            logits = network.f_eval_forward(user_batch_gpu)\n",
    "                \n",
    "            preds = logits.cpu()\n",
    "            preds.scatter_(1, mask_item_batch, float(\"-inf\"))\n",
    "            preds[:, 0] = float(\"-inf\")\n",
    "            \n",
    "            _, preds = torch.topk(preds, topk, -1)\n",
    "            # print(\"logits size\", logits.size())\n",
    "\n",
    "#             print(user_batch.size())\n",
    "#             print(item_batch.size())\n",
    "            targets = item_batch\n",
    "        \n",
    "            batch_size = preds.size(0)\n",
    "        \n",
    "            for idx in range(batch_size):\n",
    "                pred_i = list(preds[idx].numpy())\n",
    "                target_i = targets[idx].numpy()\n",
    "\n",
    "                itemnum_i = itemnum_batch[idx].item()\n",
    "\n",
    "                target_i = list(target_i)[:itemnum_i]\n",
    "\n",
    "                user_i = user_batch[idx].item()\n",
    "                \n",
    "                true_pos_i = set(target_i) & set(pred_i)\n",
    "                true_posnum_i = len(true_pos_i)\n",
    "\n",
    "                recall_i = true_posnum_i/itemnum_i\n",
    "                \n",
    "                if user_i not in user_recall_dict:\n",
    "                    user_recall_dict[user_i] = []\n",
    "                user_recall_dict[user_i].append(recall_i)\n",
    "            \n",
    "                        \n",
    "    return user_recall_dict\n",
    "\n",
    "test_user_recall_dict = user_bias_eval(valid_data, train_userid_bucketid_dict)"
   ]
  },
  {
   "cell_type": "code",
   "execution_count": 96,
   "id": "centered-moses",
   "metadata": {},
   "outputs": [],
   "source": [
    "bucket_recall_dict = {}\n",
    "for user in test_user_recall_dict:\n",
    "    bucketid = train_userid_bucketid_dict[user]\n",
    "#     user_recall = np.mean(test_user_recall_dict[user])\n",
    "    user_recall = test_user_recall_dict[user]\n",
    "    \n",
    "#     item_recall = item_recall[0]*1.0/item_recall[1]\n",
    "    if bucketid not in bucket_recall_dict:\n",
    "        bucket_recall_dict[bucketid] = []\n",
    "    bucket_recall_dict[bucketid].append(user_recall)\n",
    "\n",
    "for bucket in bucket_recall_dict:\n",
    "    recall_list = bucket_recall_dict[bucket]\n",
    "    mean_recall = np.mean(recall_list)\n",
    "    bucket_recall_dict[bucket] = mean_recall\n",
    "\n"
   ]
  },
  {
   "cell_type": "code",
   "execution_count": 97,
   "id": "welcome-massage",
   "metadata": {},
   "outputs": [
    {
     "name": "stdout",
     "output_type": "stream",
     "text": [
      "recall\n",
      "1:0.0829, 2:0.0782, 3:0.0722, 4:0.0667, 5:0.0638, 6:0.0556, 7:0.0469, \n"
     ]
    }
   ],
   "source": [
    "print(\"recall\")\n",
    "for i in range(1, len(bucket_recall_dict)+1):\n",
    "    print(\"%d:%.4f\"%(i, bucket_recall_dict[i]), end=\", \")\n",
    "print()"
   ]
  },
  {
   "cell_type": "code",
   "execution_count": 99,
   "id": "blessed-basics",
   "metadata": {},
   "outputs": [
    {
     "name": "stdout",
     "output_type": "stream",
     "text": [
      "7\n"
     ]
    },
    {
     "data": {
      "image/png": "[encoded data removed]",
      "text/plain": [
       "<Figure size 720x576 with 1 Axes>"
      ]
     },
     "metadata": {
      "needs_background": "light"
     },
     "output_type": "display_data"
    }
   ],
   "source": [
    "plt.rcParams['figure.figsize'] = 10, 8\n",
    "plt.rcParams['font.size'] = 20\n",
    "\n",
    "fig, ax = plt.subplots()\n",
    "\n",
    "x = [i for i in range(1, len(bucket_recall_dict)+1)]\n",
    "print(len(x))\n",
    "recall_list = [bucket_recall_dict[i] for i in range(1, len(bucket_recall_dict)+1)]\n",
    "plt.bar(x, recall_list)\n",
    "plt.xlabel(\"bucket index based on user frequencies in ascending order\")\n",
    "plt.ylabel(\"recall@20\")\n",
    "plt.title(\"BPR on tiktok\")\n",
    "\n",
    "# ax.set_xticklabels([\"0\"])\n",
    "\n",
    "plt.yticks(fontsize=20)\n",
    "plt.xticks(fontsize=20)\n",
    "# plt.legend(loc=\"right\")\n",
    "plt.show()\n",
    "\n",
    "plt.show()"
   ]
  },
  {
   "cell_type": "raw",
   "id": "oriented-association",
   "metadata": {},
   "source": []
  }
 ],
 "metadata": {
  "kernelspec": {
   "display_name": "Python 3",
   "language": "python",
   "name": "python3"
  },
  "language_info": {
   "codemirror_mode": {
    "name": "ipython",
    "version": 3
   },
   "file_extension": ".py",
   "mimetype": "text/x-python",
   "name": "python",
   "nbconvert_exporter": "python",
   "pygments_lexer": "ipython3",
   "version": "3.7.3"
  }
 },
 "nbformat": 4,
 "nbformat_minor": 5
}

{
 "cells": [
  {
   "cell_type": "code",
   "execution_count": 2,
   "id": "outer-tragedy",
   "metadata": {},
   "outputs": [],
   "source": [
    "from scipy import stats"
   ]
  },
  {
   "cell_type": "code",
   "execution_count": 16,
   "id": "following-polyester",
   "metadata": {},
   "outputs": [],
   "source": [
    "a = [17.2, 20.9, 22.6, 18.1, 21.7, 21.4, 23.5, 24.2, 14.7, 21.8]\n",
    "b = [21.5, 22.8, 21.0, 23.0, 21.6, 23.6, 22.5, 20.7, 23.4, 21.8, \\\n",
    "     20.7, 21.7, 21.5, 22.5, 23.6, 21.5, 22.5, 23.5, 21.5, 21.8]"
   ]
  },
  {
   "cell_type": "code",
   "execution_count": 23,
   "id": "linear-buddy",
   "metadata": {},
   "outputs": [],
   "source": [
    "t, p = stats.ttest_ind(a, b, equal_var=False, alternative=\"less\")"
   ]
  },
  {
   "cell_type": "code",
   "execution_count": 24,
   "id": "cardiac-viewer",
   "metadata": {},
   "outputs": [
    {
     "name": "stdout",
     "output_type": "stream",
     "text": [
      "1.5654335235985037 0.9255791516973358\n"
     ]
    }
   ],
   "source": [
    "print(t, p)"
   ]
  },
  {
   "cell_type": "code",
   "execution_count": 18,
   "id": "elder-stewart",
   "metadata": {},
   "outputs": [
    {
     "data": {
      "text/plain": [
       "Ttest_indResult(statistic=-1.5654335235985037, pvalue=0.14884169660532834)"
      ]
     },
     "execution_count": 18,
     "metadata": {},
     "output_type": "execute_result"
    }
   ],
   "source": [
    "stats.ttest_ind(b, a, equal_var=False)"
   ]
  },
  {
   "cell_type": "code",
   "execution_count": 15,
   "id": "heated-minute",
   "metadata": {},
   "outputs": [
    {
     "data": {
      "text/plain": [
       "Ttest_indResult(statistic=-2.1000496376104434, pvalue=0.04485851653088633)"
      ]
     },
     "execution_count": 15,
     "metadata": {},
     "output_type": "execute_result"
    }
   ],
   "source": [
    "stats.ttest_ind(a, b, equal_var=True)"
   ]
  },
  {
   "cell_type": "code",
   "execution_count": 5,
   "id": "subsequent-diameter",
   "metadata": {},
   "outputs": [],
   "source": [
    "a = [27.5, 21, 19, 23.6, 17, 17.9, 16.9, 20.1, 21.9, 22.6, 23.1, 19.6, 19, 21.7, 21.4]\n",
    "b = [27.1, 22, 20.8, 23.4, 23.4, 23.5, 25.8, 22, 24.8, 20.2, 21.9, 22.1, 22.9, 20.5, 24.4]"
   ]
  },
  {
   "cell_type": "code",
   "execution_count": 6,
   "id": "nominated-shower",
   "metadata": {},
   "outputs": [
    {
     "data": {
      "text/plain": [
       "Ttest_indResult(statistic=-2.455356398286006, pvalue=0.020544522734125933)"
      ]
     },
     "execution_count": 6,
     "metadata": {},
     "output_type": "execute_result"
    }
   ],
   "source": [
    "stats.ttest_ind(a, b, equal_var=True)"
   ]
  },
  {
   "cell_type": "code",
   "execution_count": null,
   "id": "unnecessary-vacuum",
   "metadata": {},
   "outputs": [],
   "source": []
  }
 ],
 "metadata": {
  "kernelspec": {
   "display_name": "Python 3",
   "language": "python",
   "name": "python3"
  },
  "language_info": {
   "codemirror_mode": {
    "name": "ipython",
    "version": 3
   },
   "file_extension": ".py",
   "mimetype": "text/x-python",
   "name": "python",
   "nbconvert_exporter": "python",
   "pygments_lexer": "ipython3",
   "version": "3.7.3"
  }
 },
 "nbformat": 4,
 "nbformat_minor": 5
}
